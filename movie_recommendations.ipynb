{
  "nbformat": 4,
  "nbformat_minor": 0,
  "metadata": {
    "colab": {
      "provenance": []
    },
    "kernelspec": {
      "name": "python3",
      "display_name": "Python 3"
    },
    "language_info": {
      "name": "python"
    }
  },
  "cells": [
    {
      "cell_type": "markdown",
      "source": [
        "# **MOVIE RECOMMENDATION SYSTEM**"
      ],
      "metadata": {
        "id": "e4L7C02U-8Nc"
      }
    },
    {
      "cell_type": "markdown",
      "source": [
        "**OBJECIVE**:\n",
        "\n",
        "Recommender sysytem is a system that seeks to predict or filter preferences according to the users choices. recommender systems are utilized in variety of areas including movies,music,news,books,research articles,search quries,social tags, and products in general.\n",
        "Reacommender systems produce a list of recommendations in any two of ways-"
      ],
      "metadata": {
        "id": "031Q24Wc_SQd"
      }
    },
    {
      "cell_type": "markdown",
      "source": [
        "**COLABRATIVE FILTERING** :\n",
        "colabrative filtering approaches build a model from the users past behavious ( i.e. iteams purchased or searched by the user ) as well as similar decessions made by other users. This model is then used to predict iteams (or rating for iteams) that users may have an intrest in."
      ],
      "metadata": {
        "id": "2c9XhZ1VCNCj"
      }
    },
    {
      "cell_type": "markdown",
      "source": [
        "**CONTENT-BASED FILTERING** :\n",
        "Content-based filtering approaches uses a series of discrete characteristics of ana item in order to recommend additional items with similar properties. content-based filtering methods are totally based on description of an item and a profile of users preferences.\n",
        "it recommends item based on the users past preferences. lets develop a basic recommendation system using python ad pandas.\n",
        "\n",
        "Lets develop a basic recommendation system by suggesting items that are most similar to particular item,in this case,movies.it just tells what movies/items are most similar tp the users movie choice."
      ],
      "metadata": {
        "id": "stgLVamsDN9K"
      }
    },
    {
      "cell_type": "code",
      "source": [
        "#import library\n",
        "import pandas as pd"
      ],
      "metadata": {
        "id": "IT5hfCv5E_CI"
      },
      "execution_count": 53,
      "outputs": []
    },
    {
      "cell_type": "code",
      "source": [
        "#import dataset\n",
        "movies = pd.read_csv('https://github.com/YBI-Foundation/Dataset/raw/main/Movies%20Recommendation.csv')"
      ],
      "metadata": {
        "id": "Z2G2GZGvFVPj"
      },
      "execution_count": 54,
      "outputs": []
    },
    {
      "cell_type": "code",
      "source": [
        "movies.head()"
      ],
      "metadata": {
        "colab": {
          "base_uri": "https://localhost:8080/",
          "height": 672
        },
        "id": "-u882r2MFVSq",
        "outputId": "42f7a0e3-535e-440f-e80b-3a4acd31e0e8"
      },
      "execution_count": 55,
      "outputs": [
        {
          "output_type": "execute_result",
          "data": {
            "text/plain": [
              "   Movie_ID      Movie_Title                       Movie_Genre Movie_Language  \\\n",
              "0         1       Four Rooms                      Crime Comedy             en   \n",
              "1         2        Star Wars  Adventure Action Science Fiction             en   \n",
              "2         3     Finding Nemo                  Animation Family             en   \n",
              "3         4     Forrest Gump              Comedy Drama Romance             en   \n",
              "4         5  American Beauty                             Drama             en   \n",
              "\n",
              "   Movie_Budget  Movie_Popularity Movie_Release_Date  Movie_Revenue  \\\n",
              "0       4000000         22.876230         09-12-1995        4300000   \n",
              "1      11000000        126.393695         25-05-1977      775398007   \n",
              "2      94000000         85.688789         30-05-2003      940335536   \n",
              "3      55000000        138.133331         06-07-1994      677945399   \n",
              "4      15000000         80.878605         15-09-1999      356296601   \n",
              "\n",
              "   Movie_Runtime  Movie_Vote  ...  \\\n",
              "0           98.0         6.5  ...   \n",
              "1          121.0         8.1  ...   \n",
              "2          100.0         7.6  ...   \n",
              "3          142.0         8.2  ...   \n",
              "4          122.0         7.9  ...   \n",
              "\n",
              "                                      Movie_Homepage  \\\n",
              "0                                                NaN   \n",
              "1  http://www.starwars.com/films/star-wars-episod...   \n",
              "2              http://movies.disney.com/finding-nemo   \n",
              "3                                                NaN   \n",
              "4                      http://www.dreamworks.com/ab/   \n",
              "\n",
              "                                      Movie_Keywords  \\\n",
              "0          hotel new year's eve witch bet hotel room   \n",
              "1        android galaxy hermit death star lightsaber   \n",
              "2  father son relationship harbor underwater fish...   \n",
              "3  vietnam veteran hippie mentally disabled runni...   \n",
              "4  male nudity female nudity adultery midlife cri...   \n",
              "\n",
              "                                      Movie_Overview  \\\n",
              "0  It's Ted the Bellhop's first night on the job....   \n",
              "1  Princess Leia is captured and held hostage by ...   \n",
              "2  Nemo, an adventurous young clownfish, is unexp...   \n",
              "3  A man with a low IQ has accomplished great thi...   \n",
              "4  Lester Burnham, a depressed suburban father in...   \n",
              "\n",
              "                              Movie_Production_House  \\\n",
              "0  [{\"name\": \"Miramax Films\", \"id\": 14}, {\"name\":...   \n",
              "1  [{\"name\": \"Lucasfilm\", \"id\": 1}, {\"name\": \"Twe...   \n",
              "2     [{\"name\": \"Pixar Animation Studios\", \"id\": 3}]   \n",
              "3          [{\"name\": \"Paramount Pictures\", \"id\": 4}]   \n",
              "4  [{\"name\": \"DreamWorks SKG\", \"id\": 27}, {\"name\"...   \n",
              "\n",
              "                            Movie_Production_Country  \\\n",
              "0  [{\"iso_3166_1\": \"US\", \"name\": \"United States o...   \n",
              "1  [{\"iso_3166_1\": \"US\", \"name\": \"United States o...   \n",
              "2  [{\"iso_3166_1\": \"US\", \"name\": \"United States o...   \n",
              "3  [{\"iso_3166_1\": \"US\", \"name\": \"United States o...   \n",
              "4  [{\"iso_3166_1\": \"US\", \"name\": \"United States o...   \n",
              "\n",
              "                      Movie_Spoken_Language  \\\n",
              "0  [{\"iso_639_1\": \"en\", \"name\": \"English\"}]   \n",
              "1  [{\"iso_639_1\": \"en\", \"name\": \"English\"}]   \n",
              "2  [{\"iso_639_1\": \"en\", \"name\": \"English\"}]   \n",
              "3  [{\"iso_639_1\": \"en\", \"name\": \"English\"}]   \n",
              "4  [{\"iso_639_1\": \"en\", \"name\": \"English\"}]   \n",
              "\n",
              "                                       Movie_Tagline  \\\n",
              "0  Twelve outrageous guests. Four scandalous requ...   \n",
              "1       A long time ago in a galaxy far, far away...   \n",
              "2  There are 3.7 trillion fish in the ocean, they...   \n",
              "3  The world will never be the same, once you've ...   \n",
              "4                                       Look closer.   \n",
              "\n",
              "                                          Movie_Cast  \\\n",
              "0  Tim Roth Antonio Banderas Jennifer Beals Madon...   \n",
              "1  Mark Hamill Harrison Ford Carrie Fisher Peter ...   \n",
              "2  Albert Brooks Ellen DeGeneres Alexander Gould ...   \n",
              "3  Tom Hanks Robin Wright Gary Sinise Mykelti Wil...   \n",
              "4  Kevin Spacey Annette Bening Thora Birch Wes Be...   \n",
              "\n",
              "                                          Movie_Crew   Movie_Director  \n",
              "0  [{'name': 'Allison Anders', 'gender': 1, 'depa...   Allison Anders  \n",
              "1  [{'name': 'George Lucas', 'gender': 2, 'depart...     George Lucas  \n",
              "2  [{'name': 'Andrew Stanton', 'gender': 2, 'depa...   Andrew Stanton  \n",
              "3  [{'name': 'Alan Silvestri', 'gender': 2, 'depa...  Robert Zemeckis  \n",
              "4  [{'name': 'Thomas Newman', 'gender': 2, 'depar...       Sam Mendes  \n",
              "\n",
              "[5 rows x 21 columns]"
            ],
            "text/html": [
              "\n",
              "  <div id=\"df-256aee74-f28a-45be-b124-e62b7a4b2577\" class=\"colab-df-container\">\n",
              "    <div>\n",
              "<style scoped>\n",
              "    .dataframe tbody tr th:only-of-type {\n",
              "        vertical-align: middle;\n",
              "    }\n",
              "\n",
              "    .dataframe tbody tr th {\n",
              "        vertical-align: top;\n",
              "    }\n",
              "\n",
              "    .dataframe thead th {\n",
              "        text-align: right;\n",
              "    }\n",
              "</style>\n",
              "<table border=\"1\" class=\"dataframe\">\n",
              "  <thead>\n",
              "    <tr style=\"text-align: right;\">\n",
              "      <th></th>\n",
              "      <th>Movie_ID</th>\n",
              "      <th>Movie_Title</th>\n",
              "      <th>Movie_Genre</th>\n",
              "      <th>Movie_Language</th>\n",
              "      <th>Movie_Budget</th>\n",
              "      <th>Movie_Popularity</th>\n",
              "      <th>Movie_Release_Date</th>\n",
              "      <th>Movie_Revenue</th>\n",
              "      <th>Movie_Runtime</th>\n",
              "      <th>Movie_Vote</th>\n",
              "      <th>...</th>\n",
              "      <th>Movie_Homepage</th>\n",
              "      <th>Movie_Keywords</th>\n",
              "      <th>Movie_Overview</th>\n",
              "      <th>Movie_Production_House</th>\n",
              "      <th>Movie_Production_Country</th>\n",
              "      <th>Movie_Spoken_Language</th>\n",
              "      <th>Movie_Tagline</th>\n",
              "      <th>Movie_Cast</th>\n",
              "      <th>Movie_Crew</th>\n",
              "      <th>Movie_Director</th>\n",
              "    </tr>\n",
              "  </thead>\n",
              "  <tbody>\n",
              "    <tr>\n",
              "      <th>0</th>\n",
              "      <td>1</td>\n",
              "      <td>Four Rooms</td>\n",
              "      <td>Crime Comedy</td>\n",
              "      <td>en</td>\n",
              "      <td>4000000</td>\n",
              "      <td>22.876230</td>\n",
              "      <td>09-12-1995</td>\n",
              "      <td>4300000</td>\n",
              "      <td>98.0</td>\n",
              "      <td>6.5</td>\n",
              "      <td>...</td>\n",
              "      <td>NaN</td>\n",
              "      <td>hotel new year's eve witch bet hotel room</td>\n",
              "      <td>It's Ted the Bellhop's first night on the job....</td>\n",
              "      <td>[{\"name\": \"Miramax Films\", \"id\": 14}, {\"name\":...</td>\n",
              "      <td>[{\"iso_3166_1\": \"US\", \"name\": \"United States o...</td>\n",
              "      <td>[{\"iso_639_1\": \"en\", \"name\": \"English\"}]</td>\n",
              "      <td>Twelve outrageous guests. Four scandalous requ...</td>\n",
              "      <td>Tim Roth Antonio Banderas Jennifer Beals Madon...</td>\n",
              "      <td>[{'name': 'Allison Anders', 'gender': 1, 'depa...</td>\n",
              "      <td>Allison Anders</td>\n",
              "    </tr>\n",
              "    <tr>\n",
              "      <th>1</th>\n",
              "      <td>2</td>\n",
              "      <td>Star Wars</td>\n",
              "      <td>Adventure Action Science Fiction</td>\n",
              "      <td>en</td>\n",
              "      <td>11000000</td>\n",
              "      <td>126.393695</td>\n",
              "      <td>25-05-1977</td>\n",
              "      <td>775398007</td>\n",
              "      <td>121.0</td>\n",
              "      <td>8.1</td>\n",
              "      <td>...</td>\n",
              "      <td>http://www.starwars.com/films/star-wars-episod...</td>\n",
              "      <td>android galaxy hermit death star lightsaber</td>\n",
              "      <td>Princess Leia is captured and held hostage by ...</td>\n",
              "      <td>[{\"name\": \"Lucasfilm\", \"id\": 1}, {\"name\": \"Twe...</td>\n",
              "      <td>[{\"iso_3166_1\": \"US\", \"name\": \"United States o...</td>\n",
              "      <td>[{\"iso_639_1\": \"en\", \"name\": \"English\"}]</td>\n",
              "      <td>A long time ago in a galaxy far, far away...</td>\n",
              "      <td>Mark Hamill Harrison Ford Carrie Fisher Peter ...</td>\n",
              "      <td>[{'name': 'George Lucas', 'gender': 2, 'depart...</td>\n",
              "      <td>George Lucas</td>\n",
              "    </tr>\n",
              "    <tr>\n",
              "      <th>2</th>\n",
              "      <td>3</td>\n",
              "      <td>Finding Nemo</td>\n",
              "      <td>Animation Family</td>\n",
              "      <td>en</td>\n",
              "      <td>94000000</td>\n",
              "      <td>85.688789</td>\n",
              "      <td>30-05-2003</td>\n",
              "      <td>940335536</td>\n",
              "      <td>100.0</td>\n",
              "      <td>7.6</td>\n",
              "      <td>...</td>\n",
              "      <td>http://movies.disney.com/finding-nemo</td>\n",
              "      <td>father son relationship harbor underwater fish...</td>\n",
              "      <td>Nemo, an adventurous young clownfish, is unexp...</td>\n",
              "      <td>[{\"name\": \"Pixar Animation Studios\", \"id\": 3}]</td>\n",
              "      <td>[{\"iso_3166_1\": \"US\", \"name\": \"United States o...</td>\n",
              "      <td>[{\"iso_639_1\": \"en\", \"name\": \"English\"}]</td>\n",
              "      <td>There are 3.7 trillion fish in the ocean, they...</td>\n",
              "      <td>Albert Brooks Ellen DeGeneres Alexander Gould ...</td>\n",
              "      <td>[{'name': 'Andrew Stanton', 'gender': 2, 'depa...</td>\n",
              "      <td>Andrew Stanton</td>\n",
              "    </tr>\n",
              "    <tr>\n",
              "      <th>3</th>\n",
              "      <td>4</td>\n",
              "      <td>Forrest Gump</td>\n",
              "      <td>Comedy Drama Romance</td>\n",
              "      <td>en</td>\n",
              "      <td>55000000</td>\n",
              "      <td>138.133331</td>\n",
              "      <td>06-07-1994</td>\n",
              "      <td>677945399</td>\n",
              "      <td>142.0</td>\n",
              "      <td>8.2</td>\n",
              "      <td>...</td>\n",
              "      <td>NaN</td>\n",
              "      <td>vietnam veteran hippie mentally disabled runni...</td>\n",
              "      <td>A man with a low IQ has accomplished great thi...</td>\n",
              "      <td>[{\"name\": \"Paramount Pictures\", \"id\": 4}]</td>\n",
              "      <td>[{\"iso_3166_1\": \"US\", \"name\": \"United States o...</td>\n",
              "      <td>[{\"iso_639_1\": \"en\", \"name\": \"English\"}]</td>\n",
              "      <td>The world will never be the same, once you've ...</td>\n",
              "      <td>Tom Hanks Robin Wright Gary Sinise Mykelti Wil...</td>\n",
              "      <td>[{'name': 'Alan Silvestri', 'gender': 2, 'depa...</td>\n",
              "      <td>Robert Zemeckis</td>\n",
              "    </tr>\n",
              "    <tr>\n",
              "      <th>4</th>\n",
              "      <td>5</td>\n",
              "      <td>American Beauty</td>\n",
              "      <td>Drama</td>\n",
              "      <td>en</td>\n",
              "      <td>15000000</td>\n",
              "      <td>80.878605</td>\n",
              "      <td>15-09-1999</td>\n",
              "      <td>356296601</td>\n",
              "      <td>122.0</td>\n",
              "      <td>7.9</td>\n",
              "      <td>...</td>\n",
              "      <td>http://www.dreamworks.com/ab/</td>\n",
              "      <td>male nudity female nudity adultery midlife cri...</td>\n",
              "      <td>Lester Burnham, a depressed suburban father in...</td>\n",
              "      <td>[{\"name\": \"DreamWorks SKG\", \"id\": 27}, {\"name\"...</td>\n",
              "      <td>[{\"iso_3166_1\": \"US\", \"name\": \"United States o...</td>\n",
              "      <td>[{\"iso_639_1\": \"en\", \"name\": \"English\"}]</td>\n",
              "      <td>Look closer.</td>\n",
              "      <td>Kevin Spacey Annette Bening Thora Birch Wes Be...</td>\n",
              "      <td>[{'name': 'Thomas Newman', 'gender': 2, 'depar...</td>\n",
              "      <td>Sam Mendes</td>\n",
              "    </tr>\n",
              "  </tbody>\n",
              "</table>\n",
              "<p>5 rows × 21 columns</p>\n",
              "</div>\n",
              "    <div class=\"colab-df-buttons\">\n",
              "\n",
              "  <div class=\"colab-df-container\">\n",
              "    <button class=\"colab-df-convert\" onclick=\"convertToInteractive('df-256aee74-f28a-45be-b124-e62b7a4b2577')\"\n",
              "            title=\"Convert this dataframe to an interactive table.\"\n",
              "            style=\"display:none;\">\n",
              "\n",
              "  <svg xmlns=\"http://www.w3.org/2000/svg\" height=\"24px\" viewBox=\"0 -960 960 960\">\n",
              "    <path d=\"M120-120v-720h720v720H120Zm60-500h600v-160H180v160Zm220 220h160v-160H400v160Zm0 220h160v-160H400v160ZM180-400h160v-160H180v160Zm440 0h160v-160H620v160ZM180-180h160v-160H180v160Zm440 0h160v-160H620v160Z\"/>\n",
              "  </svg>\n",
              "    </button>\n",
              "\n",
              "  <style>\n",
              "    .colab-df-container {\n",
              "      display:flex;\n",
              "      gap: 12px;\n",
              "    }\n",
              "\n",
              "    .colab-df-convert {\n",
              "      background-color: #E8F0FE;\n",
              "      border: none;\n",
              "      border-radius: 50%;\n",
              "      cursor: pointer;\n",
              "      display: none;\n",
              "      fill: #1967D2;\n",
              "      height: 32px;\n",
              "      padding: 0 0 0 0;\n",
              "      width: 32px;\n",
              "    }\n",
              "\n",
              "    .colab-df-convert:hover {\n",
              "      background-color: #E2EBFA;\n",
              "      box-shadow: 0px 1px 2px rgba(60, 64, 67, 0.3), 0px 1px 3px 1px rgba(60, 64, 67, 0.15);\n",
              "      fill: #174EA6;\n",
              "    }\n",
              "\n",
              "    .colab-df-buttons div {\n",
              "      margin-bottom: 4px;\n",
              "    }\n",
              "\n",
              "    [theme=dark] .colab-df-convert {\n",
              "      background-color: #3B4455;\n",
              "      fill: #D2E3FC;\n",
              "    }\n",
              "\n",
              "    [theme=dark] .colab-df-convert:hover {\n",
              "      background-color: #434B5C;\n",
              "      box-shadow: 0px 1px 3px 1px rgba(0, 0, 0, 0.15);\n",
              "      filter: drop-shadow(0px 1px 2px rgba(0, 0, 0, 0.3));\n",
              "      fill: #FFFFFF;\n",
              "    }\n",
              "  </style>\n",
              "\n",
              "    <script>\n",
              "      const buttonEl =\n",
              "        document.querySelector('#df-256aee74-f28a-45be-b124-e62b7a4b2577 button.colab-df-convert');\n",
              "      buttonEl.style.display =\n",
              "        google.colab.kernel.accessAllowed ? 'block' : 'none';\n",
              "\n",
              "      async function convertToInteractive(key) {\n",
              "        const element = document.querySelector('#df-256aee74-f28a-45be-b124-e62b7a4b2577');\n",
              "        const dataTable =\n",
              "          await google.colab.kernel.invokeFunction('convertToInteractive',\n",
              "                                                    [key], {});\n",
              "        if (!dataTable) return;\n",
              "\n",
              "        const docLinkHtml = 'Like what you see? Visit the ' +\n",
              "          '<a target=\"_blank\" href=https://colab.research.google.com/notebooks/data_table.ipynb>data table notebook</a>'\n",
              "          + ' to learn more about interactive tables.';\n",
              "        element.innerHTML = '';\n",
              "        dataTable['output_type'] = 'display_data';\n",
              "        await google.colab.output.renderOutput(dataTable, element);\n",
              "        const docLink = document.createElement('div');\n",
              "        docLink.innerHTML = docLinkHtml;\n",
              "        element.appendChild(docLink);\n",
              "      }\n",
              "    </script>\n",
              "  </div>\n",
              "\n",
              "\n",
              "<div id=\"df-48401b20-6130-4d3b-9506-6b3f53f0381e\">\n",
              "  <button class=\"colab-df-quickchart\" onclick=\"quickchart('df-48401b20-6130-4d3b-9506-6b3f53f0381e')\"\n",
              "            title=\"Suggest charts\"\n",
              "            style=\"display:none;\">\n",
              "\n",
              "<svg xmlns=\"http://www.w3.org/2000/svg\" height=\"24px\"viewBox=\"0 0 24 24\"\n",
              "     width=\"24px\">\n",
              "    <g>\n",
              "        <path d=\"M19 3H5c-1.1 0-2 .9-2 2v14c0 1.1.9 2 2 2h14c1.1 0 2-.9 2-2V5c0-1.1-.9-2-2-2zM9 17H7v-7h2v7zm4 0h-2V7h2v10zm4 0h-2v-4h2v4z\"/>\n",
              "    </g>\n",
              "</svg>\n",
              "  </button>\n",
              "\n",
              "<style>\n",
              "  .colab-df-quickchart {\n",
              "      --bg-color: #E8F0FE;\n",
              "      --fill-color: #1967D2;\n",
              "      --hover-bg-color: #E2EBFA;\n",
              "      --hover-fill-color: #174EA6;\n",
              "      --disabled-fill-color: #AAA;\n",
              "      --disabled-bg-color: #DDD;\n",
              "  }\n",
              "\n",
              "  [theme=dark] .colab-df-quickchart {\n",
              "      --bg-color: #3B4455;\n",
              "      --fill-color: #D2E3FC;\n",
              "      --hover-bg-color: #434B5C;\n",
              "      --hover-fill-color: #FFFFFF;\n",
              "      --disabled-bg-color: #3B4455;\n",
              "      --disabled-fill-color: #666;\n",
              "  }\n",
              "\n",
              "  .colab-df-quickchart {\n",
              "    background-color: var(--bg-color);\n",
              "    border: none;\n",
              "    border-radius: 50%;\n",
              "    cursor: pointer;\n",
              "    display: none;\n",
              "    fill: var(--fill-color);\n",
              "    height: 32px;\n",
              "    padding: 0;\n",
              "    width: 32px;\n",
              "  }\n",
              "\n",
              "  .colab-df-quickchart:hover {\n",
              "    background-color: var(--hover-bg-color);\n",
              "    box-shadow: 0 1px 2px rgba(60, 64, 67, 0.3), 0 1px 3px 1px rgba(60, 64, 67, 0.15);\n",
              "    fill: var(--button-hover-fill-color);\n",
              "  }\n",
              "\n",
              "  .colab-df-quickchart-complete:disabled,\n",
              "  .colab-df-quickchart-complete:disabled:hover {\n",
              "    background-color: var(--disabled-bg-color);\n",
              "    fill: var(--disabled-fill-color);\n",
              "    box-shadow: none;\n",
              "  }\n",
              "\n",
              "  .colab-df-spinner {\n",
              "    border: 2px solid var(--fill-color);\n",
              "    border-color: transparent;\n",
              "    border-bottom-color: var(--fill-color);\n",
              "    animation:\n",
              "      spin 1s steps(1) infinite;\n",
              "  }\n",
              "\n",
              "  @keyframes spin {\n",
              "    0% {\n",
              "      border-color: transparent;\n",
              "      border-bottom-color: var(--fill-color);\n",
              "      border-left-color: var(--fill-color);\n",
              "    }\n",
              "    20% {\n",
              "      border-color: transparent;\n",
              "      border-left-color: var(--fill-color);\n",
              "      border-top-color: var(--fill-color);\n",
              "    }\n",
              "    30% {\n",
              "      border-color: transparent;\n",
              "      border-left-color: var(--fill-color);\n",
              "      border-top-color: var(--fill-color);\n",
              "      border-right-color: var(--fill-color);\n",
              "    }\n",
              "    40% {\n",
              "      border-color: transparent;\n",
              "      border-right-color: var(--fill-color);\n",
              "      border-top-color: var(--fill-color);\n",
              "    }\n",
              "    60% {\n",
              "      border-color: transparent;\n",
              "      border-right-color: var(--fill-color);\n",
              "    }\n",
              "    80% {\n",
              "      border-color: transparent;\n",
              "      border-right-color: var(--fill-color);\n",
              "      border-bottom-color: var(--fill-color);\n",
              "    }\n",
              "    90% {\n",
              "      border-color: transparent;\n",
              "      border-bottom-color: var(--fill-color);\n",
              "    }\n",
              "  }\n",
              "</style>\n",
              "\n",
              "  <script>\n",
              "    async function quickchart(key) {\n",
              "      const quickchartButtonEl =\n",
              "        document.querySelector('#' + key + ' button');\n",
              "      quickchartButtonEl.disabled = true;  // To prevent multiple clicks.\n",
              "      quickchartButtonEl.classList.add('colab-df-spinner');\n",
              "      try {\n",
              "        const charts = await google.colab.kernel.invokeFunction(\n",
              "            'suggestCharts', [key], {});\n",
              "      } catch (error) {\n",
              "        console.error('Error during call to suggestCharts:', error);\n",
              "      }\n",
              "      quickchartButtonEl.classList.remove('colab-df-spinner');\n",
              "      quickchartButtonEl.classList.add('colab-df-quickchart-complete');\n",
              "    }\n",
              "    (() => {\n",
              "      let quickchartButtonEl =\n",
              "        document.querySelector('#df-48401b20-6130-4d3b-9506-6b3f53f0381e button');\n",
              "      quickchartButtonEl.style.display =\n",
              "        google.colab.kernel.accessAllowed ? 'block' : 'none';\n",
              "    })();\n",
              "  </script>\n",
              "</div>\n",
              "\n",
              "    </div>\n",
              "  </div>\n"
            ],
            "application/vnd.google.colaboratory.intrinsic+json": {
              "type": "dataframe",
              "variable_name": "movies"
            }
          },
          "metadata": {},
          "execution_count": 55
        }
      ]
    },
    {
      "cell_type": "code",
      "source": [
        "movies.info()"
      ],
      "metadata": {
        "colab": {
          "base_uri": "https://localhost:8080/"
        },
        "id": "3tDW6kdJFVVe",
        "outputId": "82791bd7-b561-48ad-9dd0-0ec5df099e5a"
      },
      "execution_count": 56,
      "outputs": [
        {
          "output_type": "stream",
          "name": "stdout",
          "text": [
            "<class 'pandas.core.frame.DataFrame'>\n",
            "RangeIndex: 4760 entries, 0 to 4759\n",
            "Data columns (total 21 columns):\n",
            " #   Column                    Non-Null Count  Dtype  \n",
            "---  ------                    --------------  -----  \n",
            " 0   Movie_ID                  4760 non-null   int64  \n",
            " 1   Movie_Title               4760 non-null   object \n",
            " 2   Movie_Genre               4760 non-null   object \n",
            " 3   Movie_Language            4760 non-null   object \n",
            " 4   Movie_Budget              4760 non-null   int64  \n",
            " 5   Movie_Popularity          4760 non-null   float64\n",
            " 6   Movie_Release_Date        4760 non-null   object \n",
            " 7   Movie_Revenue             4760 non-null   int64  \n",
            " 8   Movie_Runtime             4758 non-null   float64\n",
            " 9   Movie_Vote                4760 non-null   float64\n",
            " 10  Movie_Vote_Count          4760 non-null   int64  \n",
            " 11  Movie_Homepage            1699 non-null   object \n",
            " 12  Movie_Keywords            4373 non-null   object \n",
            " 13  Movie_Overview            4757 non-null   object \n",
            " 14  Movie_Production_House    4760 non-null   object \n",
            " 15  Movie_Production_Country  4760 non-null   object \n",
            " 16  Movie_Spoken_Language     4760 non-null   object \n",
            " 17  Movie_Tagline             3942 non-null   object \n",
            " 18  Movie_Cast                4733 non-null   object \n",
            " 19  Movie_Crew                4760 non-null   object \n",
            " 20  Movie_Director            4738 non-null   object \n",
            "dtypes: float64(3), int64(4), object(14)\n",
            "memory usage: 781.1+ KB\n"
          ]
        }
      ]
    },
    {
      "cell_type": "code",
      "source": [
        "movies.describe()"
      ],
      "metadata": {
        "colab": {
          "base_uri": "https://localhost:8080/",
          "height": 300
        },
        "id": "MMq0umzWFVY4",
        "outputId": "68b246d9-9e80-4eb5-f64f-e32af7d8e4c8"
      },
      "execution_count": 57,
      "outputs": [
        {
          "output_type": "execute_result",
          "data": {
            "text/plain": [
              "          Movie_ID  Movie_Budget  Movie_Popularity  Movie_Revenue  \\\n",
              "count  4760.000000  4.760000e+03       4760.000000   4.760000e+03   \n",
              "mean   2382.566387  2.920129e+07         21.599510   8.263743e+07   \n",
              "std    1377.270159  4.075620e+07         31.887919   1.630554e+08   \n",
              "min       1.000000  0.000000e+00          0.000372   0.000000e+00   \n",
              "25%    1190.750000  9.257500e+05          4.807074   0.000000e+00   \n",
              "50%    2380.500000  1.500000e+07         13.119058   1.944716e+07   \n",
              "75%    3572.250000  4.000000e+07         28.411929   9.341276e+07   \n",
              "max    4788.000000  3.800000e+08        875.581305   2.787965e+09   \n",
              "\n",
              "       Movie_Runtime   Movie_Vote  Movie_Vote_Count  \n",
              "count    4758.000000  4760.000000       4760.000000  \n",
              "mean      107.184111     6.113866        692.508403  \n",
              "std        21.960332     1.141294       1235.007337  \n",
              "min         0.000000     0.000000          0.000000  \n",
              "25%        94.000000     5.600000         55.000000  \n",
              "50%       104.000000     6.200000        238.000000  \n",
              "75%       118.000000     6.800000        740.250000  \n",
              "max       338.000000    10.000000      13752.000000  "
            ],
            "text/html": [
              "\n",
              "  <div id=\"df-95e9594d-6dff-45e0-be5d-cdbcee654295\" class=\"colab-df-container\">\n",
              "    <div>\n",
              "<style scoped>\n",
              "    .dataframe tbody tr th:only-of-type {\n",
              "        vertical-align: middle;\n",
              "    }\n",
              "\n",
              "    .dataframe tbody tr th {\n",
              "        vertical-align: top;\n",
              "    }\n",
              "\n",
              "    .dataframe thead th {\n",
              "        text-align: right;\n",
              "    }\n",
              "</style>\n",
              "<table border=\"1\" class=\"dataframe\">\n",
              "  <thead>\n",
              "    <tr style=\"text-align: right;\">\n",
              "      <th></th>\n",
              "      <th>Movie_ID</th>\n",
              "      <th>Movie_Budget</th>\n",
              "      <th>Movie_Popularity</th>\n",
              "      <th>Movie_Revenue</th>\n",
              "      <th>Movie_Runtime</th>\n",
              "      <th>Movie_Vote</th>\n",
              "      <th>Movie_Vote_Count</th>\n",
              "    </tr>\n",
              "  </thead>\n",
              "  <tbody>\n",
              "    <tr>\n",
              "      <th>count</th>\n",
              "      <td>4760.000000</td>\n",
              "      <td>4.760000e+03</td>\n",
              "      <td>4760.000000</td>\n",
              "      <td>4.760000e+03</td>\n",
              "      <td>4758.000000</td>\n",
              "      <td>4760.000000</td>\n",
              "      <td>4760.000000</td>\n",
              "    </tr>\n",
              "    <tr>\n",
              "      <th>mean</th>\n",
              "      <td>2382.566387</td>\n",
              "      <td>2.920129e+07</td>\n",
              "      <td>21.599510</td>\n",
              "      <td>8.263743e+07</td>\n",
              "      <td>107.184111</td>\n",
              "      <td>6.113866</td>\n",
              "      <td>692.508403</td>\n",
              "    </tr>\n",
              "    <tr>\n",
              "      <th>std</th>\n",
              "      <td>1377.270159</td>\n",
              "      <td>4.075620e+07</td>\n",
              "      <td>31.887919</td>\n",
              "      <td>1.630554e+08</td>\n",
              "      <td>21.960332</td>\n",
              "      <td>1.141294</td>\n",
              "      <td>1235.007337</td>\n",
              "    </tr>\n",
              "    <tr>\n",
              "      <th>min</th>\n",
              "      <td>1.000000</td>\n",
              "      <td>0.000000e+00</td>\n",
              "      <td>0.000372</td>\n",
              "      <td>0.000000e+00</td>\n",
              "      <td>0.000000</td>\n",
              "      <td>0.000000</td>\n",
              "      <td>0.000000</td>\n",
              "    </tr>\n",
              "    <tr>\n",
              "      <th>25%</th>\n",
              "      <td>1190.750000</td>\n",
              "      <td>9.257500e+05</td>\n",
              "      <td>4.807074</td>\n",
              "      <td>0.000000e+00</td>\n",
              "      <td>94.000000</td>\n",
              "      <td>5.600000</td>\n",
              "      <td>55.000000</td>\n",
              "    </tr>\n",
              "    <tr>\n",
              "      <th>50%</th>\n",
              "      <td>2380.500000</td>\n",
              "      <td>1.500000e+07</td>\n",
              "      <td>13.119058</td>\n",
              "      <td>1.944716e+07</td>\n",
              "      <td>104.000000</td>\n",
              "      <td>6.200000</td>\n",
              "      <td>238.000000</td>\n",
              "    </tr>\n",
              "    <tr>\n",
              "      <th>75%</th>\n",
              "      <td>3572.250000</td>\n",
              "      <td>4.000000e+07</td>\n",
              "      <td>28.411929</td>\n",
              "      <td>9.341276e+07</td>\n",
              "      <td>118.000000</td>\n",
              "      <td>6.800000</td>\n",
              "      <td>740.250000</td>\n",
              "    </tr>\n",
              "    <tr>\n",
              "      <th>max</th>\n",
              "      <td>4788.000000</td>\n",
              "      <td>3.800000e+08</td>\n",
              "      <td>875.581305</td>\n",
              "      <td>2.787965e+09</td>\n",
              "      <td>338.000000</td>\n",
              "      <td>10.000000</td>\n",
              "      <td>13752.000000</td>\n",
              "    </tr>\n",
              "  </tbody>\n",
              "</table>\n",
              "</div>\n",
              "    <div class=\"colab-df-buttons\">\n",
              "\n",
              "  <div class=\"colab-df-container\">\n",
              "    <button class=\"colab-df-convert\" onclick=\"convertToInteractive('df-95e9594d-6dff-45e0-be5d-cdbcee654295')\"\n",
              "            title=\"Convert this dataframe to an interactive table.\"\n",
              "            style=\"display:none;\">\n",
              "\n",
              "  <svg xmlns=\"http://www.w3.org/2000/svg\" height=\"24px\" viewBox=\"0 -960 960 960\">\n",
              "    <path d=\"M120-120v-720h720v720H120Zm60-500h600v-160H180v160Zm220 220h160v-160H400v160Zm0 220h160v-160H400v160ZM180-400h160v-160H180v160Zm440 0h160v-160H620v160ZM180-180h160v-160H180v160Zm440 0h160v-160H620v160Z\"/>\n",
              "  </svg>\n",
              "    </button>\n",
              "\n",
              "  <style>\n",
              "    .colab-df-container {\n",
              "      display:flex;\n",
              "      gap: 12px;\n",
              "    }\n",
              "\n",
              "    .colab-df-convert {\n",
              "      background-color: #E8F0FE;\n",
              "      border: none;\n",
              "      border-radius: 50%;\n",
              "      cursor: pointer;\n",
              "      display: none;\n",
              "      fill: #1967D2;\n",
              "      height: 32px;\n",
              "      padding: 0 0 0 0;\n",
              "      width: 32px;\n",
              "    }\n",
              "\n",
              "    .colab-df-convert:hover {\n",
              "      background-color: #E2EBFA;\n",
              "      box-shadow: 0px 1px 2px rgba(60, 64, 67, 0.3), 0px 1px 3px 1px rgba(60, 64, 67, 0.15);\n",
              "      fill: #174EA6;\n",
              "    }\n",
              "\n",
              "    .colab-df-buttons div {\n",
              "      margin-bottom: 4px;\n",
              "    }\n",
              "\n",
              "    [theme=dark] .colab-df-convert {\n",
              "      background-color: #3B4455;\n",
              "      fill: #D2E3FC;\n",
              "    }\n",
              "\n",
              "    [theme=dark] .colab-df-convert:hover {\n",
              "      background-color: #434B5C;\n",
              "      box-shadow: 0px 1px 3px 1px rgba(0, 0, 0, 0.15);\n",
              "      filter: drop-shadow(0px 1px 2px rgba(0, 0, 0, 0.3));\n",
              "      fill: #FFFFFF;\n",
              "    }\n",
              "  </style>\n",
              "\n",
              "    <script>\n",
              "      const buttonEl =\n",
              "        document.querySelector('#df-95e9594d-6dff-45e0-be5d-cdbcee654295 button.colab-df-convert');\n",
              "      buttonEl.style.display =\n",
              "        google.colab.kernel.accessAllowed ? 'block' : 'none';\n",
              "\n",
              "      async function convertToInteractive(key) {\n",
              "        const element = document.querySelector('#df-95e9594d-6dff-45e0-be5d-cdbcee654295');\n",
              "        const dataTable =\n",
              "          await google.colab.kernel.invokeFunction('convertToInteractive',\n",
              "                                                    [key], {});\n",
              "        if (!dataTable) return;\n",
              "\n",
              "        const docLinkHtml = 'Like what you see? Visit the ' +\n",
              "          '<a target=\"_blank\" href=https://colab.research.google.com/notebooks/data_table.ipynb>data table notebook</a>'\n",
              "          + ' to learn more about interactive tables.';\n",
              "        element.innerHTML = '';\n",
              "        dataTable['output_type'] = 'display_data';\n",
              "        await google.colab.output.renderOutput(dataTable, element);\n",
              "        const docLink = document.createElement('div');\n",
              "        docLink.innerHTML = docLinkHtml;\n",
              "        element.appendChild(docLink);\n",
              "      }\n",
              "    </script>\n",
              "  </div>\n",
              "\n",
              "\n",
              "<div id=\"df-448fa4d1-60bf-4b8c-9a7d-15d880b0972a\">\n",
              "  <button class=\"colab-df-quickchart\" onclick=\"quickchart('df-448fa4d1-60bf-4b8c-9a7d-15d880b0972a')\"\n",
              "            title=\"Suggest charts\"\n",
              "            style=\"display:none;\">\n",
              "\n",
              "<svg xmlns=\"http://www.w3.org/2000/svg\" height=\"24px\"viewBox=\"0 0 24 24\"\n",
              "     width=\"24px\">\n",
              "    <g>\n",
              "        <path d=\"M19 3H5c-1.1 0-2 .9-2 2v14c0 1.1.9 2 2 2h14c1.1 0 2-.9 2-2V5c0-1.1-.9-2-2-2zM9 17H7v-7h2v7zm4 0h-2V7h2v10zm4 0h-2v-4h2v4z\"/>\n",
              "    </g>\n",
              "</svg>\n",
              "  </button>\n",
              "\n",
              "<style>\n",
              "  .colab-df-quickchart {\n",
              "      --bg-color: #E8F0FE;\n",
              "      --fill-color: #1967D2;\n",
              "      --hover-bg-color: #E2EBFA;\n",
              "      --hover-fill-color: #174EA6;\n",
              "      --disabled-fill-color: #AAA;\n",
              "      --disabled-bg-color: #DDD;\n",
              "  }\n",
              "\n",
              "  [theme=dark] .colab-df-quickchart {\n",
              "      --bg-color: #3B4455;\n",
              "      --fill-color: #D2E3FC;\n",
              "      --hover-bg-color: #434B5C;\n",
              "      --hover-fill-color: #FFFFFF;\n",
              "      --disabled-bg-color: #3B4455;\n",
              "      --disabled-fill-color: #666;\n",
              "  }\n",
              "\n",
              "  .colab-df-quickchart {\n",
              "    background-color: var(--bg-color);\n",
              "    border: none;\n",
              "    border-radius: 50%;\n",
              "    cursor: pointer;\n",
              "    display: none;\n",
              "    fill: var(--fill-color);\n",
              "    height: 32px;\n",
              "    padding: 0;\n",
              "    width: 32px;\n",
              "  }\n",
              "\n",
              "  .colab-df-quickchart:hover {\n",
              "    background-color: var(--hover-bg-color);\n",
              "    box-shadow: 0 1px 2px rgba(60, 64, 67, 0.3), 0 1px 3px 1px rgba(60, 64, 67, 0.15);\n",
              "    fill: var(--button-hover-fill-color);\n",
              "  }\n",
              "\n",
              "  .colab-df-quickchart-complete:disabled,\n",
              "  .colab-df-quickchart-complete:disabled:hover {\n",
              "    background-color: var(--disabled-bg-color);\n",
              "    fill: var(--disabled-fill-color);\n",
              "    box-shadow: none;\n",
              "  }\n",
              "\n",
              "  .colab-df-spinner {\n",
              "    border: 2px solid var(--fill-color);\n",
              "    border-color: transparent;\n",
              "    border-bottom-color: var(--fill-color);\n",
              "    animation:\n",
              "      spin 1s steps(1) infinite;\n",
              "  }\n",
              "\n",
              "  @keyframes spin {\n",
              "    0% {\n",
              "      border-color: transparent;\n",
              "      border-bottom-color: var(--fill-color);\n",
              "      border-left-color: var(--fill-color);\n",
              "    }\n",
              "    20% {\n",
              "      border-color: transparent;\n",
              "      border-left-color: var(--fill-color);\n",
              "      border-top-color: var(--fill-color);\n",
              "    }\n",
              "    30% {\n",
              "      border-color: transparent;\n",
              "      border-left-color: var(--fill-color);\n",
              "      border-top-color: var(--fill-color);\n",
              "      border-right-color: var(--fill-color);\n",
              "    }\n",
              "    40% {\n",
              "      border-color: transparent;\n",
              "      border-right-color: var(--fill-color);\n",
              "      border-top-color: var(--fill-color);\n",
              "    }\n",
              "    60% {\n",
              "      border-color: transparent;\n",
              "      border-right-color: var(--fill-color);\n",
              "    }\n",
              "    80% {\n",
              "      border-color: transparent;\n",
              "      border-right-color: var(--fill-color);\n",
              "      border-bottom-color: var(--fill-color);\n",
              "    }\n",
              "    90% {\n",
              "      border-color: transparent;\n",
              "      border-bottom-color: var(--fill-color);\n",
              "    }\n",
              "  }\n",
              "</style>\n",
              "\n",
              "  <script>\n",
              "    async function quickchart(key) {\n",
              "      const quickchartButtonEl =\n",
              "        document.querySelector('#' + key + ' button');\n",
              "      quickchartButtonEl.disabled = true;  // To prevent multiple clicks.\n",
              "      quickchartButtonEl.classList.add('colab-df-spinner');\n",
              "      try {\n",
              "        const charts = await google.colab.kernel.invokeFunction(\n",
              "            'suggestCharts', [key], {});\n",
              "      } catch (error) {\n",
              "        console.error('Error during call to suggestCharts:', error);\n",
              "      }\n",
              "      quickchartButtonEl.classList.remove('colab-df-spinner');\n",
              "      quickchartButtonEl.classList.add('colab-df-quickchart-complete');\n",
              "    }\n",
              "    (() => {\n",
              "      let quickchartButtonEl =\n",
              "        document.querySelector('#df-448fa4d1-60bf-4b8c-9a7d-15d880b0972a button');\n",
              "      quickchartButtonEl.style.display =\n",
              "        google.colab.kernel.accessAllowed ? 'block' : 'none';\n",
              "    })();\n",
              "  </script>\n",
              "</div>\n",
              "\n",
              "    </div>\n",
              "  </div>\n"
            ],
            "application/vnd.google.colaboratory.intrinsic+json": {
              "type": "dataframe",
              "summary": "{\n  \"name\": \"movies\",\n  \"rows\": 8,\n  \"fields\": [\n    {\n      \"column\": \"Movie_ID\",\n      \"properties\": {\n        \"dtype\": \"number\",\n        \"std\": 1720.2332807214548,\n        \"min\": 1.0,\n        \"max\": 4788.0,\n        \"num_unique_values\": 8,\n        \"samples\": [\n          2382.5663865546217,\n          2380.5,\n          4760.0\n        ],\n        \"semantic_type\": \"\",\n        \"description\": \"\"\n      }\n    },\n    {\n      \"column\": \"Movie_Budget\",\n      \"properties\": {\n        \"dtype\": \"number\",\n        \"std\": 129145160.11869688,\n        \"min\": 0.0,\n        \"max\": 380000000.0,\n        \"num_unique_values\": 8,\n        \"samples\": [\n          29201287.084033612,\n          15000000.0,\n          4760.0\n        ],\n        \"semantic_type\": \"\",\n        \"description\": \"\"\n      }\n    },\n    {\n      \"column\": \"Movie_Popularity\",\n      \"properties\": {\n        \"dtype\": \"number\",\n        \"std\": 1661.1040447605237,\n        \"min\": 0.000372,\n        \"max\": 4760.0,\n        \"num_unique_values\": 8,\n        \"samples\": [\n          21.599509934663867,\n          13.119057999999999,\n          4760.0\n        ],\n        \"semantic_type\": \"\",\n        \"description\": \"\"\n      }\n    },\n    {\n      \"column\": \"Movie_Revenue\",\n      \"properties\": {\n        \"dtype\": \"number\",\n        \"std\": 969366059.9423022,\n        \"min\": 0.0,\n        \"max\": 2787965087.0,\n        \"num_unique_values\": 7,\n        \"samples\": [\n          4760.0,\n          82637425.44285715,\n          93412759.75\n        ],\n        \"semantic_type\": \"\",\n        \"description\": \"\"\n      }\n    },\n    {\n      \"column\": \"Movie_Runtime\",\n      \"properties\": {\n        \"dtype\": \"number\",\n        \"std\": 1645.7876738678387,\n        \"min\": 0.0,\n        \"max\": 4758.0,\n        \"num_unique_values\": 8,\n        \"samples\": [\n          107.18411097099622,\n          104.0,\n          4758.0\n        ],\n        \"semantic_type\": \"\",\n        \"description\": \"\"\n      }\n    },\n    {\n      \"column\": \"Movie_Vote\",\n      \"properties\": {\n        \"dtype\": \"number\",\n        \"std\": 1681.106199712945,\n        \"min\": 0.0,\n        \"max\": 4760.0,\n        \"num_unique_values\": 8,\n        \"samples\": [\n          6.113865546218487,\n          6.2,\n          4760.0\n        ],\n        \"semantic_type\": \"\",\n        \"description\": \"\"\n      }\n    },\n    {\n      \"column\": \"Movie_Vote_Count\",\n      \"properties\": {\n        \"dtype\": \"number\",\n        \"std\": 4732.148341860835,\n        \"min\": 0.0,\n        \"max\": 13752.0,\n        \"num_unique_values\": 8,\n        \"samples\": [\n          692.5084033613446,\n          238.0,\n          4760.0\n        ],\n        \"semantic_type\": \"\",\n        \"description\": \"\"\n      }\n    }\n  ]\n}"
            }
          },
          "metadata": {},
          "execution_count": 57
        }
      ]
    },
    {
      "cell_type": "code",
      "source": [
        "movies.shape"
      ],
      "metadata": {
        "colab": {
          "base_uri": "https://localhost:8080/"
        },
        "id": "bdWqjrJyGhjg",
        "outputId": "5917fd91-178e-4e1c-ab30-33e5e31d4978"
      },
      "execution_count": 58,
      "outputs": [
        {
          "output_type": "execute_result",
          "data": {
            "text/plain": [
              "(4760, 21)"
            ]
          },
          "metadata": {},
          "execution_count": 58
        }
      ]
    },
    {
      "cell_type": "code",
      "source": [
        "movies.columns"
      ],
      "metadata": {
        "colab": {
          "base_uri": "https://localhost:8080/"
        },
        "id": "TvJMGINSGhl3",
        "outputId": "bec0d9c7-07ec-4038-9d5a-ae4fa7346ec7"
      },
      "execution_count": 59,
      "outputs": [
        {
          "output_type": "execute_result",
          "data": {
            "text/plain": [
              "Index(['Movie_ID', 'Movie_Title', 'Movie_Genre', 'Movie_Language',\n",
              "       'Movie_Budget', 'Movie_Popularity', 'Movie_Release_Date',\n",
              "       'Movie_Revenue', 'Movie_Runtime', 'Movie_Vote', 'Movie_Vote_Count',\n",
              "       'Movie_Homepage', 'Movie_Keywords', 'Movie_Overview',\n",
              "       'Movie_Production_House', 'Movie_Production_Country',\n",
              "       'Movie_Spoken_Language', 'Movie_Tagline', 'Movie_Cast', 'Movie_Crew',\n",
              "       'Movie_Director'],\n",
              "      dtype='object')"
            ]
          },
          "metadata": {},
          "execution_count": 59
        }
      ]
    },
    {
      "cell_type": "markdown",
      "source": [
        "GET FEATURE SELECTION"
      ],
      "metadata": {
        "id": "EVzQdq5uB-4V"
      }
    },
    {
      "cell_type": "code",
      "source": [
        "#DEFINE TARGET (Y) & FEATURES (X)\n",
        "movies.columns"
      ],
      "metadata": {
        "colab": {
          "base_uri": "https://localhost:8080/"
        },
        "id": "nNfTWV3cMhnm",
        "outputId": "dafb384e-6869-46b1-9a7a-fda41972e647"
      },
      "execution_count": 69,
      "outputs": [
        {
          "output_type": "execute_result",
          "data": {
            "text/plain": [
              "Index(['Movie_ID', 'Movie_Title', 'Movie_Genre', 'Movie_Language',\n",
              "       'Movie_Budget', 'Movie_Popularity', 'Movie_Release_Date',\n",
              "       'Movie_Revenue', 'Movie_Runtime', 'Movie_Vote', 'Movie_Vote_Count',\n",
              "       'Movie_Homepage', 'Movie_Keywords', 'Movie_Overview',\n",
              "       'Movie_Production_House', 'Movie_Production_Country',\n",
              "       'Movie_Spoken_Language', 'Movie_Tagline', 'Movie_Cast', 'Movie_Crew',\n",
              "       'Movie_Director'],\n",
              "      dtype='object')"
            ]
          },
          "metadata": {},
          "execution_count": 69
        }
      ]
    },
    {
      "cell_type": "code",
      "source": [
        "movies_features = movies[['Movie_Title', 'Movie_Language', 'Movie_Release_Date', 'Movie_Tagline', 'Movie_Cast']].fillna('')"
      ],
      "metadata": {
        "id": "nMe_sDZiMhq6"
      },
      "execution_count": 74,
      "outputs": []
    },
    {
      "cell_type": "code",
      "source": [
        "movies_features.shape"
      ],
      "metadata": {
        "colab": {
          "base_uri": "https://localhost:8080/"
        },
        "id": "pNrtXBnkMh7b",
        "outputId": "0ede152f-9a51-446c-ed97-0c6ebc7bf403"
      },
      "execution_count": 75,
      "outputs": [
        {
          "output_type": "execute_result",
          "data": {
            "text/plain": [
              "(4760, 5)"
            ]
          },
          "metadata": {},
          "execution_count": 75
        }
      ]
    },
    {
      "cell_type": "code",
      "source": [
        "movies_features"
      ],
      "metadata": {
        "colab": {
          "base_uri": "https://localhost:8080/",
          "height": 580
        },
        "id": "HFpTZkxQQpds",
        "outputId": "4ae1b57c-9753-4677-e9c7-211a399460ba"
      },
      "execution_count": 76,
      "outputs": [
        {
          "output_type": "execute_result",
          "data": {
            "text/plain": [
              "                      Movie_Title Movie_Language Movie_Release_Date  \\\n",
              "0                      Four Rooms             en         09-12-1995   \n",
              "1                       Star Wars             en         25-05-1977   \n",
              "2                    Finding Nemo             en         30-05-2003   \n",
              "3                    Forrest Gump             en         06-07-1994   \n",
              "4                 American Beauty             en         15-09-1999   \n",
              "...                           ...            ...                ...   \n",
              "4755             Midnight Cabaret             en         01-01-1990   \n",
              "4756             Growing Up Smith             en         03-02-2017   \n",
              "4757                       8 Days             en         15-06-2014   \n",
              "4758              Running Forever             en         27-10-2015   \n",
              "4759  To Be Frank, Sinatra at 100             en         12-12-2015   \n",
              "\n",
              "                                          Movie_Tagline  \\\n",
              "0     Twelve outrageous guests. Four scandalous requ...   \n",
              "1          A long time ago in a galaxy far, far away...   \n",
              "2     There are 3.7 trillion fish in the ocean, they...   \n",
              "3     The world will never be the same, once you've ...   \n",
              "4                                          Look closer.   \n",
              "...                                                 ...   \n",
              "4755                The hot spot where Satan's waitin'.   \n",
              "4756           It’s better to stand out than to fit in.   \n",
              "4757           She never knew it could happen to her...   \n",
              "4758                                                      \n",
              "4759                                                      \n",
              "\n",
              "                                             Movie_Cast  \n",
              "0     Tim Roth Antonio Banderas Jennifer Beals Madon...  \n",
              "1     Mark Hamill Harrison Ford Carrie Fisher Peter ...  \n",
              "2     Albert Brooks Ellen DeGeneres Alexander Gould ...  \n",
              "3     Tom Hanks Robin Wright Gary Sinise Mykelti Wil...  \n",
              "4     Kevin Spacey Annette Bening Thora Birch Wes Be...  \n",
              "...                                                 ...  \n",
              "4755  Lisa Hart Carroll Michael Des Barres Paul Drak...  \n",
              "4756  Roni Akurati Brighton Sharbino Jason Lee Anjul...  \n",
              "4757  Nicole Smolen Kim Baldwin Ariana Stephens Brys...  \n",
              "4758                                                     \n",
              "4759                                    Tony Oppedisano  \n",
              "\n",
              "[4760 rows x 5 columns]"
            ],
            "text/html": [
              "\n",
              "  <div id=\"df-53d4c02e-cc0c-4c7c-a183-57d40735fdfe\" class=\"colab-df-container\">\n",
              "    <div>\n",
              "<style scoped>\n",
              "    .dataframe tbody tr th:only-of-type {\n",
              "        vertical-align: middle;\n",
              "    }\n",
              "\n",
              "    .dataframe tbody tr th {\n",
              "        vertical-align: top;\n",
              "    }\n",
              "\n",
              "    .dataframe thead th {\n",
              "        text-align: right;\n",
              "    }\n",
              "</style>\n",
              "<table border=\"1\" class=\"dataframe\">\n",
              "  <thead>\n",
              "    <tr style=\"text-align: right;\">\n",
              "      <th></th>\n",
              "      <th>Movie_Title</th>\n",
              "      <th>Movie_Language</th>\n",
              "      <th>Movie_Release_Date</th>\n",
              "      <th>Movie_Tagline</th>\n",
              "      <th>Movie_Cast</th>\n",
              "    </tr>\n",
              "  </thead>\n",
              "  <tbody>\n",
              "    <tr>\n",
              "      <th>0</th>\n",
              "      <td>Four Rooms</td>\n",
              "      <td>en</td>\n",
              "      <td>09-12-1995</td>\n",
              "      <td>Twelve outrageous guests. Four scandalous requ...</td>\n",
              "      <td>Tim Roth Antonio Banderas Jennifer Beals Madon...</td>\n",
              "    </tr>\n",
              "    <tr>\n",
              "      <th>1</th>\n",
              "      <td>Star Wars</td>\n",
              "      <td>en</td>\n",
              "      <td>25-05-1977</td>\n",
              "      <td>A long time ago in a galaxy far, far away...</td>\n",
              "      <td>Mark Hamill Harrison Ford Carrie Fisher Peter ...</td>\n",
              "    </tr>\n",
              "    <tr>\n",
              "      <th>2</th>\n",
              "      <td>Finding Nemo</td>\n",
              "      <td>en</td>\n",
              "      <td>30-05-2003</td>\n",
              "      <td>There are 3.7 trillion fish in the ocean, they...</td>\n",
              "      <td>Albert Brooks Ellen DeGeneres Alexander Gould ...</td>\n",
              "    </tr>\n",
              "    <tr>\n",
              "      <th>3</th>\n",
              "      <td>Forrest Gump</td>\n",
              "      <td>en</td>\n",
              "      <td>06-07-1994</td>\n",
              "      <td>The world will never be the same, once you've ...</td>\n",
              "      <td>Tom Hanks Robin Wright Gary Sinise Mykelti Wil...</td>\n",
              "    </tr>\n",
              "    <tr>\n",
              "      <th>4</th>\n",
              "      <td>American Beauty</td>\n",
              "      <td>en</td>\n",
              "      <td>15-09-1999</td>\n",
              "      <td>Look closer.</td>\n",
              "      <td>Kevin Spacey Annette Bening Thora Birch Wes Be...</td>\n",
              "    </tr>\n",
              "    <tr>\n",
              "      <th>...</th>\n",
              "      <td>...</td>\n",
              "      <td>...</td>\n",
              "      <td>...</td>\n",
              "      <td>...</td>\n",
              "      <td>...</td>\n",
              "    </tr>\n",
              "    <tr>\n",
              "      <th>4755</th>\n",
              "      <td>Midnight Cabaret</td>\n",
              "      <td>en</td>\n",
              "      <td>01-01-1990</td>\n",
              "      <td>The hot spot where Satan's waitin'.</td>\n",
              "      <td>Lisa Hart Carroll Michael Des Barres Paul Drak...</td>\n",
              "    </tr>\n",
              "    <tr>\n",
              "      <th>4756</th>\n",
              "      <td>Growing Up Smith</td>\n",
              "      <td>en</td>\n",
              "      <td>03-02-2017</td>\n",
              "      <td>It’s better to stand out than to fit in.</td>\n",
              "      <td>Roni Akurati Brighton Sharbino Jason Lee Anjul...</td>\n",
              "    </tr>\n",
              "    <tr>\n",
              "      <th>4757</th>\n",
              "      <td>8 Days</td>\n",
              "      <td>en</td>\n",
              "      <td>15-06-2014</td>\n",
              "      <td>She never knew it could happen to her...</td>\n",
              "      <td>Nicole Smolen Kim Baldwin Ariana Stephens Brys...</td>\n",
              "    </tr>\n",
              "    <tr>\n",
              "      <th>4758</th>\n",
              "      <td>Running Forever</td>\n",
              "      <td>en</td>\n",
              "      <td>27-10-2015</td>\n",
              "      <td></td>\n",
              "      <td></td>\n",
              "    </tr>\n",
              "    <tr>\n",
              "      <th>4759</th>\n",
              "      <td>To Be Frank, Sinatra at 100</td>\n",
              "      <td>en</td>\n",
              "      <td>12-12-2015</td>\n",
              "      <td></td>\n",
              "      <td>Tony Oppedisano</td>\n",
              "    </tr>\n",
              "  </tbody>\n",
              "</table>\n",
              "<p>4760 rows × 5 columns</p>\n",
              "</div>\n",
              "    <div class=\"colab-df-buttons\">\n",
              "\n",
              "  <div class=\"colab-df-container\">\n",
              "    <button class=\"colab-df-convert\" onclick=\"convertToInteractive('df-53d4c02e-cc0c-4c7c-a183-57d40735fdfe')\"\n",
              "            title=\"Convert this dataframe to an interactive table.\"\n",
              "            style=\"display:none;\">\n",
              "\n",
              "  <svg xmlns=\"http://www.w3.org/2000/svg\" height=\"24px\" viewBox=\"0 -960 960 960\">\n",
              "    <path d=\"M120-120v-720h720v720H120Zm60-500h600v-160H180v160Zm220 220h160v-160H400v160Zm0 220h160v-160H400v160ZM180-400h160v-160H180v160Zm440 0h160v-160H620v160ZM180-180h160v-160H180v160Zm440 0h160v-160H620v160Z\"/>\n",
              "  </svg>\n",
              "    </button>\n",
              "\n",
              "  <style>\n",
              "    .colab-df-container {\n",
              "      display:flex;\n",
              "      gap: 12px;\n",
              "    }\n",
              "\n",
              "    .colab-df-convert {\n",
              "      background-color: #E8F0FE;\n",
              "      border: none;\n",
              "      border-radius: 50%;\n",
              "      cursor: pointer;\n",
              "      display: none;\n",
              "      fill: #1967D2;\n",
              "      height: 32px;\n",
              "      padding: 0 0 0 0;\n",
              "      width: 32px;\n",
              "    }\n",
              "\n",
              "    .colab-df-convert:hover {\n",
              "      background-color: #E2EBFA;\n",
              "      box-shadow: 0px 1px 2px rgba(60, 64, 67, 0.3), 0px 1px 3px 1px rgba(60, 64, 67, 0.15);\n",
              "      fill: #174EA6;\n",
              "    }\n",
              "\n",
              "    .colab-df-buttons div {\n",
              "      margin-bottom: 4px;\n",
              "    }\n",
              "\n",
              "    [theme=dark] .colab-df-convert {\n",
              "      background-color: #3B4455;\n",
              "      fill: #D2E3FC;\n",
              "    }\n",
              "\n",
              "    [theme=dark] .colab-df-convert:hover {\n",
              "      background-color: #434B5C;\n",
              "      box-shadow: 0px 1px 3px 1px rgba(0, 0, 0, 0.15);\n",
              "      filter: drop-shadow(0px 1px 2px rgba(0, 0, 0, 0.3));\n",
              "      fill: #FFFFFF;\n",
              "    }\n",
              "  </style>\n",
              "\n",
              "    <script>\n",
              "      const buttonEl =\n",
              "        document.querySelector('#df-53d4c02e-cc0c-4c7c-a183-57d40735fdfe button.colab-df-convert');\n",
              "      buttonEl.style.display =\n",
              "        google.colab.kernel.accessAllowed ? 'block' : 'none';\n",
              "\n",
              "      async function convertToInteractive(key) {\n",
              "        const element = document.querySelector('#df-53d4c02e-cc0c-4c7c-a183-57d40735fdfe');\n",
              "        const dataTable =\n",
              "          await google.colab.kernel.invokeFunction('convertToInteractive',\n",
              "                                                    [key], {});\n",
              "        if (!dataTable) return;\n",
              "\n",
              "        const docLinkHtml = 'Like what you see? Visit the ' +\n",
              "          '<a target=\"_blank\" href=https://colab.research.google.com/notebooks/data_table.ipynb>data table notebook</a>'\n",
              "          + ' to learn more about interactive tables.';\n",
              "        element.innerHTML = '';\n",
              "        dataTable['output_type'] = 'display_data';\n",
              "        await google.colab.output.renderOutput(dataTable, element);\n",
              "        const docLink = document.createElement('div');\n",
              "        docLink.innerHTML = docLinkHtml;\n",
              "        element.appendChild(docLink);\n",
              "      }\n",
              "    </script>\n",
              "  </div>\n",
              "\n",
              "\n",
              "<div id=\"df-358183f2-827c-46b4-a7e9-b92b0f9f828b\">\n",
              "  <button class=\"colab-df-quickchart\" onclick=\"quickchart('df-358183f2-827c-46b4-a7e9-b92b0f9f828b')\"\n",
              "            title=\"Suggest charts\"\n",
              "            style=\"display:none;\">\n",
              "\n",
              "<svg xmlns=\"http://www.w3.org/2000/svg\" height=\"24px\"viewBox=\"0 0 24 24\"\n",
              "     width=\"24px\">\n",
              "    <g>\n",
              "        <path d=\"M19 3H5c-1.1 0-2 .9-2 2v14c0 1.1.9 2 2 2h14c1.1 0 2-.9 2-2V5c0-1.1-.9-2-2-2zM9 17H7v-7h2v7zm4 0h-2V7h2v10zm4 0h-2v-4h2v4z\"/>\n",
              "    </g>\n",
              "</svg>\n",
              "  </button>\n",
              "\n",
              "<style>\n",
              "  .colab-df-quickchart {\n",
              "      --bg-color: #E8F0FE;\n",
              "      --fill-color: #1967D2;\n",
              "      --hover-bg-color: #E2EBFA;\n",
              "      --hover-fill-color: #174EA6;\n",
              "      --disabled-fill-color: #AAA;\n",
              "      --disabled-bg-color: #DDD;\n",
              "  }\n",
              "\n",
              "  [theme=dark] .colab-df-quickchart {\n",
              "      --bg-color: #3B4455;\n",
              "      --fill-color: #D2E3FC;\n",
              "      --hover-bg-color: #434B5C;\n",
              "      --hover-fill-color: #FFFFFF;\n",
              "      --disabled-bg-color: #3B4455;\n",
              "      --disabled-fill-color: #666;\n",
              "  }\n",
              "\n",
              "  .colab-df-quickchart {\n",
              "    background-color: var(--bg-color);\n",
              "    border: none;\n",
              "    border-radius: 50%;\n",
              "    cursor: pointer;\n",
              "    display: none;\n",
              "    fill: var(--fill-color);\n",
              "    height: 32px;\n",
              "    padding: 0;\n",
              "    width: 32px;\n",
              "  }\n",
              "\n",
              "  .colab-df-quickchart:hover {\n",
              "    background-color: var(--hover-bg-color);\n",
              "    box-shadow: 0 1px 2px rgba(60, 64, 67, 0.3), 0 1px 3px 1px rgba(60, 64, 67, 0.15);\n",
              "    fill: var(--button-hover-fill-color);\n",
              "  }\n",
              "\n",
              "  .colab-df-quickchart-complete:disabled,\n",
              "  .colab-df-quickchart-complete:disabled:hover {\n",
              "    background-color: var(--disabled-bg-color);\n",
              "    fill: var(--disabled-fill-color);\n",
              "    box-shadow: none;\n",
              "  }\n",
              "\n",
              "  .colab-df-spinner {\n",
              "    border: 2px solid var(--fill-color);\n",
              "    border-color: transparent;\n",
              "    border-bottom-color: var(--fill-color);\n",
              "    animation:\n",
              "      spin 1s steps(1) infinite;\n",
              "  }\n",
              "\n",
              "  @keyframes spin {\n",
              "    0% {\n",
              "      border-color: transparent;\n",
              "      border-bottom-color: var(--fill-color);\n",
              "      border-left-color: var(--fill-color);\n",
              "    }\n",
              "    20% {\n",
              "      border-color: transparent;\n",
              "      border-left-color: var(--fill-color);\n",
              "      border-top-color: var(--fill-color);\n",
              "    }\n",
              "    30% {\n",
              "      border-color: transparent;\n",
              "      border-left-color: var(--fill-color);\n",
              "      border-top-color: var(--fill-color);\n",
              "      border-right-color: var(--fill-color);\n",
              "    }\n",
              "    40% {\n",
              "      border-color: transparent;\n",
              "      border-right-color: var(--fill-color);\n",
              "      border-top-color: var(--fill-color);\n",
              "    }\n",
              "    60% {\n",
              "      border-color: transparent;\n",
              "      border-right-color: var(--fill-color);\n",
              "    }\n",
              "    80% {\n",
              "      border-color: transparent;\n",
              "      border-right-color: var(--fill-color);\n",
              "      border-bottom-color: var(--fill-color);\n",
              "    }\n",
              "    90% {\n",
              "      border-color: transparent;\n",
              "      border-bottom-color: var(--fill-color);\n",
              "    }\n",
              "  }\n",
              "</style>\n",
              "\n",
              "  <script>\n",
              "    async function quickchart(key) {\n",
              "      const quickchartButtonEl =\n",
              "        document.querySelector('#' + key + ' button');\n",
              "      quickchartButtonEl.disabled = true;  // To prevent multiple clicks.\n",
              "      quickchartButtonEl.classList.add('colab-df-spinner');\n",
              "      try {\n",
              "        const charts = await google.colab.kernel.invokeFunction(\n",
              "            'suggestCharts', [key], {});\n",
              "      } catch (error) {\n",
              "        console.error('Error during call to suggestCharts:', error);\n",
              "      }\n",
              "      quickchartButtonEl.classList.remove('colab-df-spinner');\n",
              "      quickchartButtonEl.classList.add('colab-df-quickchart-complete');\n",
              "    }\n",
              "    (() => {\n",
              "      let quickchartButtonEl =\n",
              "        document.querySelector('#df-358183f2-827c-46b4-a7e9-b92b0f9f828b button');\n",
              "      quickchartButtonEl.style.display =\n",
              "        google.colab.kernel.accessAllowed ? 'block' : 'none';\n",
              "    })();\n",
              "  </script>\n",
              "</div>\n",
              "\n",
              "  <div id=\"id_d027d02a-07b7-4ffe-b752-bb9a49553b07\">\n",
              "    <style>\n",
              "      .colab-df-generate {\n",
              "        background-color: #E8F0FE;\n",
              "        border: none;\n",
              "        border-radius: 50%;\n",
              "        cursor: pointer;\n",
              "        display: none;\n",
              "        fill: #1967D2;\n",
              "        height: 32px;\n",
              "        padding: 0 0 0 0;\n",
              "        width: 32px;\n",
              "      }\n",
              "\n",
              "      .colab-df-generate:hover {\n",
              "        background-color: #E2EBFA;\n",
              "        box-shadow: 0px 1px 2px rgba(60, 64, 67, 0.3), 0px 1px 3px 1px rgba(60, 64, 67, 0.15);\n",
              "        fill: #174EA6;\n",
              "      }\n",
              "\n",
              "      [theme=dark] .colab-df-generate {\n",
              "        background-color: #3B4455;\n",
              "        fill: #D2E3FC;\n",
              "      }\n",
              "\n",
              "      [theme=dark] .colab-df-generate:hover {\n",
              "        background-color: #434B5C;\n",
              "        box-shadow: 0px 1px 3px 1px rgba(0, 0, 0, 0.15);\n",
              "        filter: drop-shadow(0px 1px 2px rgba(0, 0, 0, 0.3));\n",
              "        fill: #FFFFFF;\n",
              "      }\n",
              "    </style>\n",
              "    <button class=\"colab-df-generate\" onclick=\"generateWithVariable('movies_features')\"\n",
              "            title=\"Generate code using this dataframe.\"\n",
              "            style=\"display:none;\">\n",
              "\n",
              "  <svg xmlns=\"http://www.w3.org/2000/svg\" height=\"24px\"viewBox=\"0 0 24 24\"\n",
              "       width=\"24px\">\n",
              "    <path d=\"M7,19H8.4L18.45,9,17,7.55,7,17.6ZM5,21V16.75L18.45,3.32a2,2,0,0,1,2.83,0l1.4,1.43a1.91,1.91,0,0,1,.58,1.4,1.91,1.91,0,0,1-.58,1.4L9.25,21ZM18.45,9,17,7.55Zm-12,3A5.31,5.31,0,0,0,4.9,8.1,5.31,5.31,0,0,0,1,6.5,5.31,5.31,0,0,0,4.9,4.9,5.31,5.31,0,0,0,6.5,1,5.31,5.31,0,0,0,8.1,4.9,5.31,5.31,0,0,0,12,6.5,5.46,5.46,0,0,0,6.5,12Z\"/>\n",
              "  </svg>\n",
              "    </button>\n",
              "    <script>\n",
              "      (() => {\n",
              "      const buttonEl =\n",
              "        document.querySelector('#id_d027d02a-07b7-4ffe-b752-bb9a49553b07 button.colab-df-generate');\n",
              "      buttonEl.style.display =\n",
              "        google.colab.kernel.accessAllowed ? 'block' : 'none';\n",
              "\n",
              "      buttonEl.onclick = () => {\n",
              "        google.colab.notebook.generateWithVariable('movies_features');\n",
              "      }\n",
              "      })();\n",
              "    </script>\n",
              "  </div>\n",
              "\n",
              "    </div>\n",
              "  </div>\n"
            ],
            "application/vnd.google.colaboratory.intrinsic+json": {
              "type": "dataframe",
              "variable_name": "movies_features",
              "summary": "{\n  \"name\": \"movies_features\",\n  \"rows\": 4760,\n  \"fields\": [\n    {\n      \"column\": \"Movie_Title\",\n      \"properties\": {\n        \"dtype\": \"string\",\n        \"num_unique_values\": 4757,\n        \"samples\": [\n          \"Soul Survivors\",\n          \"For Your Eyes Only\",\n          \"Up\"\n        ],\n        \"semantic_type\": \"\",\n        \"description\": \"\"\n      }\n    },\n    {\n      \"column\": \"Movie_Language\",\n      \"properties\": {\n        \"dtype\": \"category\",\n        \"num_unique_values\": 37,\n        \"samples\": [\n          \"he\",\n          \"fr\",\n          \"ja\"\n        ],\n        \"semantic_type\": \"\",\n        \"description\": \"\"\n      }\n    },\n    {\n      \"column\": \"Movie_Release_Date\",\n      \"properties\": {\n        \"dtype\": \"string\",\n        \"num_unique_values\": 3260,\n        \"samples\": [\n          \"22-06-2005\",\n          \"12-11-1998\",\n          \"28-03-2004\"\n        ],\n        \"semantic_type\": \"\",\n        \"description\": \"\"\n      }\n    },\n    {\n      \"column\": \"Movie_Tagline\",\n      \"properties\": {\n        \"dtype\": \"string\",\n        \"num_unique_values\": 3928,\n        \"samples\": [\n          \"The messenger must be silenced.\",\n          \"It's not the house that's haunted.\",\n          \"The final hunt begins.\"\n        ],\n        \"semantic_type\": \"\",\n        \"description\": \"\"\n      }\n    },\n    {\n      \"column\": \"Movie_Cast\",\n      \"properties\": {\n        \"dtype\": \"string\",\n        \"num_unique_values\": 4715,\n        \"samples\": [\n          \"Robin Tunney Fairuza Balk Neve Campbell Rachel True Skeet Ulrich\",\n          \"Peter Sellers Christopher Plummer Herbert Lom Catherine Schell Peter Arne\",\n          \"John Wayne Laraine Day Cedric Hardwicke Judith Anderson Anthony Quinn\"\n        ],\n        \"semantic_type\": \"\",\n        \"description\": \"\"\n      }\n    }\n  ]\n}"
            }
          },
          "metadata": {},
          "execution_count": 76
        }
      ]
    },
    {
      "cell_type": "code",
      "source": [
        "x = movies_features['Movie_Title'] + ' ' + movies_features['Movie_Language'] + ' ' + movies_features['Movie_Release_Date'] + ' ' + movies_features['Movie_Tagline'] + ' ' + movies_features['Movie_Cast']"
      ],
      "metadata": {
        "id": "RBIcLN6JQphD"
      },
      "execution_count": 77,
      "outputs": []
    },
    {
      "cell_type": "code",
      "source": [
        "x"
      ],
      "metadata": {
        "colab": {
          "base_uri": "https://localhost:8080/",
          "height": 458
        },
        "id": "6CfXzHEjRayz",
        "outputId": "6f73abfa-7d4c-4b2b-815b-2fd36b66671e"
      },
      "execution_count": 78,
      "outputs": [
        {
          "output_type": "execute_result",
          "data": {
            "text/plain": [
              "0       Four Rooms en 09-12-1995 Twelve outrageous gue...\n",
              "1       Star Wars en 25-05-1977 A long time ago in a g...\n",
              "2       Finding Nemo en 30-05-2003 There are 3.7 trill...\n",
              "3       Forrest Gump en 06-07-1994 The world will neve...\n",
              "4       American Beauty en 15-09-1999 Look closer. Kev...\n",
              "                              ...                        \n",
              "4755    Midnight Cabaret en 01-01-1990 The hot spot wh...\n",
              "4756    Growing Up Smith en 03-02-2017 It’s better to ...\n",
              "4757    8 Days en 15-06-2014 She never knew it could h...\n",
              "4758                      Running Forever en 27-10-2015  \n",
              "4759    To Be Frank, Sinatra at 100 en 12-12-2015  Ton...\n",
              "Length: 4760, dtype: object"
            ],
            "text/html": [
              "<div>\n",
              "<style scoped>\n",
              "    .dataframe tbody tr th:only-of-type {\n",
              "        vertical-align: middle;\n",
              "    }\n",
              "\n",
              "    .dataframe tbody tr th {\n",
              "        vertical-align: top;\n",
              "    }\n",
              "\n",
              "    .dataframe thead th {\n",
              "        text-align: right;\n",
              "    }\n",
              "</style>\n",
              "<table border=\"1\" class=\"dataframe\">\n",
              "  <thead>\n",
              "    <tr style=\"text-align: right;\">\n",
              "      <th></th>\n",
              "      <th>0</th>\n",
              "    </tr>\n",
              "  </thead>\n",
              "  <tbody>\n",
              "    <tr>\n",
              "      <th>0</th>\n",
              "      <td>Four Rooms en 09-12-1995 Twelve outrageous gue...</td>\n",
              "    </tr>\n",
              "    <tr>\n",
              "      <th>1</th>\n",
              "      <td>Star Wars en 25-05-1977 A long time ago in a g...</td>\n",
              "    </tr>\n",
              "    <tr>\n",
              "      <th>2</th>\n",
              "      <td>Finding Nemo en 30-05-2003 There are 3.7 trill...</td>\n",
              "    </tr>\n",
              "    <tr>\n",
              "      <th>3</th>\n",
              "      <td>Forrest Gump en 06-07-1994 The world will neve...</td>\n",
              "    </tr>\n",
              "    <tr>\n",
              "      <th>4</th>\n",
              "      <td>American Beauty en 15-09-1999 Look closer. Kev...</td>\n",
              "    </tr>\n",
              "    <tr>\n",
              "      <th>...</th>\n",
              "      <td>...</td>\n",
              "    </tr>\n",
              "    <tr>\n",
              "      <th>4755</th>\n",
              "      <td>Midnight Cabaret en 01-01-1990 The hot spot wh...</td>\n",
              "    </tr>\n",
              "    <tr>\n",
              "      <th>4756</th>\n",
              "      <td>Growing Up Smith en 03-02-2017 It’s better to ...</td>\n",
              "    </tr>\n",
              "    <tr>\n",
              "      <th>4757</th>\n",
              "      <td>8 Days en 15-06-2014 She never knew it could h...</td>\n",
              "    </tr>\n",
              "    <tr>\n",
              "      <th>4758</th>\n",
              "      <td>Running Forever en 27-10-2015</td>\n",
              "    </tr>\n",
              "    <tr>\n",
              "      <th>4759</th>\n",
              "      <td>To Be Frank, Sinatra at 100 en 12-12-2015  Ton...</td>\n",
              "    </tr>\n",
              "  </tbody>\n",
              "</table>\n",
              "<p>4760 rows × 1 columns</p>\n",
              "</div><br><label><b>dtype:</b> object</label>"
            ]
          },
          "metadata": {},
          "execution_count": 78
        }
      ]
    },
    {
      "cell_type": "code",
      "source": [
        "x.shape"
      ],
      "metadata": {
        "colab": {
          "base_uri": "https://localhost:8080/"
        },
        "id": "Ex3iwFy0RgJk",
        "outputId": "9094834a-f63f-45dd-bf27-b865f9709300"
      },
      "execution_count": 79,
      "outputs": [
        {
          "output_type": "execute_result",
          "data": {
            "text/plain": [
              "(4760,)"
            ]
          },
          "metadata": {},
          "execution_count": 79
        }
      ]
    },
    {
      "cell_type": "code",
      "source": [
        "#GET FEATURE TEXT CONVERSION TO TOKENS"
      ],
      "metadata": {
        "id": "EBkhY0qlRgMD"
      },
      "execution_count": 80,
      "outputs": []
    },
    {
      "cell_type": "code",
      "source": [
        "from sklearn.feature_extraction.text import TfidfVectorizer"
      ],
      "metadata": {
        "id": "_8newzU1RgPf"
      },
      "execution_count": 81,
      "outputs": []
    },
    {
      "cell_type": "code",
      "source": [
        "tfidf = TfidfVectorizer()"
      ],
      "metadata": {
        "id": "1CoIpMRcR01X"
      },
      "execution_count": 82,
      "outputs": []
    },
    {
      "cell_type": "code",
      "source": [
        "x = tfidf.fit_transform(x)"
      ],
      "metadata": {
        "id": "SBnsKnR0SJOr"
      },
      "execution_count": 84,
      "outputs": []
    },
    {
      "cell_type": "code",
      "source": [
        "x.shape"
      ],
      "metadata": {
        "colab": {
          "base_uri": "https://localhost:8080/"
        },
        "id": "Ebu5C6-pR04Z",
        "outputId": "bb57a394-ed27-44bc-ecb0-204896c0c37c"
      },
      "execution_count": 85,
      "outputs": [
        {
          "output_type": "execute_result",
          "data": {
            "text/plain": [
              "(4760, 15537)"
            ]
          },
          "metadata": {},
          "execution_count": 85
        }
      ]
    },
    {
      "cell_type": "code",
      "source": [
        "print(x)"
      ],
      "metadata": {
        "colab": {
          "base_uri": "https://localhost:8080/"
        },
        "id": "q1kzuub4R07G",
        "outputId": "77c94cec-53d1-4790-9beb-1d59e2e41333"
      },
      "execution_count": 86,
      "outputs": [
        {
          "output_type": "stream",
          "name": "stdout",
          "text": [
            "  (0, 13870)\t0.16272963486562916\n",
            "  (0, 8824)\t0.15796393501544165\n",
            "  (0, 8623)\t0.1843062125511831\n",
            "  (0, 1348)\t0.18763703220631972\n",
            "  (0, 7161)\t0.10911701298445349\n",
            "  (0, 1192)\t0.15490573112672149\n",
            "  (0, 771)\t0.15218185368595552\n",
            "  (0, 11824)\t0.16550405760097744\n",
            "  (0, 13811)\t0.1253580864769325\n",
            "  (0, 8241)\t0.10439126631046561\n",
            "  (0, 10117)\t0.06565170219059742\n",
            "  (0, 4669)\t0.17034710354210225\n",
            "  (0, 15351)\t0.13961239531403702\n",
            "  (0, 9886)\t0.1225836637415842\n",
            "  (0, 15093)\t0.19603002741979067\n",
            "  (0, 5157)\t0.09332496805038604\n",
            "  (0, 15059)\t0.11614041799622488\n",
            "  (0, 7229)\t0.16145017009135565\n",
            "  (0, 13677)\t0.08566639575664532\n",
            "  (0, 10193)\t0.09988566253487943\n",
            "  (0, 3585)\t0.12565328630495615\n",
            "  (0, 5049)\t0.12949843540532593\n",
            "  (0, 6494)\t0.21947354783439404\n",
            "  (0, 6835)\t0.16103593829368687\n",
            "  (0, 1448)\t0.21888606987961812\n",
            "  :\t:\n",
            "  (4757, 6383)\t0.18846894468912886\n",
            "  (4757, 7654)\t0.20038524539179836\n",
            "  (4757, 13845)\t0.10767344345821867\n",
            "  (4757, 27)\t0.16097641136650184\n",
            "  (4757, 7010)\t0.12572289172051176\n",
            "  (4757, 9882)\t0.16255346046090172\n",
            "  (4757, 7)\t0.11868409093983887\n",
            "  (4757, 4528)\t0.0394252719443373\n",
            "  (4758, 128)\t0.35622991655845837\n",
            "  (4758, 11902)\t0.6285069906377603\n",
            "  (4758, 5170)\t0.5017562597013874\n",
            "  (4758, 142)\t0.38706103364132943\n",
            "  (4758, 11)\t0.26085481082544837\n",
            "  (4758, 4528)\t0.09196950051195853\n",
            "  (4759, 10218)\t0.455525282854441\n",
            "  (4759, 12667)\t0.434477052372127\n",
            "  (4759, 128)\t0.2139320405586465\n",
            "  (4759, 5230)\t0.2905483016821924\n",
            "  (4759, 12)\t0.3904926988581772\n",
            "  (4759, 977)\t0.2590829897675426\n",
            "  (4759, 13886)\t0.2854043617577738\n",
            "  (4759, 13845)\t0.15084231081479052\n",
            "  (4759, 1344)\t0.21493036601317367\n",
            "  (4759, 19)\t0.3169825912270185\n",
            "  (4759, 4528)\t0.05523180956772341\n"
          ]
        }
      ]
    },
    {
      "cell_type": "code",
      "source": [
        "# GET SIMILARITY SCORE USING COSINE SIMILARITY\n",
        "from sklearn.metrics.pairwise import cosine_similarity"
      ],
      "metadata": {
        "id": "jIGMCrp4R09k"
      },
      "execution_count": 87,
      "outputs": []
    },
    {
      "cell_type": "code",
      "source": [
        "similarity_score = cosine_similarity(x)"
      ],
      "metadata": {
        "id": "Oi33ZOjlR1AN"
      },
      "execution_count": 89,
      "outputs": []
    },
    {
      "cell_type": "code",
      "source": [
        "similarity_score"
      ],
      "metadata": {
        "colab": {
          "base_uri": "https://localhost:8080/"
        },
        "id": "3sfCcuPtR1Dl",
        "outputId": "09eabdc7-ae89-4e54-ca9c-213beac41d36"
      },
      "execution_count": 90,
      "outputs": [
        {
          "output_type": "execute_result",
          "data": {
            "text/plain": [
              "array([[1.        , 0.01800913, 0.04569994, ..., 0.00104633, 0.00244084,\n",
              "        0.02560634],\n",
              "       [0.01800913, 1.        , 0.02385574, ..., 0.00137839, 0.00321546,\n",
              "        0.00193103],\n",
              "       [0.04569994, 0.02385574, 1.        , ..., 0.00136582, 0.00318611,\n",
              "        0.0019134 ],\n",
              "       ...,\n",
              "       [0.00104633, 0.00137839, 0.00136582, ..., 1.        , 0.00362592,\n",
              "        0.01841924],\n",
              "       [0.00244084, 0.00321546, 0.00318611, ..., 0.00362592, 1.        ,\n",
              "        0.08128863],\n",
              "       [0.02560634, 0.00193103, 0.0019134 , ..., 0.01841924, 0.08128863,\n",
              "        1.        ]])"
            ]
          },
          "metadata": {},
          "execution_count": 90
        }
      ]
    },
    {
      "cell_type": "code",
      "source": [
        "similarity_score.shape"
      ],
      "metadata": {
        "colab": {
          "base_uri": "https://localhost:8080/"
        },
        "id": "TMBbkYb0TIRG",
        "outputId": "76d58cc7-40e0-4f75-b410-b75fc938bdbe"
      },
      "execution_count": 92,
      "outputs": [
        {
          "output_type": "execute_result",
          "data": {
            "text/plain": [
              "(4760, 4760)"
            ]
          },
          "metadata": {},
          "execution_count": 92
        }
      ]
    },
    {
      "cell_type": "code",
      "source": [
        "# GET MOVIE NAME AS INPUT FROM USER AND VALIDATE FOR CLOSING SPELLING\n",
        "favourite_movie = input('Enter your favourite movie name: ')"
      ],
      "metadata": {
        "colab": {
          "base_uri": "https://localhost:8080/"
        },
        "id": "-WOn8aYLTIUi",
        "outputId": "b1549ad6-ec79-473f-8d58-e09de489d6ed"
      },
      "execution_count": 110,
      "outputs": [
        {
          "name": "stdout",
          "output_type": "stream",
          "text": [
            "Enter your favourite movie name: avatar\n"
          ]
        }
      ]
    },
    {
      "cell_type": "code",
      "source": [
        "all_movies = movies['Movie_Title'].tolist()"
      ],
      "metadata": {
        "id": "Ht0fWfyOTIdq"
      },
      "execution_count": 111,
      "outputs": []
    },
    {
      "cell_type": "code",
      "source": [
        "import difflib"
      ],
      "metadata": {
        "id": "x-dh5OFJTIhS"
      },
      "execution_count": 112,
      "outputs": []
    },
    {
      "cell_type": "code",
      "source": [
        "movie_recommendation = difflib.get_close_matches(favourite_movie, all_movies)\n",
        "print(movie_recommendation)"
      ],
      "metadata": {
        "colab": {
          "base_uri": "https://localhost:8080/"
        },
        "id": "fBU5iKmGUlgA",
        "outputId": "d2fefad7-041f-4678-aa1b-5f9990f1ab72"
      },
      "execution_count": 113,
      "outputs": [
        {
          "output_type": "stream",
          "name": "stdout",
          "text": [
            "['Avatar']\n"
          ]
        }
      ]
    },
    {
      "cell_type": "code",
      "source": [
        "close_match = movie_recommendation[0]\n",
        "print(close_match)"
      ],
      "metadata": {
        "colab": {
          "base_uri": "https://localhost:8080/"
        },
        "id": "uZjlp0P3Ulk-",
        "outputId": "5ab736eb-aca5-4571-9ad6-f65738871e8a"
      },
      "execution_count": 114,
      "outputs": [
        {
          "output_type": "stream",
          "name": "stdout",
          "text": [
            "Avatar\n"
          ]
        }
      ]
    },
    {
      "cell_type": "code",
      "source": [
        "index_of_close_match_movie = movies[movies.Movie_Title == close_match]['Movie_ID'].values[0]\n",
        "print(index_of_close_match_movie)"
      ],
      "metadata": {
        "colab": {
          "base_uri": "https://localhost:8080/"
        },
        "id": "VTPGYBJpUlnY",
        "outputId": "d419c576-66e8-4c07-a98a-708cee92b306"
      },
      "execution_count": 115,
      "outputs": [
        {
          "output_type": "stream",
          "name": "stdout",
          "text": [
            "2692\n"
          ]
        }
      ]
    },
    {
      "cell_type": "code",
      "source": [
        "# GETTING LIST OF SIMILAR MOVIES\n",
        "recommendation_score = list(enumerate(similarity_score[index_of_close_match_movie]))"
      ],
      "metadata": {
        "id": "PH1OCALYUlqA"
      },
      "execution_count": 116,
      "outputs": []
    },
    {
      "cell_type": "code",
      "source": [
        "len(recommendation_score)"
      ],
      "metadata": {
        "colab": {
          "base_uri": "https://localhost:8080/"
        },
        "id": "tby_PONjUlsl",
        "outputId": "46684710-87f3-445e-ecf3-d6db8a9c03c4"
      },
      "execution_count": 117,
      "outputs": [
        {
          "output_type": "execute_result",
          "data": {
            "text/plain": [
              "4760"
            ]
          },
          "metadata": {},
          "execution_count": 117
        }
      ]
    },
    {
      "cell_type": "markdown",
      "source": [
        "GET ALL MOVIES SORTED BASED ON RECOMMENDATION SCORE WITH RESPECTIVE TO FAVOURITE MOVIES\n"
      ],
      "metadata": {
        "id": "HDFy-A9nXBI8"
      }
    },
    {
      "cell_type": "code",
      "source": [
        "# SORTING THE MOVIES BASED ON THEIR SIMILARITY SCORE\n",
        "sorted_similar_movies = sorted(recommendation_score, key = lambda x:x[1], reverse = True)\n",
        "print(sorted_similar_movies)"
      ],
      "metadata": {
        "colab": {
          "base_uri": "https://localhost:8080/"
        },
        "id": "lJQ8CkUWUlvD",
        "outputId": "dc14d50d-f8cc-4bc3-9297-15b01814e264"
      },
      "execution_count": 119,
      "outputs": [
        {
          "output_type": "stream",
          "name": "stdout",
          "text": [
            "[(2692, 1.0), (1647, 0.1305677650628643), (3276, 0.1291636664491681), (1977, 0.11133055827571717), (110, 0.10118871709851582), (1994, 0.09243721770983114), (1134, 0.0918842004140048), (1341, 0.09070522646442071), (2653, 0.08814597196807977), (518, 0.08658268680582708), (3053, 0.08517363189503924), (3010, 0.08475490848805126), (540, 0.08221345171222298), (2538, 0.08160447958257376), (3462, 0.08104797268433571), (1886, 0.08075732603228249), (4389, 0.07884780196710817), (3480, 0.07849929904620238), (4375, 0.0762690841239322), (2630, 0.07603136035464021), (1021, 0.07524792587151116), (2579, 0.07472358866548362), (2869, 0.07451364229903726), (3728, 0.07362944788539452), (62, 0.07247505657000014), (3248, 0.07143007326820244), (292, 0.06958018472538834), (4456, 0.06811184210275607), (637, 0.06716944077501913), (254, 0.06667777508895047), (2112, 0.06641461808978646), (3385, 0.06614915469688132), (3105, 0.0657338575160952), (4588, 0.06527231626119828), (1243, 0.06497900669140345), (1389, 0.06371675085284845), (877, 0.0634898707347454), (1809, 0.06317677401833144), (1102, 0.06316793703841266), (3023, 0.06312389135691675), (4682, 0.06258310908093083), (3779, 0.06237349384006947), (3955, 0.062230746894937475), (922, 0.06206213466412552), (2133, 0.06189908594026316), (2893, 0.061118802627981354), (4268, 0.06041751410750183), (3793, 0.0600470671216411), (1950, 0.05984193068042505), (2710, 0.05809083203876923), (2294, 0.05808825004666224), (3408, 0.058075802351922175), (4062, 0.057714664070843344), (2157, 0.05704145244290391), (1030, 0.05662137416106533), (1358, 0.05642802337785737), (1203, 0.056322472072153504), (2723, 0.05627801151804916), (3463, 0.05621175360872604), (818, 0.056125570557896985), (3017, 0.055840295059164616), (3852, 0.05578590682831743), (632, 0.055294491409958), (3753, 0.05519891832265065), (2318, 0.055027884332933645), (1676, 0.054832622525218255), (3974, 0.05469178116152063), (1085, 0.054627537782063744), (3498, 0.054434550737865496), (1367, 0.05389506084804001), (615, 0.053400172639163856), (137, 0.05260341190849553), (3556, 0.0525025947104478), (2151, 0.05219098209324457), (3427, 0.05189528436423694), (438, 0.05168921018010827), (412, 0.051472757505856885), (4382, 0.05136178274100206), (1675, 0.05130132726272229), (2374, 0.05113296787051927), (479, 0.05096742218632202), (1033, 0.05062297919080084), (2550, 0.050314420138833214), (812, 0.05015449114314147), (1231, 0.05002041920201023), (2481, 0.04984971804288452), (1982, 0.04899105923724285), (1527, 0.048908673449129164), (2191, 0.04890411185757421), (4137, 0.048879461023073285), (3731, 0.04876120356637791), (1885, 0.04863884236060252), (408, 0.04846828479845176), (1850, 0.04830432034374864), (2891, 0.04824871883132359), (185, 0.047835247879028556), (1750, 0.04780749497332194), (2198, 0.047437358882651944), (519, 0.04724419468945301), (1763, 0.04721954190491643), (4614, 0.047036191787818524), (2365, 0.04699471982499056), (4638, 0.046937414109941726), (1241, 0.04684791419846317), (1871, 0.04612529414033698), (1118, 0.04564158906822023), (3203, 0.045572967030144976), (4641, 0.04550550162313577), (4402, 0.04540989039435492), (2577, 0.045163513401406605), (3374, 0.04494225085769191), (4488, 0.044536871329486194), (210, 0.044471694136944476), (3999, 0.04434739371436707), (1393, 0.04428107272050205), (421, 0.044119295663340656), (2517, 0.04409434524892374), (3222, 0.04407258571732955), (2082, 0.04403584280470511), (3323, 0.04397845303425054), (2944, 0.04380050183650381), (1059, 0.04357586895123152), (2807, 0.0435309859654605), (4727, 0.043440016978629245), (4703, 0.043172280037213455), (2568, 0.04302695246914642), (3983, 0.042955181690193876), (1500, 0.0429241342834807), (1095, 0.04288474030819032), (4252, 0.042827085220018546), (1396, 0.042729414242542306), (952, 0.042690543566005844), (3904, 0.04268876169947347), (4150, 0.042636048496193305), (4590, 0.04247976403048516), (2413, 0.04214664271226714), (1648, 0.041960317828120354), (1272, 0.041673035704950914), (1146, 0.04164921893315693), (1098, 0.04162451339028328), (1379, 0.04143033857238494), (3083, 0.04128146487722785), (3552, 0.041252859345383606), (3430, 0.04091347271835194), (4023, 0.040668589825138705), (1292, 0.040495879170612856), (1302, 0.040159158027561766), (578, 0.040029721039333846), (593, 0.03974136634531665), (682, 0.03953944460137369), (3850, 0.03948941466879633), (3102, 0.03920939416896382), (1817, 0.03918653869647567), (1270, 0.039163982755223606), (2687, 0.039105096814455356), (2885, 0.039051482203411876), (1464, 0.0389922060785531), (1492, 0.0388089375126138), (1868, 0.03869548285329692), (858, 0.03850103377241358), (618, 0.03843938343042758), (1383, 0.03842197264484073), (1248, 0.03841923185182038), (2209, 0.03816166944753173), (4016, 0.03815432044684804), (2598, 0.03809496950283185), (1795, 0.03807812571831842), (3574, 0.037964091010880406), (3255, 0.037938250304179515), (788, 0.03792861676899907), (3923, 0.03789361378283595), (174, 0.03788234291935889), (3319, 0.03781369990309375), (2647, 0.03778700546263215), (3362, 0.03769455233421151), (44, 0.0375871973218732), (3470, 0.03754795697447259), (176, 0.03734444773532811), (1405, 0.037319726938070355), (1568, 0.037317481641545636), (384, 0.037205801759032646), (4602, 0.03713546880299047), (3572, 0.03708651401103053), (430, 0.03687782550349117), (2868, 0.0368714225652209), (777, 0.036865728084692836), (1365, 0.0368505006030606), (2018, 0.03684883183812422), (3376, 0.03679088177541441), (1195, 0.03677772696727078), (4533, 0.036748288376440785), (1999, 0.03664829511221514), (3720, 0.036457270839549756), (279, 0.036415465952295355), (4005, 0.036288351375686395), (3767, 0.036203703798872146), (3996, 0.03617455618659035), (4104, 0.036147507452753), (126, 0.03606490686958557), (3146, 0.03603206834458231), (911, 0.03586042157359276), (4721, 0.035814464808564615), (1976, 0.03568551336975673), (4141, 0.03562416116930236), (4300, 0.03548722116090717), (2870, 0.03547941497118283), (1720, 0.035430357953192736), (1444, 0.0354291690021072), (947, 0.03540127871425934), (2887, 0.03534862507677475), (4659, 0.03529507772297146), (2712, 0.03524148968206716), (2182, 0.035209839403284114), (1024, 0.03520045959755123), (1652, 0.035088349150648145), (721, 0.035074979865284066), (4501, 0.03506729236545668), (29, 0.03499235886793637), (2316, 0.034883074215097454), (2005, 0.034819897089870225), (2460, 0.03476251288346571), (3004, 0.03475075285656221), (2762, 0.03474431354210217), (2020, 0.03456021427648902), (3465, 0.0345192304159421), (3787, 0.03444781919167), (4035, 0.03442142383735324), (904, 0.034353347918743365), (3751, 0.03423421161015454), (925, 0.03421637437391368), (976, 0.03415117918782508), (334, 0.03403681019324441), (330, 0.03397636938118017), (4460, 0.03396553581276417), (1064, 0.03392030383369192), (250, 0.03391124487795655), (4165, 0.03380345537974316), (1046, 0.03379483632844887), (1398, 0.033734245298866185), (3881, 0.033726192938806375), (3961, 0.033709795123845296), (1506, 0.03367728623269048), (2094, 0.03367450160359812), (3184, 0.03357750946925363), (3049, 0.03347912566666744), (4443, 0.033425289924490106), (3089, 0.033406882367098226), (4398, 0.0334052203333867), (1274, 0.033400757010924355), (84, 0.03332964381356072), (2621, 0.033318914269678646), (223, 0.03319182252817192), (3940, 0.03315030490933356), (903, 0.033106394625383395), (424, 0.0330815919338974), (2786, 0.0330721467252774), (4128, 0.03303361461346375), (4668, 0.03298907612333127), (3330, 0.03295341723575526), (240, 0.03295267938562783), (3871, 0.03286423163660892), (629, 0.0327870175422457), (25, 0.03277382620905974), (459, 0.032735457567183546), (3605, 0.03272804015263343), (2876, 0.0326927133712575), (3847, 0.03268025496522523), (2793, 0.03263613335298561), (2706, 0.03260817315984524), (108, 0.03257223513598003), (1397, 0.032558872332984365), (2733, 0.032524712474819265), (2212, 0.03238940113247327), (1043, 0.03237005854584033), (2305, 0.03230573156491602), (2957, 0.03226982141964958), (3488, 0.03224448210406573), (3391, 0.03210777868251375), (1512, 0.03204335182059035), (2920, 0.03203163523185594), (2718, 0.032002256392722674), (2102, 0.03199698102070047), (89, 0.03196669021270488), (2782, 0.03178198177843079), (284, 0.031725269588420694), (631, 0.031618072616229814), (1711, 0.031605795142394394), (3909, 0.03159428628083436), (3045, 0.031553619443347926), (1369, 0.03152623233796615), (3260, 0.031520047396963), (1186, 0.03145086829545533), (61, 0.031424832601174374), (3288, 0.03140740816462726), (3127, 0.03138632674111268), (1063, 0.03137819165665467), (3345, 0.031362071327714576), (2981, 0.03130674051148716), (3313, 0.03129140796190821), (4327, 0.03127954745977206), (1269, 0.031245621371071536), (1283, 0.03122071582939992), (3157, 0.031173022612622413), (56, 0.03109707096490166), (3156, 0.031088744950013868), (3433, 0.03100472134557499), (3325, 0.030994741918840166), (2645, 0.03092800095835212), (4177, 0.030916388983687836), (2678, 0.030890111001180904), (3466, 0.030871198628200182), (398, 0.030868286071985534), (3680, 0.03086612233975178), (2467, 0.030810194360490352), (4492, 0.03075723786948955), (4608, 0.03073276168636238), (4149, 0.03064377292532223), (2221, 0.030430555427225815), (1990, 0.03041006585002969), (1690, 0.03038994181791474), (4283, 0.03033922601535806), (3167, 0.030338076713862145), (824, 0.030290237720466438), (4199, 0.030226492971609006), (1861, 0.030171280348141108), (3420, 0.030060595869074905), (885, 0.03003710991266579), (3447, 0.03002412498583624), (2993, 0.030013271183393635), (4482, 0.029971420511910894), (1757, 0.02990014950341838), (4002, 0.029863085869229217), (3927, 0.02980636421820438), (280, 0.029763117718821914), (1202, 0.02961176996215853), (1997, 0.029546232775272314), (553, 0.02939513873968482), (1657, 0.02938048986376721), (138, 0.029348587148299077), (4472, 0.02933895651831172), (1639, 0.02931546485210195), (3868, 0.029236234015667505), (3428, 0.02916207297701146), (4053, 0.029148566927880953), (2042, 0.02914062971137955), (15, 0.02911473875625137), (917, 0.029067733856808886), (3947, 0.02891884327875817), (3261, 0.028867121804137492), (3307, 0.02885046131441107), (4060, 0.028849522289505422), (3656, 0.028832271946503542), (3434, 0.02872469286329153), (677, 0.02871446538491783), (1838, 0.02866404113938826), (4571, 0.0286443502366651), (282, 0.02862861431972673), (3652, 0.028557249985447005), (761, 0.028411516351689026), (3285, 0.028381229484067495), (1515, 0.028330559556183774), (124, 0.028328729301747742), (1505, 0.028301750912593352), (1996, 0.02828280555011699), (101, 0.02827875921557359), (3559, 0.0282684102579827), (383, 0.028255331850488542), (1240, 0.028166975102428084), (3377, 0.02811392411012239), (2443, 0.028001346574242383), (2650, 0.027930658542744787), (4337, 0.0279000230975658), (2449, 0.02788219098619976), (1872, 0.027825168609747517), (3973, 0.027800140679278), (899, 0.02777847965652805), (1749, 0.027757403472031268), (4281, 0.027674359582283623), (3835, 0.027349308198526694), (2971, 0.027324835269161383), (2931, 0.027278478581104333), (4558, 0.02727225024905554), (2640, 0.027243785442940538), (1960, 0.02720995927484761), (3348, 0.027100039118646158), (296, 0.027064666116760755), (2009, 0.027052199917273104), (4056, 0.026979202480961764), (2873, 0.026978498886110626), (2767, 0.02697242577653961), (657, 0.02686971016789272), (672, 0.02684146934880332), (3051, 0.02683820603226362), (1173, 0.026798399524148964), (2114, 0.02676360845421621), (735, 0.026700805653153928), (1847, 0.026645890081850324), (1930, 0.026642643368857542), (2654, 0.026608765459221046), (2659, 0.026564762834322773), (3265, 0.026555152976044067), (371, 0.026551049048336748), (116, 0.02651617562233888), (2013, 0.026424537642024355), (3092, 0.02640216971526368), (1507, 0.02639288929215088), (3935, 0.026386269770853756), (763, 0.02635418818388825), (3655, 0.026320678837104802), (1845, 0.026265069663114617), (2011, 0.026135971957866225), (2553, 0.026132027915193565), (2657, 0.02610677548512694), (2757, 0.026072977991646817), (88, 0.026066724681402323), (465, 0.026006026094176654), (3469, 0.02594278678858483), (4480, 0.025860187305395688), (4202, 0.025779117650319743), (2823, 0.02573913626867197), (2923, 0.025649272816232443), (3913, 0.025600397770614465), (3009, 0.025586978252044427), (3446, 0.025496486087008698), (1875, 0.025487744547171134), (4739, 0.025469422295185784), (2939, 0.025369469540404695), (1137, 0.025241222032291996), (4570, 0.025166488093559997), (2644, 0.025137308689028994), (3226, 0.025127214978524205), (1594, 0.02501049637041292), (2376, 0.02500131390392423), (691, 0.024928886594012153), (193, 0.02488857583525407), (3344, 0.024884247992619672), (2628, 0.024876789862069523), (3628, 0.024701125247252206), (2646, 0.02468453650880827), (3544, 0.024651591359082205), (3264, 0.024619183715699294), (409, 0.02452465972350436), (3934, 0.024431361062125734), (441, 0.02439728102474122), (175, 0.02437585894446343), (3441, 0.02435019610490715), (2867, 0.02432317086492861), (4117, 0.024279296578518607), (2023, 0.02424082152057109), (764, 0.024239512294831563), (3561, 0.024187563193477153), (2349, 0.024096223783162708), (1571, 0.02409554062291554), (3702, 0.024001171921342716), (2290, 0.023990338024231395), (3687, 0.023985264273091143), (3048, 0.02397332744490603), (547, 0.023848333734046476), (4166, 0.023802720772764366), (1995, 0.023780934250382885), (3976, 0.023772369258703557), (2285, 0.02367796190510022), (1603, 0.02366884740749797), (1386, 0.023609174622033144), (261, 0.02359198091604065), (2986, 0.023575154497192535), (3939, 0.023560128491559307), (2928, 0.023521228407193152), (3266, 0.023498476454000206), (2672, 0.023478090711801642), (4012, 0.023477946896198466), (2167, 0.023477348207472198), (1261, 0.023443808250125132), (2484, 0.023436378917748826), (1935, 0.023430618160904533), (2543, 0.023396179762729924), (3528, 0.023357653337706574), (4695, 0.02331729711628643), (3123, 0.023314563933774155), (1973, 0.023298886329694162), (4395, 0.023278468981085484), (2689, 0.02326506756981462), (4521, 0.023261169544999162), (3665, 0.023192052401533186), (1351, 0.023122274183705504), (3151, 0.023097859081850292), (2161, 0.023072118128166376), (3172, 0.02306919087780128), (3417, 0.023054161308960566), (4450, 0.023053354809599646), (1579, 0.023049008812995524), (4403, 0.02303314726266738), (2315, 0.022999349663951504), (3324, 0.02299550181294476), (1786, 0.022865459669353723), (3020, 0.022865330402976565), (1574, 0.022853358909232884), (4415, 0.022844499219055462), (3144, 0.0227941378808509), (2673, 0.022738505166915838), (4351, 0.02273289306827724), (4233, 0.022702125190726605), (586, 0.022574295852647676), (1870, 0.022559733272404795), (3113, 0.02254992197754796), (4221, 0.022539414427762392), (4173, 0.022527714747978492), (2751, 0.022513459811023966), (1965, 0.022510260834187324), (2995, 0.0225055486969613), (3933, 0.022488002554605296), (4640, 0.022483813924350546), (3492, 0.02247630756746106), (4449, 0.022467975123596585), (3352, 0.02246420805905466), (873, 0.022451955614468187), (3915, 0.022435885638751554), (3797, 0.022397042081965458), (1003, 0.022349038866543183), (534, 0.02234799134207483), (3229, 0.022332938795584442), (4090, 0.022323706515650184), (3302, 0.022312391449209254), (1522, 0.02230828371446661), (2186, 0.02230592672526442), (768, 0.022277261593253727), (3213, 0.022275712346629447), (1536, 0.022250786398819628), (4545, 0.0222472311847182), (1361, 0.02224395814297191), (3282, 0.022225954510381934), (832, 0.022198482196085976), (3395, 0.02218363957135777), (1895, 0.02217708628030396), (2177, 0.022177016033712502), (3517, 0.022153581357165286), (3624, 0.022144996974467403), (3692, 0.022126636542164617), (2841, 0.0221173488999969), (2560, 0.022024195139412082), (4089, 0.022006658031090632), (495, 0.02198857661866742), (1193, 0.021976666496916177), (2392, 0.021941369467495208), (2953, 0.02191810329033822), (1051, 0.021899258913683814), (1045, 0.021896113932052725), (4678, 0.02186981690242169), (3086, 0.021853007343411203), (2791, 0.021837741527556187), (3165, 0.02182346833583198), (864, 0.021801376150712645), (2582, 0.02179718548058201), (2380, 0.02178270540805186), (2128, 0.021777159727391998), (3153, 0.021771557740894683), (4504, 0.02176940117782421), (3050, 0.021757748275758812), (1744, 0.02174942840465236), (1246, 0.021748503950004407), (345, 0.021744334017112038), (109, 0.021709687182179683), (3810, 0.021694045441091242), (555, 0.021680539604105747), (3951, 0.021618116094887382), (3617, 0.021614793731341942), (2675, 0.021611538204038952), (2736, 0.021579108659706386), (1052, 0.0215664711642021), (1523, 0.02156066421967144), (4751, 0.021539086706608063), (4534, 0.021490964334841003), (1609, 0.021480577913400797), (627, 0.021451305251456432), (1585, 0.021446172990656893), (3757, 0.02139287283218487), (2345, 0.02135715839559612), (3684, 0.021343618112627704), (2440, 0.021343367625245798), (4028, 0.021339670629067588), (2914, 0.021338547694254487), (1068, 0.021329686503286923), (3098, 0.021329410313046603), (2482, 0.021307602142465704), (530, 0.021297788262724607), (7, 0.021267461244521866), (1445, 0.021264895849982507), (1129, 0.021259085144094823), (2501, 0.02125059472114092), (1229, 0.02124444890305763), (1245, 0.02122953908968344), (590, 0.02120508859169826), (1788, 0.021162251259059666), (248, 0.021159379578672127), (2639, 0.021158266457722123), (4004, 0.021157020768413033), (199, 0.021149838045951812), (4509, 0.02114616039700578), (269, 0.021106462344767887), (3032, 0.02110356718528687), (3280, 0.021096588525679843), (2745, 0.021085274234622177), (9, 0.021077309509483295), (2420, 0.021054519753519695), (213, 0.021053812167346468), (4409, 0.021050696875828643), (1200, 0.021050464640507464), (2064, 0.0210402386372819), (2347, 0.021025982259491968), (3251, 0.020996364513880286), (3304, 0.020948089226247017), (670, 0.020945829286820226), (2258, 0.020938406667121674), (364, 0.020918208209258105), (3471, 0.020914716643864396), (4466, 0.02089125715766167), (1331, 0.020882321694853382), (1175, 0.02087477701413391), (67, 0.020867127500096713), (4701, 0.02085342340157169), (93, 0.02077781347246437), (613, 0.02077737852625134), (4731, 0.020762981130102033), (1970, 0.020759675312515363), (3506, 0.020756269850485454), (4050, 0.020730701892892375), (3111, 0.020723810938311927), (536, 0.020690430365923707), (4018, 0.02065367584476692), (1163, 0.020633260749605874), (3322, 0.02062705611247238), (1414, 0.020624817151857145), (3754, 0.02061406104840426), (1770, 0.020614017496811535), (160, 0.020606989620179463), (3130, 0.02060370797739942), (2368, 0.020593352066117197), (2896, 0.020577044038637658), (3778, 0.02056373218997691), (1865, 0.020559081016840924), (805, 0.020500279261385593), (1544, 0.02048830788741382), (442, 0.0204833762723585), (4690, 0.02042090763488778), (466, 0.020382358577648918), (2159, 0.020366409320423152), (508, 0.020357131112908173), (967, 0.020339892981867908), (1906, 0.02033149334879681), (2298, 0.020328605448526164), (1979, 0.02032435444695966), (609, 0.02032193839272713), (1741, 0.020318641126227905), (2207, 0.02031166535324792), (3000, 0.02030889237655826), (640, 0.020289665869308793), (1726, 0.02028657140954412), (2366, 0.02027522302538878), (4684, 0.020265292841477316), (3853, 0.02024222871353083), (1028, 0.020232193418061574), (893, 0.02020377107859004), (2339, 0.02019228872587659), (4583, 0.020173915741606034), (1913, 0.020164397555544892), (3597, 0.020159185693494983), (515, 0.020138190222140754), (3383, 0.020124766431838546), (1964, 0.020123371327823217), (204, 0.020087933495436402), (3857, 0.020045191144208906), (2908, 0.020023560185203862), (1015, 0.020022614963605627), (2959, 0.020006815658387977), (2709, 0.01998817263275094), (776, 0.019988113624429964), (2206, 0.01997323483092713), (1783, 0.019920163343296538), (33, 0.01991733646428349), (4399, 0.0198889184862458), (46, 0.019887682449450876), (3914, 0.01982531583339712), (1880, 0.01981221833215916), (2183, 0.019798180100835595), (3303, 0.019792939944075442), (1112, 0.019772698903089966), (2982, 0.019751739840293086), (4081, 0.019750167372392848), (2513, 0.019724963356476787), (1869, 0.019719701325961556), (4518, 0.019658533128048803), (3711, 0.019640188757639187), (3861, 0.019625325854743414), (205, 0.01961693118021903), (4676, 0.019611024888139962), (2760, 0.019568364060438034), (2035, 0.01956454540068105), (570, 0.0195593010696472), (3895, 0.019545952452033024), (1314, 0.019532498345168688), (324, 0.019529729113579742), (1093, 0.019497578641631087), (1927, 0.019493870406057042), (499, 0.019479500415339895), (4349, 0.01945241979910562), (3068, 0.019433503250544396), (3663, 0.019417658044047693), (2136, 0.01939223739137245), (3489, 0.019369256538657828), (490, 0.019344610389557513), (744, 0.01930678307822406), (1090, 0.019280183124910432), (4755, 0.019227717076163324), (2813, 0.019218883172067196), (3580, 0.01921463185574459), (2773, 0.019214427803993565), (1008, 0.01919528144304343), (2805, 0.019193143396586627), (455, 0.019182666532404153), (112, 0.01917389484031819), (422, 0.019138662818223812), (1682, 0.019131168903233263), (2854, 0.019092998994373646), (3900, 0.01908934393174046), (2173, 0.01908319575376464), (4110, 0.0190444159092741), (3091, 0.019037340944938173), (203, 0.019009341506371343), (3839, 0.019007618795818863), (2026, 0.019002849707943227), (4321, 0.018992377522759264), (1710, 0.018938354814040527), (3047, 0.018937138276392373), (2436, 0.01893234897294901), (4074, 0.01893112233478855), (800, 0.01892161063468115), (212, 0.018920483955366618), (468, 0.01891310430893694), (2399, 0.01883084130848625), (2119, 0.018798529673358405), (2480, 0.018764786519238325), (2422, 0.018748422902046633), (3875, 0.018728747544110916), (796, 0.01871915095799459), (3120, 0.018714910956732646), (3036, 0.0186809511704817), (2816, 0.018678156338053743), (4380, 0.01864913391511151), (3422, 0.01862009188234408), (3328, 0.018592984721863364), (638, 0.018587702361335452), (3295, 0.01858455632767007), (302, 0.0185773130580352), (2150, 0.01857044116155689), (4236, 0.018510672679506377), (1759, 0.018499711401666993), (3171, 0.018497474484728865), (4176, 0.018495207275556202), (3658, 0.018484736977200083), (4194, 0.01844454052125561), (2264, 0.01842346350345085), (1403, 0.01841710382826289), (1216, 0.01840575066209309), (929, 0.01839631877957799), (3375, 0.018389213359682292), (166, 0.018354099416760698), (1915, 0.018347317526711888), (4213, 0.018342867324673082), (1543, 0.01833519175520744), (3085, 0.018307002007507157), (2149, 0.018300746151954546), (933, 0.018291537879316873), (2387, 0.0182869132529729), (3279, 0.0182580963816784), (3827, 0.018241761564680745), (1384, 0.018240967456140338), (1878, 0.018144070554699236), (3421, 0.018107555091575685), (4133, 0.01808331949609293), (3630, 0.0180553358864232), (4314, 0.018048860297477272), (218, 0.018044167125156836), (2360, 0.01803411366227644), (1413, 0.018005729417789083), (2211, 0.017947939685699976), (3822, 0.017873136705209007), (2711, 0.017825343471874668), (3598, 0.01782026459162101), (1986, 0.017811224845020436), (1876, 0.017797059325264316), (932, 0.01779503499290557), (1752, 0.017779710902332723), (3945, 0.017689836880484477), (4702, 0.01766193131005007), (3958, 0.01765314339276671), (75, 0.017645231814222215), (1152, 0.01763967641846022), (4609, 0.017627215443942294), (2362, 0.017586972410748622), (1342, 0.017570192044094646), (545, 0.01751838597072171), (3356, 0.0174583782113862), (4578, 0.017451278245866866), (13, 0.017421398019864545), (3177, 0.01738857705737422), (1662, 0.017340727186155116), (2140, 0.017318002004816056), (1793, 0.01727648076144216), (779, 0.017257016424961562), (2469, 0.017248952194145854), (1934, 0.017223606000503076), (2485, 0.017212563341776718), (2641, 0.01716987226431258), (4358, 0.017154697270810596), (1925, 0.01713451399117614), (2618, 0.017078257295873683), (2703, 0.017062196676247275), (3108, 0.017050321921088452), (1278, 0.016958705832503352), (2747, 0.016903476671155077), (3129, 0.016900858740104222), (1629, 0.016863994097594204), (3623, 0.01685165665053335), (3340, 0.0168364461670849), (4046, 0.016808592530687217), (3865, 0.016754063454756933), (549, 0.016699323058498333), (3760, 0.016696743501390224), (3176, 0.016619376076054182), (1929, 0.016590430759881977), (2975, 0.016515933686560014), (1678, 0.016464445048359113), (2045, 0.01646388414069347), (2074, 0.0164482723038374), (1401, 0.01636329229203113), (1346, 0.016361901925070334), (2831, 0.01631346094809219), (4065, 0.01630696588989736), (1446, 0.016271860445410218), (2237, 0.01619299118678713), (1547, 0.016107737553321944), (2265, 0.016087111186005056), (1625, 0.016085673094108556), (1510, 0.01596116497133364), (2353, 0.015959247788929255), (4627, 0.015937410606641122), (942, 0.015917964157108267), (521, 0.015868864489061725), (1787, 0.015787479799320474), (1807, 0.01577467105015977), (3518, 0.01576329077367417), (3801, 0.015715722280129733), (2027, 0.015681899069126044), (1418, 0.015652228786661032), (787, 0.01564420592074461), (1802, 0.015617905956728505), (1443, 0.0155978286821381), (1317, 0.015477080421922036), (1215, 0.015457525510353644), (1254, 0.015446706380934103), (1467, 0.01541823113174746), (2037, 0.015397816135465337), (4032, 0.015368330468265547), (1250, 0.015330716187953775), (972, 0.015324403363247583), (2740, 0.015318077748804736), (2286, 0.01530351633446761), (895, 0.015278257042848062), (3046, 0.015233577402909603), (3055, 0.01518458842008965), (4576, 0.015182422202147192), (937, 0.015138731362325127), (3142, 0.015128399429836768), (2741, 0.01502545976866982), (3257, 0.014930657104875818), (4635, 0.014930171194744251), (1425, 0.014929729699096377), (3253, 0.014924080753143002), (3475, 0.01487594043758828), (2935, 0.014817421373402535), (934, 0.014807881607651034), (2154, 0.014800573563069207), (2439, 0.014790337422762699), (4685, 0.014769809985659911), (1412, 0.014736549655702848), (1988, 0.014706559941214453), (1249, 0.014664180175338612), (190, 0.01465635567999105), (3553, 0.014639809979104856), (4156, 0.01462880064273307), (734, 0.014601745237355683), (3299, 0.01460049697665419), (4147, 0.014536521784814202), (4607, 0.014508018925169138), (635, 0.014448073022862525), (574, 0.014422929706842436), (3750, 0.014388973295373442), (2301, 0.014384984496122829), (2145, 0.014372986976682081), (3026, 0.014370531279632715), (4554, 0.014276560548481209), (496, 0.014275711842739377), (3096, 0.01423094823913207), (2055, 0.014178908843565676), (3185, 0.014166141808845383), (2832, 0.014106855034301764), (3249, 0.014100307383185254), (4151, 0.014071456902191347), (823, 0.014066237111003275), (155, 0.014063626822797343), (2077, 0.014054645488532141), (1985, 0.014028507609979321), (1853, 0.013999973639390676), (3360, 0.013960409502555214), (4055, 0.01395561095178253), (4301, 0.013943331077406702), (3880, 0.013939659087820645), (54, 0.013938909648022153), (4397, 0.013928415049143961), (1257, 0.013923236329729657), (41, 0.013912812440260335), (35, 0.013908106323624133), (732, 0.013888081325817812), (2356, 0.013881843137257826), (2930, 0.013867135406993091), (3987, 0.01386291320967956), (948, 0.013856392994817411), (957, 0.013787469347564387), (130, 0.013757061080664261), (462, 0.013745129490145643), (1896, 0.013700692432441602), (2864, 0.013680320678760875), (1919, 0.013647426524007588), (3796, 0.013626877649591812), (505, 0.013590494227024491), (222, 0.013569154187800296), (566, 0.013502913666387019), (4185, 0.013488141519468892), (403, 0.013478817899224949), (431, 0.013450724719594466), (1659, 0.013449433726571806), (3399, 0.013445071619182972), (2255, 0.013440166943704777), (808, 0.013423143631956734), (4696, 0.013403397714340792), (2632, 0.013371938282114096), (762, 0.013337657313922498), (2567, 0.013324099949290612), (3301, 0.013315006899329072), (704, 0.013306713772625618), (1299, 0.013283886676097539), (2936, 0.013201432261068045), (3967, 0.013191190302922418), (232, 0.013189159602443205), (2557, 0.013180762686966968), (2610, 0.013168978937383884), (4618, 0.013168966668838626), (890, 0.013143284524664914), (3245, 0.01312284167281953), (3807, 0.01310190232078504), (2158, 0.013068515007128759), (3771, 0.013062250157626864), (510, 0.01305834578439312), (2837, 0.013056317778179114), (2079, 0.013037652653873844), (1441, 0.013030799643361303), (2407, 0.013025848444083546), (2750, 0.013013738881194692), (4230, 0.01300019735907287), (4740, 0.012997547077159149), (3128, 0.01298762164525987), (224, 0.012965038603071303), (128, 0.012956215337405942), (3272, 0.012935433591439881), (1593, 0.012927254023066347), (1575, 0.012923070079926895), (63, 0.012920633360446175), (2917, 0.012895390776701633), (2242, 0.012894291559283223), (2895, 0.012886509858813656), (4372, 0.012873604332514811), (3566, 0.012864344387796434), (3206, 0.012858732218031734), (1922, 0.01285739091626424), (739, 0.01285134350014694), (3205, 0.012833067164472214), (1733, 0.012822640002424744), (4227, 0.012810947190504797), (1957, 0.012775766841713068), (4499, 0.012769028143263882), (4143, 0.01271809263822167), (3357, 0.01270830198582609), (4341, 0.012702607984758276), (2192, 0.012687425074236508), (968, 0.01266933627123248), (753, 0.012653853760982376), (81, 0.01264914623844794), (3284, 0.012644209632571596), (757, 0.012642300684950362), (3570, 0.012623285146999145), (2956, 0.012609949441641045), (3522, 0.012606048635627932), (2076, 0.012570488117744567), (309, 0.012558930525913328), (1991, 0.012544805103231051), (4108, 0.012543404649818929), (2113, 0.012515171004844863), (3639, 0.012502753679626236), (1821, 0.012501838524678802), (2879, 0.012495637021904553), (1851, 0.012495033429994681), (2988, 0.012491066797685257), (1689, 0.012460454361172784), (2731, 0.012452844286109741), (1856, 0.012446360898918027), (1009, 0.012430739452905681), (3194, 0.012415195150451294), (1518, 0.012406042882614399), (4045, 0.01239132514913558), (2320, 0.012385726694821724), (2545, 0.012379307727332577), (1150, 0.012357629676839366), (1471, 0.01234283006661609), (2776, 0.012337780656786618), (4647, 0.012315479321513872), (1072, 0.012314864539625705), (4639, 0.012303080895772119), (1841, 0.012295686485500818), (3445, 0.012285557517915604), (1048, 0.012284044972633223), (2613, 0.012283561794029882), (3800, 0.012278156831295422), (1315, 0.012273722177280124), (2778, 0.012271347555500783), (3613, 0.012267972855413), (2486, 0.012253420144022292), (2474, 0.012251150684457852), (4331, 0.012241965085023935), (2000, 0.012241385283074675), (2648, 0.012219055220148245), (992, 0.012177249053076713), (2454, 0.01216107355609803), (971, 0.012156611947202875), (3259, 0.012148707639502454), (4368, 0.012144517508461948), (2273, 0.012140848565356632), (775, 0.01213832136533169), (3780, 0.012136955529379335), (504, 0.0121361095406805), (3182, 0.01212466625498462), (623, 0.012100421342935947), (2738, 0.01209908940968364), (826, 0.012089257872466199), (2693, 0.012076033436899216), (4396, 0.012075546806244829), (4111, 0.01206349284930482), (2563, 0.01205531462104466), (377, 0.012043405780864734), (4098, 0.012033960433917749), (1167, 0.012024084254806307), (3832, 0.011998141515168623), (4356, 0.011971308825450992), (4726, 0.011968292476852908), (2363, 0.011966584909537364), (1926, 0.01196438771098221), (4328, 0.011962966773999027), (2963, 0.01194700167391496), (1319, 0.011945612500956526), (2435, 0.011939380213517176), (1852, 0.01193831087404632), (3179, 0.01189934485686757), (57, 0.011891382721909776), (39, 0.011874907512943433), (3414, 0.011872502325650217), (245, 0.011865462700901476), (4735, 0.011853378576387337), (2952, 0.011840455901606749), (2592, 0.011837602029071338), (4473, 0.011829087896383345), (3415, 0.011824207095262395), (2126, 0.011815161875013505), (4591, 0.011805766380647708), (1013, 0.011799199695531202), (1073, 0.011796920331386808), (3571, 0.011774046162913474), (3424, 0.011765806400655146), (2911, 0.011764409707775043), (4078, 0.01175889387961658), (2969, 0.011758655356369233), (4299, 0.011756279594076295), (4537, 0.01175175936057368), (3743, 0.011751278470320729), (2933, 0.011736243949776574), (1426, 0.01173463221120451), (4057, 0.01169705914693895), (1453, 0.011691962936356397), (4698, 0.011686080402610571), (1702, 0.011672875877133308), (3699, 0.011661997294165772), (2406, 0.01166181161601298), (230, 0.011655793524397318), (1485, 0.011653988627418944), (2330, 0.011652151673595243), (1172, 0.011646872102753992), (705, 0.0116395889876452), (3531, 0.011638417157281526), (2943, 0.011635561391604782), (1463, 0.011628174926592844), (1738, 0.011617592962029426), (1001, 0.011604761119428944), (743, 0.011598897578011858), (2752, 0.011596173710345985), (47, 0.011579457279804462), (1170, 0.011557601298180351), (544, 0.011543584291012649), (4377, 0.011542796892177817), (648, 0.011536720890089074), (3583, 0.011529847737562694), (993, 0.011524735293115148), (3666, 0.011514097964238855), (2050, 0.011511455618712915), (1181, 0.011507934489503033), (1000, 0.011504216125041808), (332, 0.011496387225847862), (2450, 0.0114829470917635), (1437, 0.011466997290587056), (3794, 0.011464671535345614), (1768, 0.011459045519787525), (3674, 0.011446182908724838), (1819, 0.011443260509055447), (1022, 0.011433110495500009), (375, 0.011429449426397304), (4186, 0.011422185875033295), (2195, 0.011406417779943097), (1773, 0.011396043446104117), (2919, 0.011394672490110997), (806, 0.011391539040015703), (2820, 0.011373436117524817), (437, 0.01136553869850195), (3862, 0.01136281515366283), (3243, 0.01135600298576005), (4705, 0.011323201866302089), (560, 0.011288697823463218), (4112, 0.011286360692494422), (3708, 0.011282959518508573), (173, 0.011282957803815804), (3005, 0.011278380332896777), (1581, 0.011275998753801864), (4020, 0.011274289637389807), (556, 0.011242526304506688), (2381, 0.01123585443452775), (958, 0.011235615385408468), (1271, 0.011235049986713862), (243, 0.011226616592893235), (3804, 0.011218982237634666), (3075, 0.011211340300394241), (2498, 0.011204302655793578), (3297, 0.011194418229635177), (3577, 0.011192628401036547), (3351, 0.01118870259499736), (541, 0.011187053666852624), (3649, 0.011175483313625096), (2117, 0.011171956854328003), (3173, 0.01115060957212043), (390, 0.011139382093052229), (2810, 0.01113425541353935), (886, 0.011120046932163742), (1873, 0.011115311791140491), (3557, 0.011102820071737336), (1026, 0.011094851205417611), (277, 0.01108780907422701), (2004, 0.011082342768882132), (1247, 0.011072236863762071), (3338, 0.011038750765254922), (1953, 0.01102398288263513), (452, 0.011003952246957794), (3788, 0.010996572669214905), (2369, 0.010968557047661302), (1306, 0.010962386915681367), (2052, 0.01095741723480684), (2178, 0.01095643325143907), (2202, 0.01095127850790788), (2547, 0.010936466582846915), (938, 0.010930608291974486), (2346, 0.010923029556068775), (2397, 0.010913545996074048), (991, 0.01090853044040174), (1565, 0.010906817170175298), (1782, 0.010880870754738701), (4048, 0.010880039751234164), (2694, 0.010871175669668453), (1830, 0.010864087063123758), (2179, 0.010857975965441101), (3573, 0.010853482828607644), (2075, 0.010850821375830714), (2409, 0.010849046827567974), (4474, 0.010848492904659885), (3058, 0.010848439658971204), (3831, 0.010841257252742282), (3970, 0.010840955923958395), (687, 0.010836042888824855), (630, 0.010822522084676729), (1597, 0.010819937158529708), (2514, 0.010813687015522239), (2682, 0.010803553906269713), (995, 0.010797587135537825), (3510, 0.01078851821621963), (2234, 0.010769776754849318), (4604, 0.010767841747719843), (1330, 0.010754517624815985), (1622, 0.010752935953282429), (3278, 0.01074602506981393), (2846, 0.010734400064598516), (4742, 0.0107120528287311), (4665, 0.010699128342961845), (2367, 0.010698190337989955), (372, 0.010680530528193755), (2947, 0.01066092167435345), (722, 0.010657768940234924), (3314, 0.010637567954702134), (979, 0.010637480899081295), (2666, 0.010632568103615405), (2558, 0.010617516912422372), (3742, 0.010595276754173431), (2194, 0.010590532593072348), (4339, 0.01058835150615864), (3703, 0.010571072254766577), (1353, 0.010570268417107759), (3487, 0.010564813411701821), (2642, 0.010492062664789713), (659, 0.010453067733576984), (2121, 0.01038021953656745), (533, 0.010361022230564058), (2300, 0.010357373800224081), (2311, 0.010354522874223265), (2238, 0.010349393736540468), (2531, 0.01034060681799888), (3609, 0.010321732103946142), (1211, 0.010317575896324854), (4313, 0.010298607445956742), (1363, 0.010298202365347503), (3772, 0.010269691014024156), (754, 0.010265224847534903), (2116, 0.010244856274504046), (2748, 0.010239685613295486), (2323, 0.01023938147087224), (3012, 0.010239109662788324), (3411, 0.0102301915223082), (1898, 0.010228241283847344), (2031, 0.010215561216434547), (1277, 0.010197927026574597), (3903, 0.010196334001816491), (575, 0.010186520518643978), (3859, 0.01018579211988262), (4082, 0.010184453717288638), (419, 0.010165051109964204), (2569, 0.010145291586259743), (1474, 0.010105327530661465), (1948, 0.01009440737189195), (4007, 0.0100920649760705), (4527, 0.010090285001507597), (2510, 0.010068137852421687), (4306, 0.010065066544103213), (3333, 0.010061066547923103), (3416, 0.010055005952038823), (855, 0.010044167958437492), (476, 0.010043964334215488), (561, 0.010040881710872704), (3220, 0.010038840968377346), (4548, 0.010011926427718146), (3062, 0.010000978383552184), (1735, 0.009981052530096955), (1731, 0.00996652801820574), (1489, 0.009965087678692457), (2138, 0.009959907196065591), (1624, 0.009954046206207216), (448, 0.00994042327694715), (474, 0.009932584373363695), (625, 0.009924846857191721), (692, 0.00991858739332018), (406, 0.009917934654318603), (4277, 0.009894154771226371), (1615, 0.009893482718302548), (4239, 0.009883056520913407), (3747, 0.009870711922513452), (2843, 0.009862949647521253), (3990, 0.009841414381757486), (4605, 0.009835525764603635), (2006, 0.009810306941422299), (2530, 0.009802687441670451), (231, 0.009799066098733825), (2721, 0.009751609367524153), (1220, 0.009750390209120217), (3954, 0.009744550677578435), (2691, 0.009738247629859125), (4292, 0.009722289319556234), (1070, 0.009698694349312737), (2487, 0.009666357346909897), (3874, 0.009655953050938056), (4440, 0.009652124883501971), (1092, 0.00963949055862279), (1910, 0.009633090683247199), (1612, 0.009621609656259078), (4544, 0.009620322533810908), (4586, 0.009604455777569179), (27, 0.00958426976772015), (4100, 0.009582264126579455), (1421, 0.009573618924330072), (4219, 0.009560352877576455), (2324, 0.009534749054276943), (22, 0.009502086081500338), (675, 0.009501443415645334), (1945, 0.009484051857614273), (2861, 0.009483258602614173), (1881, 0.009478826827684899), (2818, 0.009478497423911351), (2187, 0.00947485028875032), (119, 0.009465073691285518), (4008, 0.009463121162784503), (3766, 0.009461531490949813), (1862, 0.009447206624937528), (2941, 0.00944562682068123), (752, 0.009423181707854323), (3387, 0.009422463744422677), (1176, 0.009414098050279911), (1798, 0.00940360444020905), (2811, 0.0094035355486812), (720, 0.009392832615625984), (2537, 0.009390569722993028), (4178, 0.009386101922900965), (600, 0.009375798848677069), (847, 0.009375132892524264), (1989, 0.009367570556475396), (2143, 0.009358679385994778), (331, 0.009357966913656741), (2565, 0.009357122187156536), (2781, 0.009354886813780517), (1516, 0.00935160259036421), (2180, 0.009349005407719137), (353, 0.009345515166434228), (416, 0.009345116707118524), (4257, 0.009341082972024552), (2977, 0.009336038657987981), (413, 0.009317093451936998), (2798, 0.009286675506556695), (3733, 0.0092831744010738), (1266, 0.009282681720121286), (1382, 0.009280776446166483), (1511, 0.009264854862076332), (1907, 0.009260008619865645), (3015, 0.009258969907225573), (551, 0.009253550557541106), (1688, 0.009252787348729426), (3398, 0.009248799675225971), (792, 0.009247953441636647), (2605, 0.009233751631739512), (3845, 0.009231013799517879), (2453, 0.009222218890945233), (4099, 0.009221813299659154), (1911, 0.009209801528298648), (3491, 0.009209774724402726), (1119, 0.009209071162573646), (3483, 0.009200455134511011), (1074, 0.009193347173658425), (3457, 0.009179017074726604), (4369, 0.009178472703268551), (3625, 0.009167900361440265), (4015, 0.009167418379255075), (1040, 0.00914842975994678), (887, 0.00914797862408949), (2732, 0.009138041505171935), (2097, 0.009132187098754449), (2877, 0.00912465706967852), (3668, 0.009123404028337386), (1607, 0.009119363966750841), (2088, 0.009119340214291569), (3293, 0.009116456376887034), (1087, 0.009116154345546067), (313, 0.009113453208148705), (3397, 0.009110649205993984), (2008, 0.00910642610682394), (844, 0.00909669062123855), (2377, 0.009094936088471447), (4566, 0.009094136569304842), (1111, 0.009088260340413398), (760, 0.009086109036147202), (2437, 0.009065838955696933), (584, 0.0090648502092893), (4662, 0.009057606970896073), (4025, 0.009054233943499058), (1454, 0.009051653356313309), (3384, 0.009050587751375419), (342, 0.009046334208352123), (1124, 0.00903988036478156), (2259, 0.009038977191695602), (2244, 0.009032747651289077), (2144, 0.009025627295128128), (2276, 0.009021406291302998), (4660, 0.009014562942012713), (1718, 0.009013917307045436), (4564, 0.009007713076498149), (4041, 0.008995339172642036), (1023, 0.008966836234297452), (2566, 0.008965780237198332), (1514, 0.008962972651137246), (306, 0.008958775247040352), (4210, 0.008956416834017622), (4196, 0.008954271963473757), (3228, 0.008945598490768121), (346, 0.008945458047961777), (3654, 0.008943518402491867), (2955, 0.008942566872774997), (4579, 0.008942362835680638), (2303, 0.008941227799523038), (2808, 0.00893971161817404), (4010, 0.008933807143207562), (328, 0.008931893575896093), (1951, 0.008925611309662511), (748, 0.008915356072945323), (1307, 0.008912640906935202), (4467, 0.008903311595031415), (2174, 0.008896259782593943), (3211, 0.008895441381333316), (4001, 0.00888921480185748), (620, 0.008889101572838874), (4203, 0.008887579480158045), (262, 0.008887188846906561), (3648, 0.008886721766005475), (263, 0.008885878616715566), (1091, 0.00888095161232328), (4486, 0.008880832748822459), (2564, 0.008877374748961742), (850, 0.008871165506101845), (104, 0.008869618720163784), (2425, 0.008868114249031146), (1728, 0.008861556783855024), (17, 0.00885787867386378), (301, 0.008857233562080269), (2574, 0.008856627834939089), (1310, 0.008839526759007732), (209, 0.008836962253840881), (3689, 0.008834525080135526), (1192, 0.008834313238515957), (2418, 0.008831293420889126), (3926, 0.008824445472279807), (2017, 0.008820642023517955), (3893, 0.00881929743766244), (3919, 0.008816749757057877), (4114, 0.008815737312405881), (2016, 0.008815527909467841), (523, 0.008815076934031803), (1273, 0.008813367649828409), (1494, 0.008809248724436353), (2974, 0.008807812319347732), (2378, 0.008807037693626354), (1037, 0.008802447979988259), (1194, 0.008796674896034074), (4205, 0.008793886027447562), (902, 0.008783710246745529), (970, 0.008771141062818207), (3858, 0.00876955755170621), (1908, 0.00876930264521655), (1526, 0.00874407132534773), (4436, 0.008743485574549195), (1239, 0.00874283539929057), (1535, 0.008736763572873412), (4036, 0.008731064643900941), (2109, 0.008729175466920454), (131, 0.008725300185245172), (1538, 0.008721121038913728), (1012, 0.008720897381363595), (2239, 0.00871276286829905), (3714, 0.00871115553229518), (4511, 0.008705340312989), (1799, 0.008703248244103292), (3386, 0.00869465470864139), (2062, 0.008694558080019829), (1692, 0.008694512876042454), (343, 0.008694454198497088), (4303, 0.008692936477346824), (4343, 0.0086912219477051), (298, 0.008690533217110222), (965, 0.008682079258636606), (852, 0.00868189778373122), (4255, 0.008681704167856064), (2073, 0.008674045443794782), (115, 0.00866804883944482), (879, 0.008665646913336907), (2726, 0.008664375574652017), (3643, 0.008660869146038835), (835, 0.008656176637890395), (2021, 0.008655492012669108), (1641, 0.008635599413898085), (579, 0.008630732790770083), (2421, 0.008627906141376197), (2999, 0.008624638572655257), (2205, 0.00862067359692743), (921, 0.008618032613689765), (2101, 0.00861647721395508), (778, 0.008610494267040681), (4344, 0.008607303932732915), (55, 0.008600470682468643), (1252, 0.00859147283712265), (2056, 0.008585714154800963), (834, 0.00858274276616587), (3968, 0.008579710501237963), (3256, 0.008576850819668405), (3536, 0.008575351969785898), (3586, 0.008575126240786993), (1238, 0.008570648463870928), (4226, 0.008567908402028222), (4699, 0.008562088357828491), (299, 0.008561438975667307), (715, 0.008554202586790653), (2668, 0.00854463546379745), (2629, 0.008541230752091187), (2103, 0.008538664474568884), (1501, 0.008535012580421615), (870, 0.008534926706589872), (2698, 0.008533235890116717), (219, 0.008523912455241167), (3070, 0.008518723237540967), (962, 0.008501724467881734), (273, 0.008500925485060807), (463, 0.008499725825105827), (2638, 0.008496424836669817), (1336, 0.008490700588440005), (2072, 0.008487496254745656), (4309, 0.008487243374706507), (4294, 0.00848391415586144), (988, 0.008481058380862935), (358, 0.008469235970962984), (4106, 0.008468296676380013), (3001, 0.008467263288319735), (2633, 0.008466415257444548), (868, 0.008461247192921866), (411, 0.008457977551883274), (1218, 0.008456483729240011), (2759, 0.008451139504743264), (2746, 0.008436996835824473), (4061, 0.008431607427692575), (2335, 0.008430237504825204), (4596, 0.008430129497942944), (4272, 0.008426647332826578), (3992, 0.008426149913133035), (2373, 0.008418862623980545), (1721, 0.008416782392157908), (3066, 0.008407994896101454), (1198, 0.008392230495077018), (307, 0.008390198295597057), (751, 0.008388245814884506), (4707, 0.008377089665574981), (4733, 0.008375449965122296), (3525, 0.008373499385188434), (3814, 0.008366902018148027), (3431, 0.008365523159872877), (1136, 0.00836199175971177), (3607, 0.008359089960510463), (3610, 0.008353725867861603), (3041, 0.008352990853379292), (2584, 0.00834882911665516), (1328, 0.008346201682820938), (3332, 0.008343537129032417), (2059, 0.008336257259062754), (2309, 0.008335719515522796), (2601, 0.008332424368029945), (3218, 0.008328609516707318), (2396, 0.008326146465720614), (833, 0.008325804134369424), (18, 0.008325239651179381), (603, 0.008321856976412873), (1206, 0.008320957883625272), (746, 0.008314746107713052), (4629, 0.008312874615454087), (1933, 0.008312183571740519), (1114, 0.008310955172892619), (2430, 0.008303144551501147), (4514, 0.008289189365055837), (4419, 0.008277178699735934), (3567, 0.008268824468778871), (1714, 0.00826434070155822), (2980, 0.008263754545855763), (3237, 0.00825718073800707), (4189, 0.008256926066743527), (1598, 0.008256455987235296), (3864, 0.00824978684037962), (397, 0.00824839260584307), (1374, 0.008246634322959502), (1566, 0.008245397058794741), (4459, 0.008245078809336505), (3033, 0.008239584907579551), (2400, 0.008236353695508193), (4747, 0.008236334215930499), (4748, 0.00823438085249911), (3784, 0.008232267926095299), (897, 0.008228356914015258), (2938, 0.008219261512993514), (3917, 0.008196230456828442), (4070, 0.008195444775159348), (1794, 0.008191328891052294), (1879, 0.008190533003189577), (1263, 0.008189753520810548), (1975, 0.00818830031672701), (4347, 0.00817450585694473), (300, 0.008173481585213966), (2624, 0.008172662778201025), (3095, 0.008172489559933872), (4338, 0.00817187952835951), (4092, 0.008166767475630181), (1130, 0.008160180223317149), (4411, 0.008155224319560948), (19, 0.008155059081954644), (592, 0.008144237392032827), (1619, 0.008143892224864753), (356, 0.00813762395634102), (4479, 0.008133306641535117), (724, 0.00812823380790439), (4284, 0.008126709122190953), (1849, 0.008125809611471621), (2742, 0.008124550200734574), (831, 0.008123088975257202), (2616, 0.008117844525553699), (1920, 0.008108471436872317), (4218, 0.008102714206052564), (3826, 0.008100542977997385), (2175, 0.00809913248721976), (2680, 0.00809592698248989), (4658, 0.0080860525293985), (916, 0.00808333166265295), (1556, 0.008079330657198989), (3426, 0.008072864108389744), (1316, 0.008067411737864487), (2494, 0.008066608805374933), (1818, 0.008059652544374763), (4431, 0.008051335456267536), (1050, 0.008048711318428636), (3365, 0.00804364919223923), (1472, 0.008043195482505006), (3407, 0.00804168442578359), (2463, 0.008038702902206036), (483, 0.00803827744999701), (1329, 0.008037693406183209), (1327, 0.008036669555476508), (4361, 0.008036060659505859), (2337, 0.008025952253170855), (1457, 0.008025254679742341), (4388, 0.008021626043680818), (568, 0.008019306945782413), (3039, 0.008007433557320712), (2503, 0.00800539410266662), (378, 0.007995972361617287), (1824, 0.007994277001133736), (1465, 0.007988925391701665), (3021, 0.00798134305609421), (4279, 0.007979935639502351), (1764, 0.007974436564601518), (3246, 0.00797376775236145), (4540, 0.007972426382702255), (2160, 0.007968417516378636), (3240, 0.007965412604790351), (3723, 0.007964494169352097), (4720, 0.007961968245587158), (3077, 0.007960828406159531), (3028, 0.007951231299526906), (669, 0.007946686922326382), (1420, 0.007923946557742912), (936, 0.007921638972869145), (4225, 0.007914665527672324), (79, 0.007913786063976306), (4217, 0.007912231176254706), (374, 0.007911905823685466), (1813, 0.0079109124963477), (1157, 0.007906860779909526), (854, 0.007902301171967916), (3412, 0.007900903768449534), (2241, 0.007900561826658919), (1756, 0.007893417203059312), (2172, 0.007891360155333304), (4649, 0.007888048816275445), (428, 0.007887937546581372), (2992, 0.007887303236864054), (1723, 0.007886297792924109), (2587, 0.007882794220858167), (3067, 0.007880821011759562), (954, 0.007878010819437984), (251, 0.007870297212218488), (2636, 0.007866277055135939), (4706, 0.007866019038064586), (3114, 0.007863000115125475), (1654, 0.00786114941724778), (2528, 0.007839861502370185), (1539, 0.007832914993870344), (3459, 0.00782853767982364), (1666, 0.007822229948378875), (880, 0.007821778386083614), (339, 0.0078001006527174885), (2749, 0.007797244015134424), (3829, 0.007794575980580338), (643, 0.007794215647840154), (287, 0.0077880851478259044), (1364, 0.007788065165188111), (135, 0.007787847832105968), (3236, 0.007776115697391787), (3776, 0.007770634685703589), (3937, 0.007761896813904272), (1267, 0.007752888120660385), (4342, 0.007752738836536337), (3389, 0.007751348978054499), (3594, 0.007727289010742558), (975, 0.007719672294901031), (2193, 0.007715986770391051), (554, 0.007704058245442189), (2744, 0.00769975294556612), (3193, 0.007675128609785423), (268, 0.0076688115104987424), (60, 0.00765542684248194), (923, 0.007653907590648986), (367, 0.007649128253619659), (43, 0.007644140844571395), (3515, 0.007639816212393319), (2552, 0.007631856531711457), (3329, 0.007629335546879042), (1789, 0.007620171403025416), (782, 0.007618387373100319), (2070, 0.007613789799018642), (664, 0.0076109727363207055), (583, 0.007585493424792669), (1348, 0.007585081713994406), (815, 0.00758288823499246), (3963, 0.0075811933094048906), (1486, 0.0075513919193807965), (2047, 0.007542010867335553), (4009, 0.0075403582920435235), (1199, 0.007516723149554261), (548, 0.00751555115139292), (3244, 0.007512774717027878), (1583, 0.007494998258642192), (354, 0.007483180168816453), (597, 0.007480377049666535), (161, 0.007473622249522624), (3006, 0.007471724353161514), (3327, 0.007449454621742302), (1357, 0.0074490297865143365), (2743, 0.007434715731987714), (355, 0.0074114031352767226), (2203, 0.007410059536594933), (3294, 0.007380066544387987), (2929, 0.007376259003738701), (3785, 0.007374163080339341), (1650, 0.007370792462587286), (2634, 0.0073707738087433585), (1707, 0.00736816523731722), (2058, 0.007351021142737387), (327, 0.00734823137594604), (2906, 0.007345801738997791), (86, 0.007344350124382407), (4215, 0.007338097328007287), (1350, 0.007336576839650435), (2442, 0.007335272043764064), (4713, 0.007330119111700014), (2291, 0.007325520840749735), (179, 0.007322597044942083), (1178, 0.007320454667817314), (2416, 0.007318887799599479), (2492, 0.00730393677810935), (3504, 0.007282969695848665), (2156, 0.007281575071403739), (874, 0.007276156331583279), (3164, 0.007262203967288775), (3957, 0.007245116491077791), (113, 0.007237447651290502), (3821, 0.0071808507622214), (2942, 0.007131089005750046), (3509, 0.00710793206288001), (4270, 0.007096837827244535), (3149, 0.007093751841212239), (3215, 0.0070904021586674255), (1840, 0.007073156571203684), (3027, 0.007064183396496229), (2603, 0.00706203481106444), (142, 0.0070570844437138425), (1715, 0.007056187951989036), (3558, 0.007027495772167927), (293, 0.007021926111152414), (2524, 0.007015335687743632), (4393, 0.007014698354876189), (3825, 0.00700663573736398), (1377, 0.006999540157177981), (2892, 0.006993001738677307), (2688, 0.006992850517800801), (2874, 0.006978824893647081), (2946, 0.006969845924367665), (3799, 0.006958857270570484), (36, 0.00692337857896415), (1826, 0.006900825309720429), (1774, 0.006898810944598145), (4109, 0.006897345898219833), (1567, 0.00689205148536106), (497, 0.006879216652750122), (3455, 0.006877691123674781), (3752, 0.006869603699001636), (4182, 0.006855822341281229), (3989, 0.006835776220864932), (1586, 0.006832992406342851), (2985, 0.006820608467818921), (3748, 0.006811344690774763), (2146, 0.006811281555128539), (1450, 0.006790623334190144), (271, 0.006742081428152084), (1684, 0.006733713341864058), (288, 0.006732672255747809), (106, 0.006716192037843682), (4373, 0.006709281229359635), (3, 0.006708656562877104), (2185, 0.006687274384691573), (177, 0.0066498605055516835), (4237, 0.006633345739401222), (719, 0.006628403797903507), (477, 0.006621613753358629), (414, 0.006586578735482638), (3152, 0.0065810611673385285), (2997, 0.006570983146282535), (2197, 0.006563774449296536), (602, 0.006559995062464577), (3500, 0.006545779446227715), (2591, 0.006545186914108021), (2789, 0.0065421991495362795), (4573, 0.00650762067943636), (3410, 0.0065032394422874385), (2844, 0.006500137089103066), (1279, 0.006499266790938978), (4158, 0.006478898603747645), (1701, 0.006462626578594587), (2665, 0.006400723207389542), (607, 0.006392157669428509), (853, 0.006382924340171277), (940, 0.006346973009573849), (2236, 0.00631954076402021), (2226, 0.006306328797187956), (407, 0.0062842854001801), (2022, 0.006267811350061805), (684, 0.006248513999078758), (3667, 0.006221585137567953), (3409, 0.006168102607836697), (2120, 0.0061623996537733), (0, 0.006155522678202324), (266, 0.006149583494717877), (2152, 0.006136314753936622), (336, 0.006024963220790551), (2010, 0.006009702119273224), (2426, 0.005986262573386039), (3946, 0.005954753814929511), (1417, 0.005902887364953569), (1005, 0.005864102950878319), (3579, 0.005817650568630407), (4311, 0.005786934255169151), (527, 0.005752289527247273), (168, 0.005707572373448985), (2034, 0.005687859026477289), (1144, 0.005584552188848413), (3456, 0.005583165453601908), (3458, 0.005406884800070625), (159, 0.005374605605937719), (256, 0.005268665818493633), (3316, 0.0050859017576992), (2660, 0.0048032786095885405), (4644, 0.0033366936285489676), (3679, 0.0032342501939687895), (4425, 0.0031255607168334068), (3918, 0.003002912183831074), (4758, 0.0029962372642556617), (3981, 0.002717116612982501), (4671, 0.002655825328651133), (2358, 0.002362615564918518), (475, 0.002333920953544575), (2312, 0.0021976993947424583), (2658, 0.0021817797707773218), (3717, 0.0021808946964408014), (4142, 0.0021471871274351927), (4681, 0.002023382746915433), (4134, 0.0019840980385132214), (4555, 0.001863729224384375), (4759, 0.0017993748479428501), (3899, 0.0017849226156429082), (4201, 0.0017640799484564173), (4026, 0.0017356135941416228), (4417, 0.0017284850414099092), (3911, 0.0017024290221173601), (3535, 0.0016873783522431591), (2737, 0.001664545877856665), (461, 0.0016639414767080727), (2932, 0.0016488337645329213), (4541, 0.001643167657533785), (4546, 0.0016417689982959366), (3419, 0.0016380511936928252), (1053, 0.0016281458715805346), (2597, 0.0016272742281500776), (3088, 0.0016167541026746424), (1748, 0.0016102022123370171), (1674, 0.0016056893590390663), (3745, 0.001587300033990674), (3115, 0.0015827906718418607), (4346, 0.0015788150438955817), (2308, 0.0015783845724970053), (4719, 0.0015717702807014709), (4529, 0.0015695172979627566), (4700, 0.0015497503747771645), (2403, 0.0015493515929815606), (402, 0.0015474224103338872), (2299, 0.0015463094231381721), (2342, 0.0015443601729468678), (3358, 0.0015438625524538086), (2223, 0.001541345533086617), (1121, 0.001538551449805546), (2989, 0.0015385098261173895), (2998, 0.0015382047184263152), (489, 0.0015380274076449375), (4453, 0.001537616595087508), (3094, 0.0015360048358802104), (4017, 0.0015333008109627434), (1836, 0.001532939460956219), (3672, 0.0015270955046200374), (2701, 0.0015263562231901486), (308, 0.0015261106803638133), (2500, 0.0015257639319949663), (391, 0.0015252460457043818), (596, 0.0015239828825023287), (4271, 0.001523913128899381), (4019, 0.001523206541904357), (2329, 0.0015220909070611157), (2649, 0.001519258146271551), (4198, 0.0015190010921876682), (3592, 0.0015188210965836257), (2614, 0.0015167048504058642), (3512, 0.001515016432344739), (2438, 0.001514259138378505), (3936, 0.0015140550079525159), (2306, 0.00151238554813781), (2669, 0.0015122108797034003), (3523, 0.001511987113496151), (4121, 0.0015104166829855777), (4633, 0.0015103437558168706), (1732, 0.001506268354844664), (2883, 0.0015052605060519786), (3132, 0.0015040106819137185), (4222, 0.0015030363066230066), (326, 0.0015023639442039614), (491, 0.001499898396595014), (2702, 0.0014995409556183784), (576, 0.0014990072749344265), (3925, 0.0014980119589073336), (3148, 0.0014971100455167799), (1491, 0.0014970792798042574), (1184, 0.0014961628223881098), (1661, 0.0014950600962673124), (4597, 0.0014930679895533315), (2089, 0.0014926250589523992), (2490, 0.0014925961270534187), (2051, 0.00149172132707858), (1429, 0.0014915917166183049), (107, 0.0014915698689321765), (2661, 0.0014904540391297448), (1669, 0.0014903115282920735), (2768, 0.001487609265009747), (1187, 0.001486330163001138), (4709, 0.0014862008915791406), (4667, 0.0014848648120241957), (2395, 0.0014845593480595333), (4704, 0.0014843657230407367), (1822, 0.0014833720843416577), (2937, 0.001483134749957877), (3740, 0.0014826870185824174), (4451, 0.001482605437809538), (3270, 0.0014819654761929928), (1928, 0.0014817389500783086), (2575, 0.0014806378544888429), (2764, 0.0014791011532545558), (3355, 0.0014781580619186027), (225, 0.0014777061878455192), (3620, 0.0014776241399185846), (1182, 0.0014770569357577218), (1712, 0.0014764929050902632), (3224, 0.00147636324758591), (1572, 0.0014757287811978672), (537, 0.0014750045958234952), (842, 0.0014743417642288758), (889, 0.001474332640430528), (595, 0.001473639272712864), (3593, 0.0014732635346026831), (3217, 0.001472126396246594), (11, 0.0014718526948744926), (4105, 0.0014717772068877383), (1703, 0.0014717175414389698), (950, 0.001471496267754509), (1548, 0.001470964987022002), (4428, 0.001470799896093975), (2775, 0.0014703379563132848), (3782, 0.0014702229724878869), (1939, 0.0014695386963065663), (2279, 0.001468971707575963), (4223, 0.0014685007469713814), (3949, 0.001467254477782723), (2915, 0.0014666129004883564), (4556, 0.0014664763924565791), (2372, 0.001466406626807394), (2559, 0.0014654907164576656), (281, 0.0014654760650917814), (4430, 0.001464673563036198), (1656, 0.0014639680756167149), (2922, 0.001463845867330142), (4749, 0.0014632768921073722), (3744, 0.0014628140150004518), (4172, 0.0014626956964577447), (667, 0.0014601104956915524), (4097, 0.001459276491008713), (996, 0.00145851010637395), (2253, 0.0014584917992974066), (1014, 0.001458212576875092), (876, 0.0014580974542502492), (4530, 0.001457809481441734), (1843, 0.0014568589989725077), (3189, 0.0014559425529931246), (999, 0.0014549586392449193), (4162, 0.0014545313256444838), (4462, 0.001454465953593763), (3540, 0.0014538243014316633), (4067, 0.0014521661018192587), (2351, 0.0014521443923029853), (2858, 0.001451678610843053), (1162, 0.0014513414944598256), (1169, 0.001450671778927842), (2715, 0.0014505166382628725), (3851, 0.0014504602000914746), (2576, 0.0014504387257994846), (2137, 0.0014500848794761726), (1083, 0.0014495992863112303), (2987, 0.001449480583540629), (914, 0.0014490178617166877), (1708, 0.001448754442664382), (4102, 0.0014486215874999141), (3008, 0.0014485630094343083), (3759, 0.0014473092264946296), (8, 0.0014472981131738096), (227, 0.0014463529877979371), (3396, 0.0014461692586303038), (2888, 0.00144582015890042), (1208, 0.0014453361490712688), (3715, 0.001445189891280787), (2555, 0.0014451190928010651), (1343, 0.0014449180705007202), (4423, 0.0014446812313907095), (3337, 0.0014446198352861001), (2507, 0.001443418346986781), (2799, 0.0014434060454743896), (652, 0.001443135220452715), (998, 0.001442776355675636), (628, 0.0014424908937376898), (482, 0.0014421317880304605), (3694, 0.0014416397205566417), (3263, 0.001441160847330911), (2529, 0.0014406224369019644), (4464, 0.0014405037755991054), (3878, 0.0014403658143748786), (1168, 0.001440226152165896), (3468, 0.001440084733765552), (4145, 0.0014397702399448638), (2889, 0.001439077764772968), (943, 0.0014387161193967393), (3042, 0.0014379326196491712), (4412, 0.0014375931424445941), (4181, 0.0014373873620063165), (1148, 0.0014373730119783127), (2199, 0.0014369511448872362), (3292, 0.0014361688897430393), (4075, 0.001436131767463155), (4471, 0.0014360460389028118), (1792, 0.0014353858527451906), (3191, 0.0014351322514593455), (4547, 0.0014347940340636383), (1381, 0.0014346728270781006), (2722, 0.0014345094764438855), (3781, 0.0014339377948257596), (2948, 0.001433613406719913), (4123, 0.0014330667461736849), (4208, 0.001432365857360477), (2926, 0.001432105113918863), (2990, 0.001432041330003003), (3087, 0.0014319223865565508), (2228, 0.0014310068423243013), (70, 0.0014307903314057277), (4516, 0.00143039556717676), (3230, 0.00143015661591902), (1924, 0.0014300177086022856), (1145, 0.0014290119552226865), (3413, 0.001428880913094471), (1185, 0.0014284902655403826), (1020, 0.0014283515131876187), (2310, 0.0014280795560081352), (1424, 0.001427974779645816), (4535, 0.001427945626870962), (2302, 0.001427902551329712), (2108, 0.001427674779529731), (3080, 0.0014271951767060066), (3262, 0.0014270327025950442), (3524, 0.0014270312816784241), (4507, 0.0014270028815528352), (3635, 0.0014269732957623556), (4531, 0.0014268204319807776), (2390, 0.0014266784951664593), (2142, 0.0014266466254983761), (949, 0.0014262678231214247), (2164, 0.0014261817579781094), (4611, 0.0014259122681059512), (1580, 0.001425719353653236), (2341, 0.0014255893788656367), (2404, 0.001425543389488484), (123, 0.001425227932966428), (2092, 0.0014249831019235795), (1069, 0.0014231567347372336), (4654, 0.0014222280860708679), (2626, 0.00142213858832965), (3741, 0.0014221286267767563), (4031, 0.0014209089258921273), (303, 0.0014207716157010903), (3031, 0.001420061914216823), (2714, 0.0014197121310351012), (714, 0.001419639336325526), (4115, 0.0014194201143387143), (860, 0.001419403782144878), (3231, 0.0014184011048771032), (4245, 0.0014181470787177606), (2521, 0.001418110266630903), (614, 0.0014178974596192168), (2655, 0.0014178912743964193), (4355, 0.0014176981036725642), (3450, 0.0014175214109354462), (2233, 0.0014175078445234869), (362, 0.0014170553308565314), (2386, 0.0014168320422229116), (2379, 0.0014166837241011085), (2189, 0.0014159731636236616), (3084, 0.0014158924425997834), (3186, 0.0014155071547392374), (3479, 0.0014153430546385308), (3158, 0.0014152279050961255), (4238, 0.0014150804432307715), (4710, 0.0014149595541315511), (765, 0.0014149109152692414), (688, 0.0014145922314575128), (4538, 0.0014144417172739874), (120, 0.0014138193291152), (385, 0.001413006790906064), (2462, 0.001412455004809015), (4416, 0.0014123372048969569), (3621, 0.0014122208523718), (3444, 0.001412002449160955), (2281, 0.0014112939523494676), (526, 0.0014109792986273018), (961, 0.0014108683765875157), (4354, 0.0014107223586775771), (4139, 0.0014106032256004089), (3291, 0.001409894024814728), (3464, 0.0014098132329226957), (2067, 0.0014097232088287263), (3178, 0.0014095597404482523), (2685, 0.0014093463844531892), (1866, 0.0014093076269183784), (3440, 0.0014090357620069813), (2924, 0.0014087095623607803), (2881, 0.0014079563669836378), (4653, 0.0014076932712046395), (318, 0.0014072941531784564), (1540, 0.0014071064227142752), (4295, 0.0014068575411827812), (1349, 0.0014050581934865792), (4280, 0.0014049640570088884), (3139, 0.0014046895069100148), (4418, 0.0014044090231933126), (3204, 0.0014040797407938721), (4691, 0.0014036365736423968), (1011, 0.0014035267574581854), (3373, 0.0014034309225443603), (235, 0.0014031177581076135), (3640, 0.0014027114024404797), (3166, 0.0014026743643111674), (1265, 0.001402182843092355), (4406, 0.001401952832388983), (4083, 0.0014010561403370084), (392, 0.0014009023697735055), (2388, 0.0014006442805287963), (1089, 0.001400214144796055), (1761, 0.0014000807357350362), (2676, 0.0014000650144146377), (1143, 0.0013999760088221384), (4317, 0.0013996738527120556), (380, 0.0013987422744393234), (4612, 0.0013985353528719398), (2415, 0.0013983550136991959), (591, 0.0013980689319662526), (206, 0.0013973368854958202), (1591, 0.0013969954957833298), (2431, 0.0013967875927918632), (2960, 0.001396473644243547), (1687, 0.0013964460534650544), (2704, 0.0013959935819226718), (3725, 0.0013956897113983078), (3838, 0.0013944909310249344), (3837, 0.0013941742376004937), (2600, 0.0013936230527358112), (2471, 0.0013934112893590766), (3606, 0.0013932804303934388), (539, 0.0013932334165339426), (1831, 0.001393146339148926), (2795, 0.0013929264947274058), (4244, 0.0013929243334991777), (3762, 0.0013928296972263), (1890, 0.00139253965497378), (4753, 0.0013925205107945529), (3943, 0.0013922218689189443), (3661, 0.001392135005683859), (4560, 0.0013913284529169468), (2343, 0.0013911560431126412), (1165, 0.001390819331213443), (3310, 0.001389878240100364), (3642, 0.0013892879433508366), (2176, 0.0013891131381620647), (2066, 0.001389057192416689), (3671, 0.0013884814592482755), (2083, 0.001388342859576504), (2927, 0.0013882507685162668), (686, 0.0013882116615316189), (1670, 0.001387967139115212), (208, 0.001387639988397644), (2667, 0.0013873611781393305), (906, 0.0013871424613093246), (2522, 0.001387059077162525), (3473, 0.0013868637763686659), (1497, 0.0013867057059200748), (4646, 0.0013863849607200507), (253, 0.0013858971265317318), (3078, 0.0013857355185082055), (1554, 0.0013857329287809477), (2282, 0.001385655507448251), (4260, 0.0013855912233505124), (2257, 0.0013851247222179221), (3650, 0.0013850753796346748), (1968, 0.0013849604850029523), (1226, 0.0013845039015967634), (1537, 0.001384372459068883), (683, 0.001384163426307219), (3809, 0.001384084620178138), (68, 0.0013839413835231205), (4138, 0.0013837635599266767), (2848, 0.0013835971001876582), (3064, 0.0013832287825394942), (239, 0.001382978105675767), (956, 0.0013829510931459847), (1947, 0.001382427106516789), (3371, 0.001381459854240694), (1077, 0.0013813089040962264), (3877, 0.0013812422788492256), (663, 0.0013810094183024), (4642, 0.0013808904395942226), (1324, 0.0013806768943222115), (3040, 0.0013802523170720674), (40, 0.001379588351018671), (1658, 0.001379404048808682), (443, 0.0013784243658949635), (387, 0.0013783515916354668), (3876, 0.0013780734967478836), (3219, 0.0013779841665074787), (1643, 0.0013778610706002253), (1264, 0.0013776723881551503), (436, 0.001377407597625665), (4606, 0.0013767949466264608), (2635, 0.0013766627174526536), (4730, 0.0013761663924941156), (1614, 0.0013761353283629303), (2625, 0.0013757983568453186), (2096, 0.0013756799147778744), (1275, 0.0013756125523039127), (4454, 0.0013756050358095066), (3979, 0.0013754582662581947), (20, 0.0013754107181373372), (444, 0.00137486231052287), (3159, 0.0013748156491191585), (1835, 0.001374803381000101), (4400, 0.0013747509198445739), (2727, 0.0013744172197584516), (207, 0.0013742522127651762), (2314, 0.0013737252449559083), (3052, 0.0013732562937531134), (361, 0.0013732351515004053), (52, 0.0013731373351891193), (4722, 0.0013727783564793715), (4422, 0.0013727203267154687), (350, 0.001371852014372474), (1289, 0.001371675979624285), (3432, 0.0013716283543165377), (2251, 0.0013708996523379687), (3190, 0.0013704028412082447), (531, 0.001370243708234336), (4187, 0.0013702296375354191), (747, 0.0013697734924806412), (274, 0.0013692265209789406), (2012, 0.0013692219447985164), (4052, 0.0013691581674102225), (1705, 0.001369060724000996), (1980, 0.0013688882285107997), (2478, 0.001368851540987327), (4750, 0.0013686686590462442), (3902, 0.001368290037663482), (4584, 0.0013682546292049806), (3461, 0.00136821481099832), (3828, 0.0013681042076619792), (4617, 0.0013678054044787206), (1460, 0.0013676486429812294), (12, 0.0013675091912462264), (493, 0.0013671872698428826), (180, 0.001367049323899762), (3611, 0.001366906359149765), (48, 0.001366867077069183), (21, 0.0013668046569285273), (4249, 0.0013666076318168627), (2260, 0.0013665190959760716), (1941, 0.001365901483007089), (2134, 0.0013653871050085741), (3163, 0.0013652680443254294), (3100, 0.0013652120337632886), (4539, 0.0013651193532315273), (4091, 0.0013648196996407793), (737, 0.0013646326382839571), (2595, 0.001364609650139611), (3196, 0.0013645450397786166), (1400, 0.0013642512764592168), (1754, 0.0013633322190187394), (3030, 0.0013629611279034229), (1716, 0.0013624767012142991), (2483, 0.0013618672782705619), (3882, 0.001361784806603283), (1332, 0.0013616462930139811), (3710, 0.001361330747302742), (125, 0.0013612631881313622), (1775, 0.0013611366576629874), (3305, 0.0013609792902153225), (3691, 0.0013608556947436745), (4324, 0.0013605473563799402), (2468, 0.0013605104845360843), (2797, 0.0013603385815811836), (2181, 0.0013603278762886264), (386, 0.0013602201695764936), (680, 0.001359865012452664), (4312, 0.0013593566331944666), (3453, 0.0013593040726231692), (4478, 0.0013590447134715585), (4637, 0.00135900926076113), (2505, 0.0013589025346680034), (4058, 0.0013587519553738814), (2754, 0.0013587406945174284), (401, 0.0013580825054907264), (1897, 0.0013577386094631278), (3818, 0.001357730790983958), (1779, 0.00135753985537366), (3233, 0.0013573078247590064), (4161, 0.001357271724272957), (3451, 0.001357088275021509), (2248, 0.0013567842029594817), (3519, 0.0013566894853979162), (2662, 0.0013564033944465418), (3749, 0.0013562493216159792), (2393, 0.0013560079434540083), (3281, 0.0013559329047807933), (1837, 0.0013558714233956766), (1058, 0.0013555788938641958), (341, 0.0013553002542759476), (4572, 0.0013547461507547249), (656, 0.0013543889740942204), (2105, 0.0013542968397847772), (4298, 0.0013541178262288492), (2806, 0.0013540509442855697), (1725, 0.0013536600745383046), (1909, 0.0013535012418620196), (1681, 0.0013533453472983992), (1557, 0.0013530784248043282), (1099, 0.0013530016218021887), (2809, 0.0013529993138896711), (4376, 0.00135282192000845), (3887, 0.001352712470312984), (2254, 0.0013523071602472413), (2921, 0.0013519980387688628), (3119, 0.0013516173021009272), (211, 0.0013514606459250525), (3901, 0.001351393647805754), (4625, 0.0013507113708253902), (4694, 0.0013503223775172607), (2863, 0.0013499259390060618), (543, 0.0013489836874853677), (3372, 0.0013483607320973745), (1282, 0.0013482626026435607), (1549, 0.001348205977847853), (1294, 0.0013481376190406485), (417, 0.0013479236834530953), (1513, 0.0013474902033057368), (3145, 0.0013474572952462413), (3816, 0.0013474325380492082), (4496, 0.001347058719461629), (1109, 0.0013455504114100098), (1232, 0.0013453051952039346), (1311, 0.0013452505522405598), (588, 0.001345074998988206), (1470, 0.0013448295716213152), (2850, 0.0013447274497429451), (1790, 0.0013443782131991858), (3688, 0.0013443615732383848), (3729, 0.001344132052186646), (4086, 0.001344131719629883), (102, 0.0013439959092722681), (3081, 0.0013439569315788632), (1158, 0.0013436311342407653), (6, 0.0013430491860909417), (4444, 0.0013428141360279887), (1233, 0.0013427923881566422), (1882, 0.0013424600400550439), (3988, 0.0013421965965335126), (3602, 0.0013414825508907232), (4465, 0.0013414122556570476), (3537, 0.0013413805158642151), (1422, 0.0013413457220356007), (1495, 0.001341314336184616), (3154, 0.0013413112736734855), (1407, 0.001341046411031792), (3554, 0.0013408071147396482), (896, 0.0013405627760475747), (4442, 0.0013404751105375097), (1142, 0.001340410131305817), (1894, 0.0013403955559169079), (1685, 0.0013400211116551784), (3134, 0.0013398887243147696), (1230, 0.0013396798487342566), (1998, 0.0013393109421349209), (1815, 0.001339288137948236), (3054, 0.0013392776897526578), (2165, 0.001339192786673849), (1655, 0.0013384573878056536), (3107, 0.0013384401444741791), (259, 0.0013383109517708038), (3452, 0.0013381074458972244), (270, 0.0013379174133226724), (4717, 0.0013378434225597413), (3381, 0.0013377409117432144), (3697, 0.0013374205540637896), (1166, 0.0013370442152126232), (3181, 0.0013369225312062454), (4034, 0.0013368854794399455), (4285, 0.00133642867138633), (3379, 0.0013362401461893888), (3686, 0.0013360490073849032), (3774, 0.0013359915243954775), (1637, 0.0013359873294546175), (4524, 0.0013357121664371364), (2488, 0.0013356908941559468), (2417, 0.0013356324176863894), (4470, 0.00133557221028057), (1260, 0.0013354635466153043), (857, 0.001335347402526041), (3497, 0.0013353442781246555), (3239, 0.0013348644656669354), (2643, 0.001334826713756829), (2708, 0.0013345963826352158), (2599, 0.0013345463474453158), (3309, 0.0013343221636713703), (1952, 0.0013342188904509299), (2934, 0.0013341879954640633), (3924, 0.0013340906517710514), (1587, 0.0013340147949425286), (3207, 0.0013339921017379208), (2240, 0.0013339093663230109), (460, 0.001333625096892215), (363, 0.0013334462347332223), (2350, 0.001333368000679435), (3768, 0.0013333178071373503), (809, 0.0013326422400316662), (4401, 0.0013324903174609726), (1628, 0.0013323139470495615), (472, 0.0013322972820696297), (4575, 0.001332226709446613), (216, 0.0013315227820106705), (4420, 0.0013314999275690308), (1737, 0.0013313898564717742), (2162, 0.0013313273552735564), (23, 0.001331061698436858), (1402, 0.0013309499364083936), (3501, 0.0013308554160287149), (4047, 0.0013308311282198978), (3061, 0.0013308021193004127), (1937, 0.001330350632347457), (1436, 0.0013303429283624169), (1803, 0.001330291366693992), (3437, 0.0013300226971026553), (3511, 0.0013299416049092293), (1188, 0.0013298968338261883), (829, 0.0013296691146320568), (2905, 0.0013296143072712501), (4421, 0.0013292315358575117), (673, 0.0013292037665640392), (2032, 0.0013290916029495114), (3013, 0.001328946698879097), (4043, 0.0013286527232056163), (3737, 0.00132788768666202), (344, 0.0013277758689449143), (2826, 0.0013272695736582763), (2466, 0.001327234999021307), (4407, 0.0013271968589333588), (2459, 0.001327184989625861), (4000, 0.0013269705146149958), (1962, 0.001326860085944263), (2656, 0.0013266375156455686), (3436, 0.001326554871877494), (3448, 0.0013264703077837663), (564, 0.0013264568935437647), (3870, 0.001326427714313634), (3808, 0.0013259843968414346), (4669, 0.0013256072736923827), (4714, 0.0013254342682954667), (1466, 0.001324551730846712), (3892, 0.0013242821338171635), (2834, 0.0013242670135047896), (4384, 0.0013240565052744352), (2901, 0.001323839723853198), (38, 0.001323653894675895), (980, 0.0013233132324563827), (4477, 0.0013231571201647362), (4367, 0.0013228371830520324), (2247, 0.0013224896046529137), (3960, 0.001322488427898668), (884, 0.0013222591194047457), (1448, 0.001322194147992751), (488, 0.0013221912625888993), (2278, 0.0013218837386496276), (4526, 0.0013218718174244622), (4500, 0.0013218691650111571), (4508, 0.0013216364822350487), (3941, 0.0013215468068559146), (502, 0.0013215422005990723), (1049, 0.0013212380896316202), (3681, 0.0013211838064252828), (395, 0.0013211741347171181), (4559, 0.001321049784145474), (509, 0.0013210249905737088), (913, 0.0013205657556585293), (4, 0.001320354074403278), (365, 0.0013203445101983508), (4650, 0.0013201292196182652), (512, 0.001319925966998838), (4550, 0.0013198521403069634), (966, 0.001319548064306825), (4302, 0.0013195136208662105), (1103, 0.0013193077059166993), (4132, 0.0013192886673103867), (3848, 0.0013191192439975484), (3131, 0.0013188476554975555), (3758, 0.0013188249979825095), (1333, 0.0013187691649341365), (1959, 0.001318600803374282), (3363, 0.0013185156843018655), (265, 0.0013184836509200833), (1844, 0.0013183435079198026), (4379, 0.0013176097312329852), (1578, 0.0013175664955718846), (2664, 0.0013174872009988955), (666, 0.0013173168249821228), (3997, 0.0013170180209157605), (599, 0.001316895271045671), (2334, 0.0013168181444191721), (141, 0.0013168151290461694), (2124, 0.0013167876310633741), (2292, 0.0013165145991705877), (3423, 0.0013164584251693535), (2962, 0.001316297415638671), (700, 0.0013162347281683849), (4494, 0.0013160871773545658), (2153, 0.0013160172246704117), (4581, 0.0013159912748198245), (34, 0.0013159572586124708), (2461, 0.0013158449464628498), (3478, 0.0013158307155520434), (189, 0.001315733653909294), (4195, 0.001315561002329028), (2423, 0.0013151932072723237), (4484, 0.001315143627908537), (3472, 0.00131505924851427), (420, 0.0013149744874820706), (201, 0.0013149160412285336), (994, 0.0013146985269950012), (3247, 0.001314484979314126), (1280, 0.0013143719192408496), (3587, 0.001314367074239275), (4335, 0.0013143512936251744), (2623, 0.0013143186039180407), (4276, 0.001314290401178884), (1834, 0.0013141880917123207), (1034, 0.0013141611292927602), (1563, 0.0013141376737937245), (2769, 0.0013138441805566972), (2903, 0.0013137067690943487), (143, 0.001313494373251034), (4037, 0.0013134477684463072), (2857, 0.001312877715830808), (3097, 0.001312757702708636), (2389, 0.0013124308981818024), (4107, 0.0013121733626799146), (4188, 0.0013118752357596842), (2148, 0.0013118509330673144), (2619, 0.0013118457953311244), (2328, 0.0013118328807540153), (2851, 0.0013115889174390115), (3922, 0.0013115356855846081), (4136, 0.0013115324871311477), (4259, 0.001311435955749397), (4469, 0.0013113935301265088), (3162, 0.0013112811215752885), (1832, 0.0013110706237770178), (2783, 0.0013108267045171752), (1355, 0.0013106166212912473), (1461, 0.0013105368949318573), (2057, 0.0013105318159946867), (828, 0.0013103063956257065), (636, 0.0013102953011130975), (1056, 0.001310025486614092), (2535, 0.001309820900314808), (1122, 0.001309809482603486), (671, 0.00130962452093874), (730, 0.0013090260528061336), (238, 0.0013088089914870852), (2231, 0.0013087616320419746), (312, 0.0013086599503293527), (3502, 0.0013085023207296085), (3786, 0.0013084729334463478), (3599, 0.0013082826916575897), (4728, 0.0013082265053024973), (2780, 0.001308086517989126), (4038, 0.0013079756328393522), (507, 0.0013078569100135238), (2147, 0.001307732470851147), (4360, 0.0013077116690052833), (1697, 0.0013073377929636886), (1679, 0.0013073141744654822), (3660, 0.0013072570798400142), (1570, 0.0013072256179093098), (3287, 0.0013069856538176416), (1499, 0.0013068691952411381), (2499, 0.0013067038265027807), (2171, 0.0013066762687093752), (4666, 0.0013066682393698026), (3994, 0.0013066214988852675), (4448, 0.00130654654813042), (2477, 0.0013064005451148553), (2730, 0.0013063098654825822), (2093, 0.0013061122455533174), (4323, 0.0013061077783747916), (1234, 0.0013060620919261945), (4632, 0.0013059905688824177), (3700, 0.0013058094295632695), (729, 0.00130562433019698), (2104, 0.0013054916143312861), (1724, 0.001305479579792045), (255, 0.0013053479344524662), (3507, 0.0013053335810492483), (2878, 0.0013053192910612692), (3271, 0.001304942464596386), (139, 0.001304793004188907), (3140, 0.0013045149015698339), (4040, 0.0013042489837197682), (794, 0.0013041441346828269), (2518, 0.001303951392315522), (4163, 0.0013036768019993154), (2536, 0.001303600758620814), (3290, 0.0013034603088149257), (1636, 0.0013033966230784927), (3180, 0.0013033674838631212), (4345, 0.0013033116168704771), (871, 0.001303230759616467), (1225, 0.0013031339040739552), (3638, 0.0013030705560538966), (1244, 0.0013029948051074144), (451, 0.001302865534643331), (1007, 0.0013027785418637011), (2307, 0.0013025625342634188), (3790, 0.0013024351188634124), (4383, 0.0013024233072443526), (3690, 0.00130237640152959), (2609, 0.0013021103286587558), (4574, 0.001302088467949346), (3161, 0.0013019723328507866), (4029, 0.0013016516910643293), (3494, 0.001301458232197991), (2725, 0.0013012139248380506), (955, 0.0013010422833644366), (2015, 0.0013008987803479666), (3894, 0.001300885862233996), (2479, 0.001300842913173305), (3972, 0.0013008409356482578), (4275, 0.0013005154313775573), (3560, 0.001300182746732246), (4190, 0.0013001393796298441), (3604, 0.0013000429652354603), (701, 0.0012999607012191372), (528, 0.001299887712355069), (4692, 0.0012998794973262718), (4557, 0.001299737734764127), (1796, 0.0012995095936333173), (4680, 0.0012994060932688507), (711, 0.0012993202181965262), (3496, 0.001299225646847757), (4408, 0.0012991154379316061), (4051, 0.0012988994846252079), (3542, 0.0012987526653916665), (4621, 0.0012986679749943093), (4542, 0.0012984452915077093), (2044, 0.0012983879074670941), (4119, 0.0012983663364657325), (3618, 0.0012982567454127944), (4648, 0.0012982539597826443), (220, 0.0012981482231225242), (4258, 0.0012980414970276137), (2696, 0.0012980276305473006), (3709, 0.0012980222986189386), (3320, 0.0012979916375342128), (1116, 0.0012979262986311556), (1432, 0.0012977567896109642), (2872, 0.0012977245131339675), (3732, 0.0012973141559091137), (2548, 0.0012971078407337574), (4170, 0.0012969700745669988), (481, 0.0012967154065468061), (3019, 0.0012965708715951792), (4737, 0.0012965681083954678), (3112, 0.001296429595152317), (3174, 0.0012964289172720394), (4069, 0.0012964210809553159), (2570, 0.0012960893889498832), (2966, 0.0012960843394632987), (4093, 0.0012958696003595271), (1205, 0.0012954418592637676), (3003, 0.0012954103810926087), (742, 0.0012953558173437545), (2267, 0.0012953379666723844), (3727, 0.001295237897405322), (4242, 0.0012950719938502994), (3442, 0.0012950108190750065), (2408, 0.0012949245106029384), (1806, 0.0012948841301288535), (3508, 0.0012948489587946098), (1867, 0.0012945967675779791), (1006, 0.0012945241991299747), (1936, 0.0012944882647185176), (1135, 0.001294383760057708), (710, 0.001294369239694257), (4563, 0.0012942831583731354), (1057, 0.0012941362055618794), (1293, 0.0012939327114102619), (4675, 0.0012938534512271951), (2588, 0.001293780583699553), (2106, 0.0012935831313456029), (3644, 0.0012935310199866752), (1887, 0.001293358989238972), (3873, 0.0012933164295012055), (1498, 0.0012932273441720141), (3966, 0.0012931978125670575), (2683, 0.001293119983789141), (4624, 0.0012930100106757624), (2961, 0.0012925988172928806), (985, 0.0012922865934956193), (146, 0.001292252835603444), (3879, 0.0012922012782300796), (467, 0.0012921215362312992), (2812, 0.0012920496711985455), (3532, 0.001291582884891925), (2894, 0.0012914899361189886), (3406, 0.0012911650290314154), (3521, 0.0012911499076468944), (4209, 0.0012910066663412228), (3819, 0.0012906723901656282), (1560, 0.0012904273808350363), (3187, 0.0012902783491890951), (587, 0.0012902663022719763), (550, 0.0012902597083655656), (100, 0.0012901622166084552), (2313, 0.0012900097004698472), (2983, 0.0012899653557185394), (241, 0.0012898543795988727), (3486, 0.0012897080090034725), (717, 0.0012894324809416774), (3150, 0.0012893609432292259), (1966, 0.0012892866230799654), (872, 0.001289235379693136), (1854, 0.0012892104887820544), (1874, 0.0012891298223051443), (1940, 0.0012886497997708483), (3202, 0.001288382345975006), (83, 0.0012882879249519225), (3300, 0.0012882612088731048), (368, 0.001288245250503801), (4657, 0.001288065570667593), (983, 0.001287603159243748), (2019, 0.001287524135207183), (4088, 0.0012872274530003043), (4289, 0.001287156275496933), (1596, 0.0012868164245752709), (3520, 0.001286687299013929), (10, 0.0012866338944836984), (1179, 0.0012864674828106145), (3467, 0.0012864307578935835), (4523, 0.001286306830812556), (4577, 0.001286255670692903), (1411, 0.001286076776140756), (1923, 0.001286071478509026), (1564, 0.0012858816085382194), (4738, 0.0012857516422732874), (619, 0.0012855500146225244), (1727, 0.0012855350373894335), (4613, 0.0012853148990277059), (2169, 0.0012852820255449986), (71, 0.0012852347968774556), (4724, 0.0012850799245351162), (1258, 0.0012848821026445227), (4410, 0.001284865395330488), (3072, 0.0012847838170800875), (3631, 0.0012846423667372806), (4757, 0.0012844200337662692), (3044, 0.0012843330385310995), (3907, 0.0012842708735520654), (4207, 0.001284223918646068), (3378, 0.0012841642152446556), (697, 0.0012840451443233568), (74, 0.0012837091696423276), (2875, 0.0012835184322153768), (2266, 0.0012833111842659502), (3938, 0.0012831971728820507), (4305, 0.001282832948002659), (3867, 0.001282799999405265), (2222, 0.0012827415804772045), (4168, 0.0012825824351661687), (4446, 0.0012824630439962571), (846, 0.0012824297014025516), (4601, 0.0012818378205633053), (622, 0.00128177190868223), (2898, 0.0012817324999368938), (977, 0.0012816991038069401), (3722, 0.0012815812373459835), (181, 0.001281363564983811), (192, 0.0012813289820054884), (3953, 0.001281273661893356), (2830, 0.0012811787180762482), (370, 0.0012811584196352815), (4130, 0.0012810836435855602), (1339, 0.0012808686186784588), (2249, 0.0012808638351608276), (4371, 0.0012808242957815887), (473, 0.0012808042959865152), (4021, 0.0012806416286335368), (4240, 0.0012806277479600577), (1449, 0.0012805991717192275), (3404, 0.0012803728728064566), (1502, 0.0012802107627389507), (3043, 0.0012801020294975901), (3591, 0.001280076835288572), (2455, 0.0012798638978777212), (4154, 0.0012797462092001615), (1736, 0.0012795324913618936), (151, 0.0012794284896545294), (2884, 0.0012793590217534915), (2772, 0.001279284014688603), (4493, 0.0012792215840513078), (2411, 0.0012792013561474381), (389, 0.0012791575887458246), (3581, 0.0012788125855732024), (2756, 0.001278802787422019), (2040, 0.0012785524862590724), (1298, 0.001278423246719987), (654, 0.0012773599648257077), (4333, 0.0012773075194217102), (3673, 0.0012771541795419863), (4672, 0.0012768982382259809), (169, 0.0012768638336184063), (484, 0.0012767713844326004), (2110, 0.0012767456424614327), (4483, 0.0012766682855940314), (3366, 0.0012765004613348627), (2246, 0.0012762631854525896), (1131, 0.0012761637750618219), (1742, 0.0012757343721369887), (2790, 0.0012750336273279139), (679, 0.001274690450981329), (2190, 0.0012743387860925622), (848, 0.0012741916189083391), (90, 0.0012741494208113832), (2970, 0.0012741395677740685), (3388, 0.0012740854041903738), (2084, 0.0012740558073570639), (606, 0.0012732831393378623), (1829, 0.0012731971543237216), (1812, 0.0012728406864099646), (478, 0.0012726410176282222), (3980, 0.0012725299108485488), (348, 0.001272503607254056), (470, 0.001272279897734499), (1297, 0.0012722642337732355), (3659, 0.0012721525102189959), (3275, 0.0012720982228408553), (1391, 0.0012720667598529658), (4278, 0.0012720003993096844), (4318, 0.0012717552159837312), (1902, 0.0012716606804850491), (1223, 0.001271642258496244), (4077, 0.0012713664055426929), (750, 0.0012711440731138768), (4113, 0.0012707699250685035), (3135, 0.0012707489912012896), (795, 0.0012706964367160559), (1938, 0.001270317593590184), (661, 0.0012702712589351807), (1766, 0.0012702221861694968), (1645, 0.0012701050048527583), (3002, 0.0012700564210957257), (423, 0.001270054455239734), (439, 0.0012698846835777439), (51, 0.0012698707375657107), (162, 0.001269799525098697), (28, 0.0012697581042473347), (3866, 0.0012692730174765183), (2141, 0.0012692630808003582), (2243, 0.0012692572894143258), (3662, 0.001269229606245525), (1561, 0.0012691887834238777), (297, 0.0012689733935449497), (4663, 0.001268340350636006), (3840, 0.0012683262899414768), (1740, 0.0012678268498179748), (3438, 0.001267538834233296), (1804, 0.0012674819238208844), (3122, 0.001267457329701152), (2184, 0.001267397021834127), (2030, 0.00126723190673718), (1373, 0.0012671148995880962), (3346, 0.001267075179999079), (862, 0.001267060848629671), (2188, 0.001267028869240577), (258, 0.001267015682472965), (2049, 0.0012666954054673862), (3931, 0.0012663999005276135), (1427, 0.0012661464941376207), (1932, 0.0012661268776845084), (3335, 0.0012660239537125408), (535, 0.0012659174292503513), (749, 0.0012658240454851142), (2402, 0.0012658050252724233), (2333, 0.0012656361629925191), (918, 0.001265377937420579), (681, 0.001265218450499084), (66, 0.0012648486886101427), (1378, 0.0012647566851475068), (4234, 0.0012647201261831245), (1713, 0.0012646658634530837), (781, 0.0012643563941174012), (2838, 0.0012642309282828112), (4433, 0.001264227258581318), (3836, 0.0012638397054793565), (1475, 0.0012638374092353852), (492, 0.0012636503297172173), (153, 0.0012631774393867302), (1758, 0.001262884745219852), (1600, 0.001262580278561236), (264, 0.0012623908597224045), (3798, 0.0012623394103384732), (5, 0.001262256819255955), (1541, 0.001262126423906581), (3367, 0.0012620362224672129), (1141, 0.001261859112449366), (3982, 0.001261771188041052), (4452, 0.0012617469285618652), (1479, 0.0012617447139139757), (2713, 0.0012616496973334673), (2515, 0.0012612276763556602), (3516, 0.0012611369043855458), (1409, 0.0012610961238286914), (774, 0.0012606880059597048), (4495, 0.0012604801430623838), (1955, 0.001260347289758618), (1706, 0.001260265279497759), (487, 0.0012599781314069955), (4336, 0.0012599174687410284), (2964, 0.0012598416813086137), (3735, 0.0012594294639145622), (1634, 0.0012594123945488048), (4594, 0.001259370116315886), (1931, 0.00125929264958352), (1958, 0.0012591278670535011), (2761, 0.0012591194064473213), (3696, 0.0012588953082067664), (4552, 0.0012586582325332131), (2796, 0.0012584406800996112), (919, 0.00125803794599021), (3664, 0.0012579076879770709), (1159, 0.0012576786906495312), (1848, 0.0012575793609251094), (944, 0.001257539786090001), (3769, 0.0012574946886160672), (1189, 0.0012574495585860133), (4549, 0.0012574371231245474), (1455, 0.0012572006089047979), (3675, 0.0012566916680909499), (3682, 0.0012565276918978653), (2804, 0.0012564937960144716), (1174, 0.0012562968703744724), (3364, 0.0012561875807694629), (2095, 0.0012561736639665855), (3359, 0.0012560590347023089), (4725, 0.0012559869549149578), (4491, 0.0012558752992776394), (2950, 0.0012554688129258942), (4116, 0.0012552979339714157), (3208, 0.0012552900106009353), (4683, 0.0012551574680363536), (2606, 0.0012551056446084197), (1487, 0.0012550566956225065), (514, 0.0012550527248431885), (1860, 0.001255041905702374), (2996, 0.0012548573963731045), (2684, 0.0012547750291643258), (427, 0.0012547447940581876), (3833, 0.0012546395565795967), (3490, 0.0012544709806483582), (3513, 0.0012544582829812267), (178, 0.0012544019581625214), (2581, 0.001254381527282687), (4054, 0.001254361723332378), (3777, 0.0012542955440968788), (845, 0.0012537176871435787), (4510, 0.0012535693811103652), (1388, 0.0012533004448842793), (3210, 0.0012532204048614198), (841, 0.0012532130756516208), (1469, 0.0012530848814762971), (4435, 0.0012529822470057936), (4273, 0.0012527837155553794), (2856, 0.0012527113931698052), (1696, 0.0012527066320156372), (1060, 0.0012526198250658832), (662, 0.0012524575981559592), (1419, 0.0012523777150724778), (3435, 0.0012523622717014668), (329, 0.001252302136787316), (3007, 0.001252256827557691), (4068, 0.0012522238808925724), (275, 0.0012521268688400302), (3195, 0.0012521085202044254), (1029, 0.0012521031818131915), (2252, 0.0012520498526959918), (2828, 0.0012516562033510162), (1891, 0.0012514398819693455), (4506, 0.0012512464229740027), (4126, 0.0012511473439874915), (2533, 0.0012510722902672974), (4490, 0.001251063396677772), (4334, 0.0012508938884328573), (503, 0.0012508441784935998), (2448, 0.0012507833675720142), (1002, 0.0012506667400556863), (3959, 0.0012506340270338951), (3734, 0.0012503512292956682), (4127, 0.0012501381337367058), (2819, 0.0012500911966434134), (1635, 0.001249910071964142), (347, 0.0012497166700027235), (567, 0.0012495053801755674), (1791, 0.0012494041111065866), (552, 0.0012493923723020366), (3920, 0.001249217314682983), (127, 0.001249150626584873), (114, 0.0012488665923691081), (1525, 0.0012485199174028661), (1213, 0.0012482819833150086), (1917, 0.0012481575513038849), (3653, 0.0012480909178576069), (1602, 0.001248059579699539), (3603, 0.0012480083640125184), (2880, 0.0012478110632112586), (446, 0.0012477102601124062), (3529, 0.0012476828391355358), (1101, 0.0012476270284847465), (2720, 0.0012476124083392493), (3549, 0.0012472271387067423), (1777, 0.0012471159820897973), (2155, 0.0012469505590281098), (418, 0.0012469347548043593), (4741, 0.0012468680948170604), (2122, 0.001246721192373108), (4297, 0.0012466002512094103), (425, 0.0012463679832436343), (784, 0.0012463588674020427), (2214, 0.001246290732478496), (2690, 0.0012462450817467018), (1653, 0.0012462116841419888), (866, 0.001246094398646203), (2589, 0.0012460711471568777), (580, 0.0012460440737703303), (4135, 0.0012460324489669918), (3209, 0.0012460132978200991), (1993, 0.001245833033302444), (2546, 0.0012454250448791205), (3812, 0.0012452930218464966), (1262, 0.0012452377597036962), (1765, 0.0012452319802604235), (2967, 0.0012452078154216767), (3541, 0.0012451998473898527), (3854, 0.0012450225826494189), (1811, 0.001244865729411205), (3308, 0.001244659474571084), (3168, 0.001244479772652745), (1969, 0.0012442977304917854), (989, 0.0012442513422595614), (1322, 0.0012441893951815406), (1663, 0.00124412733789458), (3401, 0.001243945559578654), (1224, 0.001243887302423172), (814, 0.0012437832240772258), (4392, 0.0012437438551916578), (1610, 0.0012437243621446403), (3418, 0.0012435748455594936), (1337, 0.0012435128351250839), (769, 0.0012434905136535217), (4715, 0.0012430894400655467), (1440, 0.0012430518193668344), (3791, 0.0012427348006349608), (822, 0.0012427189273518453), (244, 0.0012427046168016652), (1107, 0.0012426871081765026), (4489, 0.0012421047405443524), (3564, 0.001241822749937717), (565, 0.0012416686459142798), (2532, 0.0012415431597918752), (685, 0.00124136888521311), (1946, 0.001241320658861948), (2319, 0.0012409691609269425), (1552, 0.0012407015419943416), (3616, 0.0012405355889213924), (1664, 0.001240495983395519), (26, 0.0012402422762622545), (2792, 0.0012402224344325468), (3514, 0.0012402006209572282), (3632, 0.0012401916744698826), (4042, 0.0012401468750288872), (1147, 0.0012397165606716153), (1368, 0.0012395673802112466), (867, 0.0012394558904419996), (3978, 0.0012393713688770786), (3950, 0.0012392652769527273), (2069, 0.0012391346068548357), (1473, 0.0012387883033390646), (3169, 0.0012387191040742253), (1380, 0.0012386695019605508), (930, 0.0012386142948975088), (1649, 0.0012385124851634684), (4094, 0.0012383102684613149), (3449, 0.0012382840884442381), (3584, 0.0012382301175519743), (987, 0.001237969169540139), (2375, 0.0012378990817121615), (3499, 0.0012378650267326557), (150, 0.0012378416048609987), (1017, 0.0012377138006922181), (3578, 0.0012376244062622455), (4101, 0.0012375664613595763), (2824, 0.00123743012228446), (1354, 0.0012372289792799932), (4265, 0.0012368724035910815), (1123, 0.001236844189932494), (1104, 0.0012367685157814053), (4224, 0.0012365416427213597), (2785, 0.0012364022962343582), (4679, 0.001236363839852259), (1620, 0.001235936523728533), (728, 0.0012358910110513866), (2705, 0.0012358891881650029), (2991, 0.0012358359102561307), (3789, 0.0012358183638454454), (793, 0.001235675898735184), (1435, 0.0012352639985277157), (1550, 0.0012351093441528324), (2784, 0.0012349276861473668), (4330, 0.0012349154004281538), (4664, 0.001234738578273401), (1905, 0.0012347034697249072), (340, 0.00123424595241994), (3286, 0.0012342032125767883), (3493, 0.0012341492517212425), (3073, 0.001234056673995585), (4310, 0.0012339641422030347), (660, 0.0012339114083002455), (4404, 0.001233549023954799), (4267, 0.0012335305143606104), (4180, 0.0012334968732324878), (2232, 0.0012332853993661972), (1893, 0.001233225619999943), (320, 0.0012332167187399593), (4175, 0.0012329941386800636), (1079, 0.001232865986257294), (1164, 0.0012327775213897294), (2370, 0.001232612943778414), (1151, 0.0012324959930788207), (2046, 0.0012323645136960732), (802, 0.0012323374456457267), (337, 0.0012321749835576639), (3908, 0.0012321001686888728), (1149, 0.0012319742720188088), (4391, 0.0012318576697739518), (3905, 0.0012318283826889993), (4363, 0.0012318049671948715), (4357, 0.001231780477350343), (525, 0.0012315943561664118), (2945, 0.0012313933654371412), (1916, 0.0012313406939547143), (1983, 0.0012313282615140954), (604, 0.001231211341805779), (1105, 0.0012310507507337597), (3975, 0.0012310029588224938), (3977, 0.001230907847569648), (4517, 0.0012308507761997795), (1671, 0.0012307769257630023), (2695, 0.0012306258600843138), (4718, 0.001230456415876039), (30, 0.0012304143808295912), (2707, 0.001230393171411276), (4160, 0.0012299255570395466), (1734, 0.001229750714743771), (4438, 0.0012293815167211564), (450, 0.001229327237342247), (4120, 0.0012292442519133587), (2071, 0.0012290187783559805), (3576, 0.0012289273624908011), (2493, 0.001228701772711667), (3612, 0.0012286994091421446), (1067, 0.0012286393884536936), (1722, 0.00122857665436174), (458, 0.0012285343107604667), (4140, 0.001227669284945465), (4619, 0.0012276171886869925), (1558, 0.0012274733160435821), (3897, 0.0012273769508757285), (3110, 0.0012272492077672053), (4427, 0.0012272171414511944), (658, 0.001226991963359507), (3888, 0.001226873453288293), (771, 0.0012267921786579844), (1127, 0.0012266193240303947), (3844, 0.001226422423657107), (2434, 0.001226264667602573), (2427, 0.001226256459145339), (1140, 0.0012261669038893396), (95, 0.0012261320509920164), (3341, 0.0012259977936184133), (703, 0.0012257903559349554), (1805, 0.0012257153454188192), (172, 0.0012256755108741393), (2594, 0.0012256245978011621), (898, 0.0012254368556112972), (758, 0.0012254224998077597), (883, 0.0012252385869130412), (4580, 0.0012252250996358314), (649, 0.001225179110588237), (2293, 0.0012250904287950562), (4677, 0.0012249515801100337), (485, 0.001224935050790431), (517, 0.0012248508355900644), (3121, 0.0012248125104933423), (2965, 0.0012246119535919582), (404, 0.0012244140802490436), (1859, 0.001224394597941048), (2940, 0.0012242808663683585), (3485, 0.0012240172900156005), (1493, 0.001223831096813727), (1942, 0.001223816444541017), (3823, 0.0012237662224072869), (2755, 0.0012236456531793441), (2036, 0.001223635295597619), (1810, 0.0012232914968942513), (3334, 0.0012232698289947033), (4006, 0.00122313713131467), (3183, 0.001223130957188518), (246, 0.0012230916521075415), (1075, 0.0012230020868386506), (909, 0.001222849598474989), (1190, 0.0012227288598395836), (136, 0.0012226984768337922), (1082, 0.0012225246521752043), (260, 0.0012222555471001367), (2277, 0.0012218536467121207), (598, 0.0012217122549284302), (1408, 0.0012216765889575913), (3099, 0.001221671995840287), (830, 0.0012216293939318506), (1228, 0.0012215695843307563), (1433, 0.0012215141107995552), (85, 0.0012214877509485903), (2612, 0.0012212882632389077), (2472, 0.0012211894635530147), (94, 0.001221051194062901), (1961, 0.0012210151670980806), (3872, 0.0012209926364383076), (1027, 0.0012207533433862326), (3568, 0.0012207147912304743), (3354, 0.0012206985102558576), (2048, 0.0012205147721616584), (1196, 0.001220447167679737), (633, 0.0012201576659113492), (65, 0.0012197199377050605), (1108, 0.001219632274592794), (1313, 0.001219411509084613), (2054, 0.0012192854968665755), (2130, 0.0012191619788808517), (1730, 0.0012185791042295137), (1531, 0.0012185424391544573), (1128, 0.0012180977739427068), (3636, 0.0012180274854754216), (1621, 0.0012177138025906765), (1599, 0.0012176521093561132), (1839, 0.0012176512909168422), (2827, 0.0012176421455872798), (1904, 0.0012175826460219864), (2053, 0.0012173916721323723), (4248, 0.0012171417325745127), (2596, 0.0012171297300351235), (716, 0.001217023177534512), (4623, 0.0012168631914586353), (713, 0.001216816638371875), (4387, 0.001216793580127113), (2464, 0.0012166688079873593), (4585, 0.0012164190848486123), (2354, 0.001216286661948252), (3361, 0.0012161501249817318), (4670, 0.0012155881550582129), (4103, 0.0012155687560378094), (4378, 0.001215562652474276), (963, 0.0012154946411542743), (1693, 0.0012150654115293989), (349, 0.00121504499995593), (456, 0.0012149864359779364), (4231, 0.001214930910455865), (2912, 0.0012148872612328604), (875, 0.0012147542408239135), (72, 0.001214749890336379), (4630, 0.0012147371555018415), (2261, 0.001214651142875377), (1304, 0.001214575089496051), (3439, 0.0012144448385568952), (4505, 0.0012138840791597702), (4013, 0.0012138089538673983), (2090, 0.0012137364183988884), (3942, 0.001213615984332525), (4551, 0.001213594621491235), (891, 0.0012135479804212428), (4076, 0.001213464050556695), (1605, 0.0012132679172062054), (582, 0.0012131130623684633), (4122, 0.001213110481347339), (4394, 0.0012127756786773122), (3117, 0.0012127490242828136), (2578, 0.0012126343028656997), (1044, 0.0012125659839801726), (3076, 0.001212505687659224), (4022, 0.0012124925011426), (2410, 0.0012121965084551287), (4085, 0.0012121912762039309), (1901, 0.0012121587563613733), (1519, 0.001212158108244719), (1630, 0.0012120533659991152), (865, 0.0012120406486764628), (4503, 0.0012117919508123822), (907, 0.0012117253107911752), (1484, 0.0012117033370406642), (790, 0.0012116557370161), (945, 0.0012113571283317343), (2405, 0.001211209155959032), (813, 0.001210936568063067), (1918, 0.0012106353190493196), (4204, 0.001210560594695322), (1797, 0.0012101822137411808), (1746, 0.0012101444204196744), (4124, 0.0012100926344496947), (1618, 0.001209982606969223), (1483, 0.0012094712660924054), (1899, 0.001209276955627161), (3104, 0.0012090514217152186), (4708, 0.0012086483660094169), (59, 0.0012083388167381365), (1864, 0.001208165342324887), (2539, 0.0012079790402576523), (1235, 0.0012078684149621098), (4293, 0.0012076236740142326), (3425, 0.001207381093830141), (1207, 0.0012072875043870222), (3701, 0.0012072585255687243), (1227, 0.0012071752905846683), (960, 0.0012070357744341474), (3932, 0.0012070331540246903), (1476, 0.0012068229001239359), (3025, 0.0012064702992979836), (2735, 0.001206356176589051), (4307, 0.001206313769636241), (2476, 0.0012062621482576), (3724, 0.0012062414462336508), (969, 0.0012061893583829916), (4192, 0.001206070781345474), (1877, 0.0012054304751342123), (2061, 0.0012049965976884285), (3704, 0.001204931825300921), (1204, 0.0012048561284872176), (651, 0.001204687992606422), (494, 0.0012046821503387578), (3201, 0.0012043885554737), (1699, 0.0012043708529822469), (3849, 0.0012040670262105067), (1842, 0.00120403196715346), (610, 0.001204010249415407), (2014, 0.0012039525293283373), (990, 0.0012037806645291878), (229, 0.0012031739368919727), (1406, 0.0012031508188402114), (3216, 0.0012030430107553833), (840, 0.0012029315550580392), (1858, 0.0012028278807892198), (3883, 0.0012027805165859616), (1833, 0.0012026228104968647), (3312, 0.0012026142863418292), (1125, 0.0012026051988921905), (3834, 0.0012022256559900447), (4620, 0.0012021840653590262), (1447, 0.0012021032291569683), (3093, 0.001201991125709034), (1642, 0.001201884913777555), (1191, 0.0012017398041725335), (819, 0.0012015821480732228), (1439, 0.0012014405209809522), (1888, 0.0012013942238375216), (2686, 0.0012013576268708871), (4274, 0.001201262578996553), (4152, 0.0012008338374561976), (1781, 0.0012007429045304617), (2516, 0.0012006823651070835), (1665, 0.0012005193197052425), (573, 0.0012005067746382251), (4370, 0.0012004658313785584), (1385, 0.0012001935375386727), (4353, 0.0012001579533239908), (2681, 0.0012000816639008247), (3863, 0.0012000516167198854), (2215, 0.0011999996230034), (1376, 0.0011998730471148916), (3484, 0.001199545801594985), (3133, 0.001199463766847892), (410, 0.00119937376335119), (4716, 0.0011993371194143469), (2432, 0.001199284080303035), (3912, 0.0011991890141602919), (529, 0.0011991840227427457), (3746, 0.0011991528284547122), (3539, 0.0011990163504347685), (2268, 0.0011988336441076932), (3622, 0.0011987258148461867), (2978, 0.0011986972867412168), (708, 0.0011984526025688466), (755, 0.0011984323189315864), (3770, 0.001198422490491273), (3124, 0.0011983761364891578), (905, 0.0011981583735338863), (4183, 0.0011980292303740924), (3817, 0.0011977633475186657), (1126, 0.0011976957979268183), (4645, 0.001197573410853505), (1672, 0.0011971070480734443), (1577, 0.0011967738581236049), (839, 0.0011967696039290624), (426, 0.0011967370415478327), (1717, 0.0011966894875960524), (4235, 0.0011965448154081667), (1076, 0.00119644937972668), (2115, 0.0011963393980876959), (3869, 0.0011963028429449382), (1508, 0.0011962063727730746), (2496, 0.0011961960333960779), (2554, 0.0011961724981621915), (1967, 0.0011960009778244516), (360, 0.0011956471771291763), (1086, 0.001195442651647863), (1611, 0.0011953776314943389), (45, 0.0011953372487048658), (1452, 0.0011952350481048107), (1047, 0.001195177045395416), (2348, 0.0011950359519916744), (696, 0.0011948500350542832), (1325, 0.0011948337088359625), (3884, 0.001194828499805225), (2170, 0.0011946430153510297), (3022, 0.0011945178378280938), (1978, 0.0011944137021899356), (4522, 0.0011941968741810945), (4087, 0.0011940638734433198), (4197, 0.0011940152220800315), (2428, 0.001193980127492003), (4595, 0.001193400121579504), (1375, 0.0011933028780858864), (3126, 0.0011932066948375333), (200, 0.001193052107663149), (4628, 0.0011929867616196678), (1071, 0.0011929148930632772), (49, 0.0011927789656626438), (1825, 0.001192651753938618), (2979, 0.0011921355372638853), (2139, 0.0011921168363316801), (3016, 0.0011920508912085267), (1334, 0.0011920488703412461), (2473, 0.0011920120787865967), (3141, 0.0011919980213873813), (3998, 0.0011918734183425914), (888, 0.00119178721520007), (2383, 0.0011917418340908828), (3273, 0.0011917317824667083), (3841, 0.001191478036716096), (894, 0.0011914374666881543), (2269, 0.0011912398575465617), (1889, 0.001190967183644733), (2284, 0.0011909502048628323), (3103, 0.0011906646723026334), (1372, 0.0011904926841897203), (1956, 0.0011904860939061606), (2216, 0.0011904150941939033), (612, 0.001190283802997481), (859, 0.0011901504634713534), (718, 0.0011899409413919926), (2899, 0.0011898518736999449), (4011, 0.0011897615862864626), (1177, 0.0011897511152580537), (4071, 0.0011897002467363242), (3034, 0.001189544972294119), (145, 0.0011894896221420286), (2551, 0.0011887335063582472), (2208, 0.0011886580167537574), (4033, 0.0011885719140549793), (1488, 0.0011885182422264704), (373, 0.00118844104610687), (1032, 0.0011883418646128313), (2525, 0.0011882222896784404), (557, 0.001188196347010124), (188, 0.0011880442136139695), (1592, 0.0011880001536692332), (2615, 0.0011876782273456095), (3695, 0.001187545355666223), (316, 0.0011875215497069596), (3188, 0.001187073526813578), (2371, 0.0011867982576283102), (3773, 0.0011867342437677018), (2391, 0.0011865452458386968), (4146, 0.001186473564642765), (1520, 0.0011862022366719814), (4340, 0.0011860931453039085), (3969, 0.0011860739628896156), (1814, 0.001185943546873697), (3763, 0.001185892145200448), (1949, 0.0011855046202427521), (1704, 0.001185498810714542), (405, 0.0011852308894540209), (3815, 0.0011851485651795985), (4148, 0.0011850236316893257), (973, 0.0011850157344593585), (2217, 0.001184894481097826), (863, 0.0011847446796234866), (1041, 0.0011844589268910585), (4059, 0.0011843124982664228), (1481, 0.0011842530720900292), (727, 0.0011839629437557422), (4216, 0.0011837059623623469), (382, 0.0011836905955023035), (3582, 0.0011836612229878844), (4030, 0.0011834730410440362), (4687, 0.001183393108282748), (2344, 0.0011833890636268377), (3677, 0.0011832869357900294), (1287, 0.0011830637601014844), (1139, 0.0011828361163421562), (1640, 0.0011828158971704664), (3403, 0.0011828088118309467), (2091, 0.0011827322701023245), (2283, 0.0011824946386646742), (4497, 0.0011824889623870017), (1767, 0.0011824267813195849), (3106, 0.001182345196443553), (827, 0.0011823338761366793), (333, 0.0011820197964782107), (2327, 0.0011818930722005546), (415, 0.001181359032785181), (3212, 0.0011813164382447512), (3588, 0.0011812944048978774), (817, 0.0011812803079369063), (572, 0.0011812313046650061), (2571, 0.0011810783496102796), (3614, 0.0011809994004828447), (4118, 0.0011808021385460762), (1582, 0.0011803401328504938), (2332, 0.0011803029897358114), (1110, 0.001180237372749072), (2489, 0.0011801551041272678), (2470, 0.001180127298396227), (4073, 0.0011798198032159377), (1451, 0.0011797799671214744), (1683, 0.0011796664221021286), (3289, 0.001179647570403247), (759, 0.0011794274777008058), (2003, 0.001179376332966748), (2817, 0.0011793554752872492), (226, 0.0011792034112994205), (2098, 0.001178998024458195), (1532, 0.001178938267055631), (3820, 0.0011788254938255316), (4582, 0.0011787450209517257), (2321, 0.001178690986347932), (2129, 0.0011782967183604053), (4362, 0.001178149083696161), (4686, 0.0011779769098692505), (1347, 0.0011779088332884015), (2452, 0.0011777256091856506), (2585, 0.0011774224676991357), (1291, 0.001177300666861411), (154, 0.0011768925860893343), (2802, 0.0011766989359729295), (4264, 0.00117664098603821), (900, 0.001176405327135626), (4592, 0.001176337389973129), (1660, 0.001176191476523984), (1589, 0.001175962325400403), (4263, 0.0011759514066824034), (674, 0.0011759428703359822), (773, 0.0011759380909414125), (3225, 0.001175522957830156), (3551, 0.0011753580088898709), (4732, 0.0011753560671941853), (4661, 0.0011753200709844393), (3811, 0.0011751588573942953), (836, 0.0011750599719583827), (164, 0.0011749997240681894), (1359, 0.0011749018369539598), (3011, 0.0011747123301605452), (2123, 0.0011746497129615423), (3795, 0.001174453202723435), (4269, 0.0011744169379241767), (4063, 0.0011740252156904895), (221, 0.0011739953027601006), (785, 0.0011739448121327533), (3921, 0.0011736833099261804), (982, 0.0011736471726690545), (2163, 0.001173468128368549), (1559, 0.001173313862854074), (2297, 0.0011732910395941185), (1617, 0.001173147140800897), (2024, 0.0011730025948035088), (2201, 0.0011728953241673089), (1668, 0.0011728933309184605), (3962, 0.0011727595634209876), (2068, 0.0011725218686923476), (4251, 0.0011724515677548999), (767, 0.0011724308446380096), (712, 0.0011723953040178744), (3792, 0.0011722344200210514), (1155, 0.0011722001803140302), (4125, 0.001172160515517156), (2700, 0.001171860075269942), (1517, 0.0011716143465669699), (4072, 0.0011715792838011244), (2229, 0.001171527339044629), (3235, 0.0011714355283383563), (2523, 0.0011710704610178372), (799, 0.0011709960325932641), (1751, 0.0011705919479913563), (2839, 0.0011704305344244679), (170, 0.0011703418606895596), (821, 0.001170320192793433), (1025, 0.001170067949546302), (1595, 0.001170066076864422), (2385, 0.0011699512174359874), (2882, 0.0011694646052821346), (4405, 0.0011693941177502013), (4688, 0.0011689407097830655), (4615, 0.0011689110439669506), (152, 0.0011688944106402293), (1442, 0.0011688191373457075), (325, 0.0011688131012041387), (1035, 0.001168805455903019), (3547, 0.001168740070170983), (4184, 0.0011686803880002006), (3596, 0.0011683809092518447), (3646, 0.0011683515852680625), (1604, 0.001168201771538187), (920, 0.0011681673344428036), (3074, 0.0011680831208845787), (3221, 0.0011677340803857112), (4332, 0.0011671118609369907), (2800, 0.0011671032255515597), (1399, 0.0011670825288648118), (1462, 0.0011669943856647542), (4155, 0.001166925817986132), (4673, 0.0011666885352033466), (2909, 0.0011665455074891485), (4044, 0.0011662523094866325), (1415, 0.0011661731153273906), (3906, 0.0011660816939527093), (3350, 0.0011660538992188892), (1097, 0.0011659100683841222), (464, 0.0011658131078761851), (878, 0.0011657894438091541), (2620, 0.0011656266663652884), (1395, 0.0011655827620622521), (1984, 0.0011654911484634135), (4569, 0.0011651396391568584), (3269, 0.0011651286174665203), (1394, 0.001165030492371189), (3707, 0.001164911061920152), (133, 0.0011648024118954773), (1321, 0.0011647852080354452), (276, 0.0011645567981975694), (182, 0.0011645391401654795), (2739, 0.0011641127626461647), (2043, 0.0011640952066265219), (2572, 0.0011640819242024457), (4287, 0.0011639842953219618), (1117, 0.0011639474455473946), (3482, 0.0011638920531762444), (486, 0.001163627145972966), (4481, 0.0011635829483376612), (3889, 0.0011635412900857162), (634, 0.0011634399982071069), (167, 0.00116340178068686), (1551, 0.0011632121076032462), (1323, 0.0011631696682299518), (2840, 0.0011629852829408156), (4746, 0.001162911198722489), (2196, 0.0011628324842597054), (997, 0.0011626840790717094), (2968, 0.0011624717018038047), (1771, 0.0011624390553970987), (2304, 0.00116231106261317), (4600, 0.0011622949534583792), (447, 0.001162233569096018), (2836, 0.0011621576353109198), (2719, 0.0011618189446112046), (315, 0.0011617624811444175), (1010, 0.001161670510784847), (2852, 0.001161560451360606), (2100, 0.0011614932406629251), (2910, 0.0011614046845239004), (974, 0.001161373848196134), (676, 0.0011612051999171829), (783, 0.0011611766701308817), (2916, 0.0011609976263669418), (122, 0.0011609026921153972), (1360, 0.0011606944143279804), (1133, 0.0011606830427888129), (2670, 0.001160267470245895), (2041, 0.001160263314288075), (589, 0.0011601523074494917), (1335, 0.0011600081461431218), (3326, 0.0011599624436226636), (4385, 0.0011595331798613375), (1667, 0.001159488984902234), (31, 0.0011589413638382604), (2801, 0.0011588979338613575), (118, 0.0011584821967624795), (305, 0.0011579694411250165), (2038, 0.0011579049949016602), (3160, 0.0011578208972311112), (4153, 0.001157452077285158), (1778, 0.0011574394895541597), (2355, 0.0011574045489530275), (2821, 0.0011573937069570713), (3885, 0.0011572161834342888), (2210, 0.0011571604823487761), (2842, 0.0011568422641360684), (4329, 0.0011568267708005086), (4320, 0.0011566272425499072), (3991, 0.001156479297494887), (1729, 0.0011563430335964561), (3860, 0.0011562766124689984), (1846, 0.0011561974416540606), (2245, 0.0011561267866054981), (3993, 0.001156111835883085), (247, 0.0011559048338865916), (2256, 0.0011558119666747158), (3454, 0.0011558093009673626), (3562, 0.0011557720353262918), (2280, 0.0011554971317905985), (2414, 0.0011552836687544563), (1259, 0.0011552464333575694), (1521, 0.0011548737261848675), (1504, 0.0011546873476504871), (3402, 0.0011543175275591717), (4656, 0.0011542652336855922), (4024, 0.0011538443921119202), (1113, 0.0011537805787097894), (1680, 0.0011537344651707281), (516, 0.0011536624196290656), (1468, 0.0011536028289855656), (2729, 0.0011534658012380308), (3929, 0.0011533473293702952), (2029, 0.0011531785645756002), (2002, 0.0011530949217834518), (772, 0.0011529730217331253), (1694, 0.0011528134551285626), (4325, 0.0011527171899607936), (4049, 0.0011526739234049817), (3565, 0.0011523494897646852), (1459, 0.0011521010450339225), (725, 0.001152090550787309), (3633, 0.0011519008566864043), (3503, 0.0011517972214393796), (849, 0.0011515057240201753), (2573, 0.0011514976612199313), (2862, 0.0011513715778407939), (2065, 0.0011513482971637367), (1338, 0.001151238732241646), (198, 0.0011510376472822332), (4381, 0.0011508404236719803), (4256, 0.0011504846302336144), (134, 0.0011503094726076344), (3995, 0.0011501620365990586), (959, 0.001149979035020761), (1390, 0.001149770539192402), (321, 0.0011491026863625366), (731, 0.0011485281835364534), (2511, 0.0011484377612895579), (2085, 0.0011481403891999676), (1438, 0.0011481037495086578), (3318, 0.0011480682248502325), (1606, 0.001148039803336308), (80, 0.0011479861844185457), (4322, 0.0011478847859058801), (2699, 0.0011478300172370244), (214, 0.001147733800561551), (1912, 0.0011475053320154068), (3125, 0.0011473735459901708), (471, 0.0011473434163254044), (869, 0.0011472645882708923), (3601, 0.0011472633146388897), (4350, 0.0011470891191138733), (689, 0.0011470797546946608), (4543, 0.0011470765295830008), (1755, 0.0011470454005555377), (2835, 0.0011467500359256262), (3234, 0.0011466786076616139), (217, 0.0011464507373675505), (650, 0.001146370155914365), (2677, 0.00114628354234092), (4622, 0.001145995388594519), (3886, 0.0011458849456378389), (4131, 0.0011454634369882347), (4159, 0.0011452518383144024), (3824, 0.0011452264667927954), (745, 0.0011447584357062804), (1555, 0.001144645026115239), (3283, 0.0011444773751941874), (322, 0.001144166835320068), (4027, 0.001144161260163115), (1281, 0.0011437244689444244), (3641, 0.0011434195070043694), (3916, 0.0011431479312819274), (1503, 0.001143024575763678), (4441, 0.0011430227975874608), (3250, 0.0011429602651418663), (105, 0.0011428081988387525), (3985, 0.0011423829898473763), (3685, 0.0011423807182431836), (1857, 0.0011423060607444688), (1217, 0.0011422822434413204), (1638, 0.001141933524415405), (4536, 0.001141849593097491), (3678, 0.0011418407804894154), (978, 0.0011417285836037724), (3783, 0.0011416885840307264), (2007, 0.0011416555415793817), (3315, 0.0011415882141576886), (2794, 0.0011415646611516888), (1340, 0.0011413797997534667), (323, 0.0011411359120849275), (3443, 0.0011411128907314145), (1769, 0.0011410753524841277), (617, 0.0011410690221411617), (1094, 0.0011406739226560334), (3595, 0.0011406235338960223), (233, 0.0011405258556403963), (3369, 0.0011405167544588511), (678, 0.0011403651085678697), (2272, 0.0011402838297369434), (2561, 0.0011400583019106065), (1823, 0.0011399686298982667), (1785, 0.0011399625465094577), (2871, 0.0011398237262192242), (4743, 0.0011398022109652092), (2497, 0.0011396047495516746), (4599, 0.001139186016624437), (1138, 0.001139150921875261), (2859, 0.0011390349885415992), (1, 0.0011390195761994276), (2107, 0.001138560122423861), (3370, 0.0011382861647776848), (3505, 0.0011382690264768085), (797, 0.001138240861272497), (2419, 0.001138207082784316), (3984, 0.0011381333750525946), (14, 0.0011380767853865277), (215, 0.0011379749466098616), (4191, 0.001137965192133999), (608, 0.0011376037463727078), (1286, 0.0011375279724838887), (1863, 0.0011374397938377122), (912, 0.0011373920159768649), (3382, 0.001137303961446408), (291, 0.001137130244925531), (3589, 0.00113680258007941), (1031, 0.0011366515752348795), (3368, 0.0011362248214891455), (3069, 0.001135830749258451), (1255, 0.0011357291499582156), (3343, 0.0011356619060133783), (338, 0.0011355794253150359), (2224, 0.0011354563434942137), (2860, 0.0011352127460327478), (3846, 0.0011350282291534943), (4316, 0.001134894581317324), (726, 0.001134775534547631), (99, 0.0011346574744313955), (3197, 0.0011345601321086896), (3738, 0.0011345582402007138), (4179, 0.0011344905674014107), (1084, 0.0011343713550516533), (2446, 0.0011339672575308899), (4457, 0.0011338782261244478), (1584, 0.0011337687490989765), (69, 0.0011336968673958166), (3029, 0.001133675290174123), (2336, 0.0011335858473409024), (3543, 0.0011334036564392578), (2457, 0.0011333968685433035), (2716, 0.0011325974342898287), (400, 0.0011325829152526834), (3802, 0.0011324666901994316), (3192, 0.0011323556158160033), (3476, 0.0011321449139684008), (1416, 0.001132037261505043), (3298, 0.0011318377552006693), (92, 0.0011315994738232175), (2918, 0.0011314314935869415), (2325, 0.0011311569253629977), (798, 0.0011310545871954167), (1490, 0.001130652041137016), (445, 0.0011303892131762625), (4365, 0.001130157358786016), (117, 0.0011295887746751421), (4286, 0.0011292234621140197), (2586, 0.0011289318287791856), (2, 0.0011286252529809058), (2081, 0.0011284726892334667), (1061, 0.0011283621633264994), (2542, 0.0011282419938731091), (2825, 0.0011281275440991221), (694, 0.0011280430639594454), (4634, 0.0011275855497772113), (2338, 0.0011275501858096846), (2295, 0.0011275082293363888), (1528, 0.0011271561828828526), (4193, 0.0011270261942514588), (513, 0.0011265759641912784), (1601, 0.0011263769529838944), (2765, 0.0011262808151884897), (4610, 0.0011261343233178237), (2540, 0.0011256396078512666), (3090, 0.0011255924627780072), (1760, 0.0011254371169158377), (665, 0.0011250672491466328), (4468, 0.0011249692348099588), (1312, 0.0011249564706978857), (2519, 0.0011247456997257133), (2340, 0.0011246663252261738), (1529, 0.0011246286662543595), (111, 0.0011245077100582128), (2787, 0.001123742395018139), (2627, 0.0011236219496044942), (4167, 0.0011233143995636632), (2803, 0.0011233048150235435), (4352, 0.001122971493951797), (3109, 0.0011227973649605666), (1392, 0.0011227823970083872), (2652, 0.001122734099667823), (1914, 0.0011227139913945847), (1016, 0.00112263004676052), (457, 0.0011224151294837426), (2728, 0.0011223418999695314), (2270, 0.0011222098089185713), (984, 0.0011221744550714947), (2679, 0.0011221011685295648), (1633, 0.0011219322857473897), (702, 0.0011218210254348249), (3726, 0.0011216040322785084), (4246, 0.0011213239624858825), (1686, 0.0011211693075606993), (770, 0.001121112381227833), (1253, 0.0011210338892632937), (4745, 0.0011206719394838871), (2086, 0.0011206252630326376), (2204, 0.001120624994399937), (1482, 0.0011205269982198728), (4039, 0.0011201402337766894), (311, 0.0011201117073217756), (2958, 0.001120007120665635), (2131, 0.001119928295568733), (1545, 0.0011197744392852775), (1974, 0.0011197482112452132), (1309, 0.0011196590293190893), (4502, 0.0011195431028251804), (653, 0.0011193939731501746), (1496, 0.0011192470556401469), (4169, 0.0011187625180442422), (272, 0.0011186706651584992), (3705, 0.001118608301581105), (449, 0.0011184454975533239), (3585, 0.0011183740067850485), (928, 0.0011183476661726624), (4282, 0.001118146365819582), (1078, 0.001118089370686143), (3311, 0.0011179991216429452), (3147, 0.0011177081258525788), (2853, 0.0011176512471243486), (2717, 0.001117592506161422), (194, 0.0011175037951966678), (1709, 0.0011174173874854705), (1054, 0.001117410321239575), (2465, 0.0011172612299243099), (655, 0.0011172597250699123), (187, 0.0011172530728176967), (1065, 0.0011170684033330297), (1784, 0.0011168969734832864), (1106, 0.0011168510763243497), (3718, 0.001116277071871612), (2631, 0.0011160851940367647), (3116, 0.0011158080978835266), (856, 0.0011157714023994204), (4220, 0.0011157040879237342), (915, 0.001115323113460515), (4364, 0.0011148761107480265), (1903, 0.0011148672772005052), (1410, 0.001114833182699022), (53, 0.001114760817782774), (3910, 0.0011146499350074403), (4241, 0.0011144217068267198), (811, 0.001114395721391122), (1588, 0.0011142349262073593), (741, 0.0011139103488057508), (2593, 0.0011138496236266769), (4487, 0.001113770181162549), (2235, 0.001113742734612431), (97, 0.001113577412722374), (1808, 0.0011134942567213506), (1434, 0.0011133702228621415), (594, 0.0011132329919191645), (538, 0.001112830624325035), (2200, 0.0011127608818063098), (3550, 0.0011122025380924765), (335, 0.0011121789568122127), (524, 0.0011121098508279851), (1066, 0.0011113575913282105), (3035, 0.001111338148510642), (2227, 0.001111040197709293), (3175, 0.0011102907004364587), (147, 0.0011100923312051354), (1695, 0.0011100770900719823), (3896, 0.001110027336926544), (2951, 0.0011099298445251533), (3964, 0.0011093515765454533), (50, 0.0011092627287749622), (2384, 0.00110909441904898), (4174, 0.0011089848117453584), (98, 0.0011088708768418603), (1478, 0.0011088006636901639), (1295, 0.0011087963886563398), (454, 0.001108699407114169), (183, 0.0011085942158039616), (825, 0.001108114843217774), (1345, 0.0011080870563681291), (4426, 0.0011079131418382153), (4211, 0.001107718188133535), (2512, 0.0011075181245739656), (3730, 0.0011074674994952713), (3101, 0.001107102847931109), (1370, 0.0011068305965838022), (2777, 0.0011067556209793062), (1533, 0.001106683637893157), (1404, 0.0011065873355802062), (2495, 0.001106585991566687), (736, 0.0011061817273217214), (2663, 0.0011055420152593178), (3670, 0.0011054052867340203), (3241, 0.0011053738779632138), (2262, 0.0011051810590808242), (2263, 0.0011045553714940674), (804, 0.0011039290929868543), (1256, 0.0011036538828053074), (1698, 0.0011033302681389835), (935, 0.001103272078139388), (2949, 0.0011031828902681618), (3232, 0.001103006471695491), (2250, 0.0011027475060691725), (951, 0.0011023248853732123), (2954, 0.0011023057267541055), (2166, 0.0011022780826438169), (2604, 0.0011019456666780606), (3555, 0.0011018482894093874), (1458, 0.0011013495929060085), (3353, 0.0011011951897144231), (4515, 0.0011009373870780436), (1036, 0.0011008198755746027), (931, 0.0011005758114245082), (1480, 0.0011003065298526445), (1477, 0.00110022064955411), (3242, 0.0010998703304099247), (2491, 0.001099522318063514), (3590, 0.0010989974464766985), (314, 0.0010988507996987204), (1772, 0.0010987139031960246), (4437, 0.0010983587920692082), (1954, 0.0010980007347924695), (585, 0.001097913118152042), (158, 0.0010966808742493667), (1371, 0.00109661332168643), (2445, 0.0010965642165761023), (4447, 0.0010961543688439849), (4711, 0.0010959610537958232), (4262, 0.0010955231515098053), (144, 0.0010953036246870518), (1284, 0.0010951904400009049), (3739, 0.0010942395195446466), (2607, 0.001094099929885264), (2274, 0.0010940490873025464), (3136, 0.001093860598908456), (3693, 0.0010936632315942441), (3071, 0.00109330236679801), (1644, 0.0010928609271268963), (4374, 0.001092489448134443), (1300, 0.0010922710822439735), (2087, 0.001092145409847921), (558, 0.001092030499803029), (388, 0.0010918290409838065), (1816, 0.0010917992195608355), (4655, 0.0010917398994686196), (2060, 0.0010916747516429193), (3765, 0.0010914729033697824), (3944, 0.001091305380822953), (2976, 0.001090967242641722), (642, 0.0010906717760506986), (1820, 0.0010905045964522183), (1613, 0.0010901519139938922), (4290, 0.0010899489059801974), (2897, 0.0010899080393321971), (511, 0.0010888892334019417), (2779, 0.001088829902021755), (1132, 0.0010886808008009699), (2322, 0.0010884022279220621), (3563, 0.0010883656093607205), (520, 0.0010882469396886012), (3342, 0.00108818194394219), (924, 0.0010878561305095805), (286, 0.0010876754071044324), (2890, 0.0010876696907813025), (3014, 0.0010876557862280355), (2984, 0.0010871894288112711), (3803, 0.0010870579289148031), (546, 0.0010868509180344105), (1943, 0.0010866448877280114), (1430, 0.001086386510206867), (376, 0.001086147119632248), (2451, 0.0010860317749104545), (3706, 0.0010854996249776202), (1651, 0.0010854462631571373), (285, 0.001085300797904705), (3647, 0.0010851978728399915), (1214, 0.0010848719895616519), (1080, 0.0010844781027261662), (3227, 0.0010841027171138247), (3155, 0.0010835129131175224), (1180, 0.001083509843228692), (310, 0.0010834413216651445), (236, 0.0010833446610474281), (3676, 0.0010833373347256061), (42, 0.0010830794170386153), (2352, 0.001082999502378292), (1573, 0.0010824681986276422), (3137, 0.001082361588056525), (3400, 0.0010822618625256106), (4080, 0.0010822613786478615), (532, 0.0010818313873586375), (2608, 0.00108114737274703), (695, 0.0010809910590206353), (171, 0.001080273128715589), (2444, 0.0010801605536716206), (4525, 0.0010800506076184993), (3928, 0.0010794987594607462), (946, 0.0010794003584049692), (2651, 0.001079026166789206), (4206, 0.001078970497482162), (91, 0.0010785698089754664), (3538, 0.0010784961546298634), (1018, 0.0010782224976882083), (1431, 0.0010781661236244481), (2829, 0.001078032619062829), (304, 0.001077541746964906), (4164, 0.001077436527176304), (4754, 0.001077328288013475), (2590, 0.0010769410302612476), (1855, 0.0010769245896978838), (379, 0.0010768942657361923), (3756, 0.0010767559027367011), (2994, 0.0010765202106746026), (3736, 0.00107624999372129), (3277, 0.00107612857762535), (2972, 0.0010758914048903596), (4095, 0.0010756584027982645), (1154, 0.0010756259285540637), (2213, 0.001074779263864691), (1456, 0.001074280313900822), (1921, 0.0010741868300182039), (2724, 0.0010738201472684247), (3474, 0.0010737678574450167), (1096, 0.0010735548092509015), (2433, 0.0010732352141593533), (2622, 0.0010730911382745092), (3657, 0.001072699631364231), (1197, 0.0010725747399324829), (3460, 0.001072001349803797), (820, 0.0010717630391033407), (4756, 0.001071689511105545), (1042, 0.0010714647049424588), (4386, 0.0010713675126506552), (927, 0.001070581873820343), (2033, 0.001070317285181733), (3716, 0.0010702622460122566), (3393, 0.0010697792507894381), (3575, 0.0010695418092118716), (2456, 0.001069309316787864), (892, 0.001069196830883553), (359, 0.0010691450870011995), (3813, 0.0010687753816461052), (3775, 0.0010683690346209032), (1055, 0.0010680371596859394), (3712, 0.0010680022061895992), (4532, 0.0010678582659365784), (4485, 0.0010678457874494446), (941, 0.0010672514015950918), (1428, 0.0010672144335255578), (2218, 0.0010669880993808797), (2125, 0.001066759723359138), (3200, 0.0010666770202366542), (2637, 0.001066565043945262), (3390, 0.0010659222868890548), (851, 0.0010657434888381623), (2865, 0.0010656594286692419), (2441, 0.001065483186496744), (2583, 0.0010651779613053863), (2611, 0.0010648701130154337), (3855, 0.0010646985951509418), (3306, 0.0010645849697092163), (289, 0.001063882121606371), (3890, 0.001063797900991924), (1569, 0.00106379677500009), (2753, 0.0010637882700611269), (2847, 0.0010635693438857347), (394, 0.0010633458350718793), (1219, 0.001063248740718263), (1700, 0.0010632258388736011), (3965, 0.0010629744388981068), (3713, 0.001062104296504345), (1762, 0.0010620876877523568), (96, 0.0010619549070054937), (3063, 0.0010606489427345464), (2763, 0.0010605685793875304), (3495, 0.0010604528655468893), (1301, 0.0010602977952833797), (2357, 0.001060182271013941), (3143, 0.0010598090080954567), (3018, 0.0010595857738265296), (1237, 0.0010595313361747261), (2774, 0.001059340627306067), (4567, 0.0010584699643214764), (4689, 0.0010582776993845271), (2973, 0.00105808911121004), (184, 0.001057727093313453), (1524, 0.0010577018788098884), (780, 0.0010571047973015543), (1288, 0.0010565166723487617), (317, 0.0010558020340160049), (563, 0.001055545411244508), (577, 0.0010554598220135758), (4587, 0.001055307086986506), (1992, 0.0010551414010177094), (1318, 0.0010550932554098374), (2317, 0.0010543175266797553), (1626, 0.0010542193017377228), (2617, 0.0010540104812481646), (2429, 0.001053944256033364), (4003, 0.0010535950139285225), (3948, 0.0010533469193511323), (242, 0.001053000119118933), (981, 0.0010522358499214235), (1236, 0.0010511890993552262), (1100, 0.0010510453065167744), (2225, 0.0010510243491432792), (4291, 0.0010509654911710063), (816, 0.0010503194157138484), (2833, 0.001049332850030011), (1827, 0.001049081946267458), (37, 0.0010490806623701958), (1387, 0.0010489054178671247), (690, 0.0010488050908824622), (699, 0.0010483372453520036), (4366, 0.0010478037538432581), (1423, 0.0010476375823588841), (234, 0.0010474531276939265), (4212, 0.0010470324298615977), (3930, 0.0010469820837815443), (82, 0.0010468526928844128), (4498, 0.0010465982553847413), (3477, 0.0010465749699250443), (87, 0.0010463826876678803), (393, 0.0010462942718260965), (4319, 0.0010461868452035718), (1356, 0.0010459041213799981), (500, 0.0010457449192707356), (73, 0.0010454306537177665), (501, 0.0010443773138098665), (357, 0.0010439972605340803), (4432, 0.0010437588649525832), (1308, 0.0010431075202594025), (964, 0.0010428719310314133), (2168, 0.0010428195671550859), (2913, 0.0010424558508353233), (2904, 0.0010423267852905586), (1542, 0.001041949623058964), (399, 0.0010413251562987227), (1590, 0.0010408261445715695), (3683, 0.001040424178325688), (3336, 0.0010402118013236638), (3238, 0.0010399415852303214), (810, 0.0010397958466575239), (4064, 0.0010395812540059406), (569, 0.0010393978184966908), (910, 0.001039031322736378), (1562, 0.0010386858583459895), (3545, 0.001038680868435089), (707, 0.0010382855529956036), (2866, 0.0010375553044703742), (249, 0.0010375213462957362), (76, 0.0010375114595171555), (2230, 0.0010371909364066934), (1115, 0.0010371499983876842), (1900, 0.0010369302112648215), (3830, 0.0010366657954806325), (2458, 0.0010358084477519382), (1242, 0.0010353950479322783), (1251, 0.001034793298680766), (2502, 0.0010344857070478093), (3842, 0.0010342578271801837), (4476, 0.0010339454252776563), (2815, 0.0010338594213665966), (191, 0.0010338332993806482), (4253, 0.0010334141291943326), (733, 0.0010333540431549397), (668, 0.0010327235399495358), (1004, 0.0010326419962590663), (3956, 0.0010311772733499558), (4157, 0.001031093953618686), (4697, 0.001031073868244058), (257, 0.001029930765295855), (4348, 0.0010294829773526521), (1616, 0.0010294367292636598), (639, 0.001029271024428527), (803, 0.0010289195935169672), (1631, 0.0010286325985776584), (1305, 0.0010280059980540877), (2382, 0.0010267086491819808), (434, 0.0010260893594503983), (2111, 0.0010258312017498205), (1801, 0.0010249745937248693), (3082, 0.0010243847256158152), (908, 0.0010242394750292834), (1971, 0.0010241322525226732), (2509, 0.0010240499093397669), (1290, 0.0010236926048038948), (1743, 0.0010235226813755307), (3637, 0.0010222663058526325), (3546, 0.0010218540883452781), (4636, 0.0010210358682115844), (3626, 0.0010207268764544657), (605, 0.0010202372196162267), (1120, 0.0010192758330522765), (939, 0.0010188837654390257), (1673, 0.0010188686730606125), (2822, 0.0010187090891068183), (4424, 0.0010183540328958618), (498, 0.0010176425995759176), (3321, 0.0010171811135780144), (791, 0.0010146720425146846), (4247, 0.0010144060632364458), (1963, 0.0010139987415807119), (78, 0.001013423799469834), (2549, 0.0010130011076353738), (901, 0.0010124030202376144), (1691, 0.001012356562315235), (3317, 0.0010117101954304477), (843, 0.0010106821819592928), (1828, 0.0010099328185899363), (1530, 0.0010098400960034794), (4359, 0.0010098380622380694), (1039, 0.0010093922845917267), (132, 0.0010090596839771578), (756, 0.0010081016844315119), (2039, 0.0010079478521217054), (1296, 0.0010079220217156107), (801, 0.0010075377927015407), (1719, 0.0010070827866176149), (3619, 0.0010061831803827922), (3380, 0.0010059982937774311), (581, 0.001005890877971157), (3060, 0.0010049148894498278), (3569, 0.0010042524672997162), (3548, 0.0010042283982820016), (1632, 0.001003887122550982), (2580, 0.0010011299492418127), (706, 0.0010008633788922419), (1553, 0.0009996272165255736), (4568, 0.000999528182986609), (1156, 0.0009993797849135772), (3331, 0.0009988525747599679), (2527, 0.0009977832990336808), (1534, 0.0009972267546344516), (4096, 0.000996646300491847), (352, 0.0009965068011563876), (2771, 0.0009958884234799817), (1062, 0.000995883445698464), (2770, 0.000992430455741916), (2845, 0.000991246413979964), (522, 0.0009896058005179067), (2001, 0.0009891075227868226), (319, 0.0009887708048029664), (196, 0.0009883441449593437), (4598, 0.0009872882776818276), (626, 0.0009867338439212092), (1608, 0.0009863032945946044), (1576, 0.0009848476040868112), (2028, 0.0009844591757149606), (2271, 0.000981571294072999), (3843, 0.0009808046548381829), (4414, 0.0009800027255665487), (786, 0.0009795155302297154), (2364, 0.0009792576004647618), (4513, 0.0009789023251611671), (723, 0.000978389898497769), (1038, 0.0009767613700855061), (3267, 0.0009762612669630803), (2907, 0.0009762421652247425), (1212, 0.0009748663315072957), (571, 0.0009748408075251105), (3856, 0.000974506441057112), (469, 0.0009716171644901071), (1944, 0.000970804593088687), (1677, 0.0009704343572421315), (4652, 0.0009697868125648463), (3405, 0.0009689349315107453), (1352, 0.0009677010025188767), (2132, 0.0009674385183855912), (953, 0.0009673232838886449), (506, 0.000966428654414065), (1776, 0.0009636280518781217), (1303, 0.0009630510966899043), (2526, 0.00096276648953194), (3764, 0.0009610827680713116), (1222, 0.0009603776108002253), (3339, 0.0009600978363968157), (1366, 0.0009599706960132539), (4266, 0.0009597943123583155), (1739, 0.0009595140354916724), (3533, 0.0009591481109287108), (709, 0.0009575422452859654), (621, 0.000956791588016069), (290, 0.0009552760825646195), (616, 0.0009546475953544229), (1221, 0.0009535744955444394), (4214, 0.0009535122253180905), (381, 0.0009528363925762834), (789, 0.0009524802747819893), (435, 0.0009516073825745916), (2287, 0.0009511226583597432), (121, 0.0009499305610316054), (738, 0.00094988598322777), (1344, 0.0009496862240495736), (3891, 0.0009442271358387044), (4736, 0.0009436948715092483), (195, 0.0009415122219662405), (2766, 0.0009411720780359166), (1981, 0.0009411377697094515), (562, 0.0009404803692289386), (366, 0.0009392895534462397), (2359, 0.000938830292485373), (2541, 0.0009358449345020688), (807, 0.0009357440801849701), (2788, 0.000933112900438485), (2220, 0.0009329687448935306), (2447, 0.0009326419126734404), (148, 0.0009321248072086761), (2508, 0.0009312392399585762), (837, 0.0009311125782072655), (1326, 0.0009285727222133786), (601, 0.0009268369181455642), (3056, 0.0009265207391365595), (278, 0.0009264769442402309), (3600, 0.0009261609512533107), (1646, 0.0009225847009101577), (163, 0.0009204069379975596), (2078, 0.0009203043167228462), (2855, 0.0009187130130034934), (3971, 0.000918219362277529), (228, 0.0009170630050121674), (2296, 0.0009130632048110754), (432, 0.0009121466436128686), (1883, 0.0009100278000650971), (4445, 0.0009093990353695365), (2925, 0.0009074312610086302), (2412, 0.0009038633109500812), (3252, 0.0009027393662102848), (926, 0.0008997939212744978), (77, 0.000897239235720654), (3198, 0.0008926637976463276), (2671, 0.0008923669134694594), (295, 0.0008901075039832392), (4674, 0.0008899209301819202), (2398, 0.0008865350679966887), (4261, 0.0008862619179979616), (1268, 0.0008812343188284102), (4200, 0.0008782322983159024), (641, 0.0008777619879891676), (881, 0.000876839116523845), (2758, 0.0008759859869880462), (433, 0.0008754704129485607), (3698, 0.0008737605311486476), (1747, 0.0008708254482620946), (351, 0.0008697731871133462), (369, 0.0008691959728025909), (237, 0.0008681542295929233), (440, 0.0008678226830637475), (1362, 0.000864546989357659), (2734, 0.0008603947574455997), (1210, 0.0008550660066560468), (1153, 0.0008392402389758938), (283, 0.0008357509548690971), (2562, 0.0008235994407812171), (1987, 0.000821274114263252), (2902, 0.0008200468877173), (1088, 0.0008148166253146368), (542, 0.0008136524854034879), (1509, 0.0007951309960758501), (129, 0.0007926706285004598), (740, 0.0007840816117095767), (294, 0.0007796367258072191), (3223, 0.0007708221440306778), (3429, 0.0007682302858719545), (24, 0.0007649991914468419), (2814, 0.0007625505634534762), (1780, 0.000759727152855043), (2219, 0.0007181384590013691), (2118, 0.0007114239070542431), (2534, 0.0004994362138758929), (16, 0.0), (32, 0.0), (58, 0.0), (64, 0.0), (103, 0.0), (140, 0.0), (149, 0.0), (156, 0.0), (157, 0.0), (165, 0.0), (186, 0.0), (197, 0.0), (202, 0.0), (252, 0.0), (267, 0.0), (396, 0.0), (429, 0.0), (453, 0.0), (480, 0.0), (559, 0.0), (611, 0.0), (624, 0.0), (644, 0.0), (645, 0.0), (646, 0.0), (647, 0.0), (693, 0.0), (698, 0.0), (766, 0.0), (838, 0.0), (861, 0.0), (882, 0.0), (986, 0.0), (1019, 0.0), (1081, 0.0), (1160, 0.0), (1161, 0.0), (1171, 0.0), (1183, 0.0), (1201, 0.0), (1209, 0.0), (1276, 0.0), (1285, 0.0), (1320, 0.0), (1546, 0.0), (1623, 0.0), (1627, 0.0), (1745, 0.0), (1753, 0.0), (1800, 0.0), (1884, 0.0), (1892, 0.0), (1972, 0.0), (2025, 0.0), (2063, 0.0), (2080, 0.0), (2099, 0.0), (2127, 0.0), (2135, 0.0), (2275, 0.0), (2288, 0.0), (2289, 0.0), (2326, 0.0), (2331, 0.0), (2361, 0.0), (2394, 0.0), (2401, 0.0), (2424, 0.0), (2475, 0.0), (2504, 0.0), (2506, 0.0), (2520, 0.0), (2544, 0.0), (2556, 0.0), (2602, 0.0), (2674, 0.0), (2697, 0.0), (2849, 0.0), (2886, 0.0), (2900, 0.0), (3024, 0.0), (3037, 0.0), (3038, 0.0), (3057, 0.0), (3059, 0.0), (3065, 0.0), (3079, 0.0), (3118, 0.0), (3138, 0.0), (3170, 0.0), (3199, 0.0), (3214, 0.0), (3254, 0.0), (3258, 0.0), (3268, 0.0), (3274, 0.0), (3296, 0.0), (3347, 0.0), (3349, 0.0), (3392, 0.0), (3394, 0.0), (3481, 0.0), (3526, 0.0), (3527, 0.0), (3530, 0.0), (3534, 0.0), (3608, 0.0), (3615, 0.0), (3627, 0.0), (3629, 0.0), (3634, 0.0), (3645, 0.0), (3651, 0.0), (3669, 0.0), (3719, 0.0), (3721, 0.0), (3755, 0.0), (3761, 0.0), (3805, 0.0), (3806, 0.0), (3898, 0.0), (3952, 0.0), (3986, 0.0), (4014, 0.0), (4066, 0.0), (4079, 0.0), (4084, 0.0), (4129, 0.0), (4144, 0.0), (4171, 0.0), (4228, 0.0), (4229, 0.0), (4232, 0.0), (4243, 0.0), (4250, 0.0), (4254, 0.0), (4288, 0.0), (4296, 0.0), (4304, 0.0), (4308, 0.0), (4315, 0.0), (4326, 0.0), (4390, 0.0), (4413, 0.0), (4429, 0.0), (4434, 0.0), (4439, 0.0), (4455, 0.0), (4458, 0.0), (4461, 0.0), (4463, 0.0), (4475, 0.0), (4512, 0.0), (4519, 0.0), (4520, 0.0), (4528, 0.0), (4553, 0.0), (4561, 0.0), (4562, 0.0), (4565, 0.0), (4589, 0.0), (4593, 0.0), (4603, 0.0), (4616, 0.0), (4626, 0.0), (4631, 0.0), (4643, 0.0), (4651, 0.0), (4693, 0.0), (4712, 0.0), (4723, 0.0), (4729, 0.0), (4734, 0.0), (4744, 0.0), (4752, 0.0)]\n"
          ]
        }
      ]
    },
    {
      "cell_type": "code",
      "source": [
        "# print name of the similar movies based on index\n",
        "print('Top 30 movies suggested for you: \\n')\n",
        "i = 1\n",
        "for movie in sorted_similar_movies:\n",
        "  index = movie[0]\n",
        "  title_from_index = movies[movies.index == index]['Movie_Title'].values[0]\n",
        "  if (i<31):\n",
        "    print(i, '.', title_from_index)\n",
        "    i+=1"
      ],
      "metadata": {
        "colab": {
          "base_uri": "https://localhost:8080/"
        },
        "id": "Cd41rkkLUlxi",
        "outputId": "8c875f77-b136-41c6-a9ac-c6c2ac04f9a1"
      },
      "execution_count": 122,
      "outputs": [
        {
          "output_type": "stream",
          "name": "stdout",
          "text": [
            "Top 30 movies suggested for you: \n",
            "\n",
            "1 . Niagara\n",
            "2 . Night of the Living Dead\n",
            "3 . Caravans\n",
            "4 . The Misfits\n",
            "5 . Some Like It Hot\n",
            "6 . The Kentucky Fried Movie\n",
            "7 . Mad Max 2: The Road Warrior\n",
            "8 . Superman III\n",
            "9 . The Boat That Rocked\n",
            "10 . Raging Bull\n",
            "11 . Duel in the Sun\n",
            "12 . The Robe\n",
            "13 . Speed 2: Cruise Control\n",
            "14 . All That Jazz\n",
            "15 . The Change-Up\n",
            "16 . Tora! Tora! Tora!\n",
            "17 . The Lazarus Effect\n",
            "18 . Beyond the Black Rainbow\n",
            "19 . The Boy Next Door\n",
            "20 . No Man's Land: The Rise of Reeker\n",
            "21 . Running with Scissors\n",
            "22 . Anne of Green Gables\n",
            "23 . Michael Jordan to the Max\n",
            "24 . The Odd Life of Timothy Green\n",
            "25 . Brokeback Mountain\n",
            "26 . Camping Sauvage\n",
            "27 . Twister\n",
            "28 . The Legend of Tarzan\n",
            "29 . A Mighty Heart\n",
            "30 . To Kill a Mockingbird\n"
          ]
        }
      ]
    },
    {
      "cell_type": "code",
      "source": [],
      "metadata": {
        "id": "3wr-qGNtYPpV"
      },
      "execution_count": null,
      "outputs": []
    },
    {
      "cell_type": "markdown",
      "source": [
        "**TOP 10 MOVIE RECOMMENDATION SYSTEM**"
      ],
      "metadata": {
        "id": "LWiU1NcBYaDa"
      }
    },
    {
      "cell_type": "code",
      "source": [
        "movie_name = input('Enter your favourite movie name: ')\n",
        "\n",
        "list_of_all_movies = movies['Movie_Title'].tolist()\n",
        "find_close_match = difflib.get_close_matches(movie_name, list_of_all_movies)\n",
        "close_match = find_close_match[0]\n",
        "index_of_movie = movies[movies.Movie_Title == close_match]['Movie_ID'].values[0]\n",
        "recommendation_score = list(enumerate(similarity_score[index_of_movie]))\n",
        "sorted_similar_movies = sorted(recommendation_score, key = lambda x:x[1], reverse = True)\n",
        "print('Top 10 movies suggested for you : \\n')\n",
        "i = 1\n",
        "for movie in sorted_similar_movies:\n",
        "  index = movie[0]\n",
        "  title_from_index = movies[movies.index == index]['Movie_Title'].values[0]\n",
        "  if (i<11):\n",
        "    print(i, '.', title_from_index)\n",
        "    i+=1"
      ],
      "metadata": {
        "colab": {
          "base_uri": "https://localhost:8080/"
        },
        "id": "UMcNqY7MUlz7",
        "outputId": "5a13559b-3b0a-43e4-c802-894e8c1ee143"
      },
      "execution_count": 123,
      "outputs": [
        {
          "output_type": "stream",
          "name": "stdout",
          "text": [
            "Enter your favourite movie name: avtaar\n",
            "Top 10 movies suggested for you : \n",
            "\n",
            "1 . Niagara\n",
            "2 . Night of the Living Dead\n",
            "3 . Caravans\n",
            "4 . The Misfits\n",
            "5 . Some Like It Hot\n",
            "6 . The Kentucky Fried Movie\n",
            "7 . Mad Max 2: The Road Warrior\n",
            "8 . Superman III\n",
            "9 . The Boat That Rocked\n",
            "10 . Raging Bull\n"
          ]
        }
      ]
    }
  ]
}